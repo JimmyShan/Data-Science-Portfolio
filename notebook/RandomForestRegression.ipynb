{
 "cells": [
  {
   "cell_type": "markdown",
   "metadata": {},
   "source": [
    "# Random Forest regression\n",
    "---"
   ]
  },
  {
   "cell_type": "markdown",
   "metadata": {},
   "source": [
    "Using RandomForestRegressor to build prediction model"
   ]
  },
  {
   "cell_type": "markdown",
   "metadata": {},
   "source": [
    "## Import libraries and data"
   ]
  },
  {
   "cell_type": "code",
   "execution_count": 1,
   "metadata": {
    "collapsed": true
   },
   "outputs": [],
   "source": [
    "# import library\n",
    "import pandas as pd\n",
    "import numpy as np\n",
    "import matplotlib.pyplot as plt\n",
    "import seaborn as sns\n",
    "%matplotlib inline"
   ]
  },
  {
   "cell_type": "code",
   "execution_count": 2,
   "metadata": {
    "collapsed": true
   },
   "outputs": [],
   "source": [
    "# read DataFrame\n",
    "df = pd.read_csv(\"../notebook/data/ny_rental_data_cleaned.r2.csv\")"
   ]
  },
  {
   "cell_type": "markdown",
   "metadata": {},
   "source": [
    "## Read DataFrame and split into test/train samples"
   ]
  },
  {
   "cell_type": "code",
   "execution_count": 3,
   "metadata": {
    "collapsed": true
   },
   "outputs": [],
   "source": [
    "# features used for linear regression\n",
    "df_base = df[[\"longitude\",\"latitude\",\"bathrooms\",\"bedrooms\",\"leaseLength\",\"rating\",\"sqft\",\"pet_cat\",\"pet_dog\",\"built_year\",\"property_size\"]]\n",
    "df_extra = df.filter(regex=\"amenity\")\n",
    "\n",
    "# concatenate DataFrames\n",
    "X = pd.concat([df_base, df_extra],  axis=1)\n",
    "\n",
    "# target of the regression model\n",
    "y = df[\"rent\"]"
   ]
  },
  {
   "cell_type": "code",
   "execution_count": 4,
   "metadata": {
    "collapsed": true
   },
   "outputs": [],
   "source": [
    "# split the sample into train and test sample\n",
    "from sklearn.model_selection import train_test_split\n",
    "X_train, X_test, y_train, y_test = train_test_split(X,y, test_size=0.3)"
   ]
  },
  {
   "cell_type": "markdown",
   "metadata": {},
   "source": [
    "## RandomForestRegressor"
   ]
  },
  {
   "cell_type": "code",
   "execution_count": 5,
   "metadata": {
    "collapsed": true
   },
   "outputs": [],
   "source": [
    "from sklearn.ensemble import RandomForestRegressor\n",
    "\n",
    "# initialize decision tree regressor\n",
    "model = RandomForestRegressor(max_features=8, n_estimators=20)"
   ]
  },
  {
   "cell_type": "markdown",
   "metadata": {},
   "source": [
    "### Estimate mean squared error"
   ]
  },
  {
   "cell_type": "code",
   "execution_count": 6,
   "metadata": {},
   "outputs": [
    {
     "name": "stdout",
     "output_type": "stream",
     "text": [
      "5418875.39546\n"
     ]
    }
   ],
   "source": [
    "# fit train sample\n",
    "model.fit(X_train, y_train)\n",
    "\n",
    "# prediction\n",
    "y_prediction_test = model.predict(X_test)\n",
    "\n",
    "from sklearn import metrics\n",
    "print(metrics.mean_squared_error(y_test,y_prediction_test))"
   ]
  },
  {
   "cell_type": "markdown",
   "metadata": {},
   "source": [
    "### Learning curves"
   ]
  },
  {
   "cell_type": "code",
   "execution_count": 7,
   "metadata": {
    "collapsed": true
   },
   "outputs": [],
   "source": [
    "# lists to hold train and test error\n",
    "error_train, error_test = [], []\n",
    "\n",
    "# step size for learning curve\n",
    "step_size = 20\n",
    "itr = 0"
   ]
  },
  {
   "cell_type": "code",
   "execution_count": 8,
   "metadata": {},
   "outputs": [],
   "source": [
    "# iterate with specified step size\n",
    "while True:\n",
    "\n",
    "    # increase step\n",
    "    itr = itr + 1\n",
    "\n",
    "    # set sample size\n",
    "    size = itr * step_size\n",
    "\n",
    "\n",
    "    # limited sample size is smaller than the whole sample\n",
    "    if size < len(X_train):\n",
    "\n",
    "        # fit model with limited sample size\n",
    "        model.fit(X_train[:size], y_train[:size])\n",
    "\n",
    "        # make prediction on train and test samples\n",
    "        y_prediction_train = model.predict(X_train[:size])\n",
    "        y_prediction_test = model.predict(X_test)\n",
    "\n",
    "        # record mean squared error on train and test samples\n",
    "        error_train.append(metrics.mean_squared_error(y_train[:size],y_prediction_train))\n",
    "        error_test.append(metrics.mean_squared_error(y_test,y_prediction_test))\n",
    "        \n",
    "    # calculate train/test error using the entire set\n",
    "    else:\n",
    "\n",
    "        # fit model with limited sample size\n",
    "        model.fit(X_train[:size], y_train[:size])\n",
    "\n",
    "        # make prediction on train and test samples\n",
    "        y_prediction_train = model.predict(X_train[:size])\n",
    "        y_prediction_test = model.predict(X_test[:size])\n",
    "\n",
    "        # record mean squared error on train and test samples\n",
    "        error_train.append(metrics.mean_squared_error(y_train[:size],y_prediction_train))\n",
    "        error_test.append(metrics.mean_squared_error(y_test,y_prediction_test))\n",
    "\n",
    "        # break out of while loop\n",
    "        break;"
   ]
  },
  {
   "cell_type": "code",
   "execution_count": 9,
   "metadata": {},
   "outputs": [
    {
     "data": {
      "text/plain": [
       "(0, 5000)"
      ]
     },
     "execution_count": 9,
     "metadata": {},
     "output_type": "execute_result"
    },
    {
     "data": {
      "image/png": "[encoded data removed]",
      "text/plain": [
       "<matplotlib.figure.Figure at 0x115f7cdd8>"
      ]
     },
     "metadata": {},
     "output_type": "display_data"
    }
   ],
   "source": [
    "# create axes\n",
    "fig, ax = plt.subplots(1,1,figsize=(8,5))\n",
    "\n",
    "# plot learning curve\n",
    "ax.plot(np.sqrt(error_train), \"r-+\", linewidth=2, label=\"Train error\")\n",
    "ax.plot(np.sqrt(error_test), \"b-x\", linewidth=2, label=\"Test error\")\n",
    "\n",
    "# customize plots\n",
    "ax = plt.gca()\n",
    "ax.legend()\n",
    "ax.set_ylim([0,5000])"
   ]
  },
  {
   "cell_type": "code",
   "execution_count": null,
   "metadata": {
    "collapsed": true
   },
   "outputs": [],
   "source": []
  }
 ],
 "metadata": {
  "kernelspec": {
   "display_name": "Python 3",
   "language": "python",
   "name": "python3"
  },
  "language_info": {
   "codemirror_mode": {
    "name": "ipython",
    "version": 3
   },
   "file_extension": ".py",
   "mimetype": "text/x-python",
   "name": "python",
   "nbconvert_exporter": "python",
   "pygments_lexer": "ipython3",
   "version": "3.6.1"
  }
 },
 "nbformat": 4,
 "nbformat_minor": 2
}
