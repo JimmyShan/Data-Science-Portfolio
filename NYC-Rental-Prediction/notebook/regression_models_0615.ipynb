{
 "cells": [
  {
   "cell_type": "markdown",
   "metadata": {},
   "source": [
    "# RandomForest and GradientBoosting Regression\n",
    "---"
   ]
  },
  {
   "cell_type": "markdown",
   "metadata": {},
   "source": [
    "In this notebook, regression models are built for predicting apartment rent in NYC.\n",
    "\n",
    "First, DataFrame containing features such as location, number of bedrooms and bathrooms, and amenities are read from a file. The samples are split into train and test dataset, and regression models are optimized using cross-validation.\n",
    "\n",
    "Then the performance of two regression models, RandomForest and GradientBoosting, are compared."
   ]
  },
  {
   "cell_type": "markdown",
   "metadata": {},
   "source": [
    "## Import libraries and data"
   ]
  },
  {
   "cell_type": "code",
   "execution_count": 1,
   "metadata": {},
   "outputs": [],
   "source": [
    "import pandas as pd\n",
    "import numpy as np\n",
    "import matplotlib.pyplot as plt\n",
    "import seaborn as sns\n",
    "\n",
    "%matplotlib inline"
   ]
  },
  {
   "cell_type": "code",
   "execution_count": 2,
   "metadata": {},
   "outputs": [],
   "source": [
    "# set style sheet\n",
    "plt.style.use(\"ggplot\")\n",
    "sns.set_style(\"whitegrid\")\n",
    "#sns.set_style(\"white\")"
   ]
  },
  {
   "cell_type": "code",
   "execution_count": 3,
   "metadata": {},
   "outputs": [],
   "source": [
    "# import cleaned dataset\n",
    "df = pd.read_csv(\"data/ny_rental_data_cleaned.csv\", index_col=0)"
   ]
  },
  {
   "cell_type": "code",
   "execution_count": 4,
   "metadata": {},
   "outputs": [
    {
     "data": {
      "text/html": [
       "<div>\n",
       "<style scoped>\n",
       "    .dataframe tbody tr th:only-of-type {\n",
       "        vertical-align: middle;\n",
       "    }\n",
       "\n",
       "    .dataframe tbody tr th {\n",
       "        vertical-align: top;\n",
       "    }\n",
       "\n",
       "    .dataframe thead th {\n",
       "        text-align: right;\n",
       "    }\n",
       "</style>\n",
       "<table border=\"1\" class=\"dataframe\">\n",
       "  <thead>\n",
       "    <tr style=\"text-align: right;\">\n",
       "      <th></th>\n",
       "      <th>rating</th>\n",
       "      <th>bedrooms</th>\n",
       "      <th>bathrooms</th>\n",
       "      <th>rent</th>\n",
       "      <th>sqft</th>\n",
       "      <th>pet_cat</th>\n",
       "      <th>pet_dog</th>\n",
       "      <th>built_year</th>\n",
       "      <th>apartment_age</th>\n",
       "      <th>property_size</th>\n",
       "      <th>...</th>\n",
       "      <th>amenity_tub</th>\n",
       "      <th>amenity_views</th>\n",
       "      <th>amenity_walk-in closets</th>\n",
       "      <th>amenity_washer/dryer</th>\n",
       "      <th>amenity_wheelchair</th>\n",
       "      <th>amenity_wifi</th>\n",
       "      <th>amenity_yoga studio</th>\n",
       "      <th>total_amenties</th>\n",
       "      <th>avg_school_rating</th>\n",
       "      <th>private_school_count</th>\n",
       "    </tr>\n",
       "  </thead>\n",
       "  <tbody>\n",
       "    <tr>\n",
       "      <th>count</th>\n",
       "      <td>5320.000000</td>\n",
       "      <td>5320.000000</td>\n",
       "      <td>5320.000000</td>\n",
       "      <td>5320.000000</td>\n",
       "      <td>5320.000000</td>\n",
       "      <td>5320.000000</td>\n",
       "      <td>5320.000000</td>\n",
       "      <td>5320.00000</td>\n",
       "      <td>5320.00000</td>\n",
       "      <td>5320.000000</td>\n",
       "      <td>...</td>\n",
       "      <td>5320.000000</td>\n",
       "      <td>5320.000000</td>\n",
       "      <td>5320.000000</td>\n",
       "      <td>5320.000000</td>\n",
       "      <td>5320.000000</td>\n",
       "      <td>5320.000000</td>\n",
       "      <td>5320.000000</td>\n",
       "      <td>5320.000000</td>\n",
       "      <td>3159.000000</td>\n",
       "      <td>5320.000000</td>\n",
       "    </tr>\n",
       "    <tr>\n",
       "      <th>mean</th>\n",
       "      <td>4.373872</td>\n",
       "      <td>1.577256</td>\n",
       "      <td>1.210150</td>\n",
       "      <td>3079.002162</td>\n",
       "      <td>839.121776</td>\n",
       "      <td>0.606015</td>\n",
       "      <td>0.583271</td>\n",
       "      <td>1999.93703</td>\n",
       "      <td>19.06297</td>\n",
       "      <td>464.747744</td>\n",
       "      <td>...</td>\n",
       "      <td>0.092669</td>\n",
       "      <td>0.133083</td>\n",
       "      <td>0.115789</td>\n",
       "      <td>0.265414</td>\n",
       "      <td>0.125376</td>\n",
       "      <td>0.203383</td>\n",
       "      <td>0.008083</td>\n",
       "      <td>11.154699</td>\n",
       "      <td>5.661102</td>\n",
       "      <td>1.361654</td>\n",
       "    </tr>\n",
       "    <tr>\n",
       "      <th>std</th>\n",
       "      <td>0.625246</td>\n",
       "      <td>1.040833</td>\n",
       "      <td>0.440276</td>\n",
       "      <td>1687.437475</td>\n",
       "      <td>361.107835</td>\n",
       "      <td>0.488678</td>\n",
       "      <td>0.493064</td>\n",
       "      <td>23.85322</td>\n",
       "      <td>23.85322</td>\n",
       "      <td>1158.350711</td>\n",
       "      <td>...</td>\n",
       "      <td>0.289996</td>\n",
       "      <td>0.339696</td>\n",
       "      <td>0.320002</td>\n",
       "      <td>0.441595</td>\n",
       "      <td>0.331176</td>\n",
       "      <td>0.402553</td>\n",
       "      <td>0.089548</td>\n",
       "      <td>10.011590</td>\n",
       "      <td>1.769189</td>\n",
       "      <td>1.370339</td>\n",
       "    </tr>\n",
       "    <tr>\n",
       "      <th>min</th>\n",
       "      <td>1.000000</td>\n",
       "      <td>0.000000</td>\n",
       "      <td>1.000000</td>\n",
       "      <td>600.000000</td>\n",
       "      <td>100.000000</td>\n",
       "      <td>0.000000</td>\n",
       "      <td>0.000000</td>\n",
       "      <td>1865.00000</td>\n",
       "      <td>0.00000</td>\n",
       "      <td>4.000000</td>\n",
       "      <td>...</td>\n",
       "      <td>0.000000</td>\n",
       "      <td>0.000000</td>\n",
       "      <td>0.000000</td>\n",
       "      <td>0.000000</td>\n",
       "      <td>0.000000</td>\n",
       "      <td>0.000000</td>\n",
       "      <td>0.000000</td>\n",
       "      <td>0.000000</td>\n",
       "      <td>2.000000</td>\n",
       "      <td>0.000000</td>\n",
       "    </tr>\n",
       "    <tr>\n",
       "      <th>25%</th>\n",
       "      <td>4.000000</td>\n",
       "      <td>1.000000</td>\n",
       "      <td>1.000000</td>\n",
       "      <td>1995.000000</td>\n",
       "      <td>650.000000</td>\n",
       "      <td>0.000000</td>\n",
       "      <td>0.000000</td>\n",
       "      <td>2007.00000</td>\n",
       "      <td>12.00000</td>\n",
       "      <td>270.000000</td>\n",
       "      <td>...</td>\n",
       "      <td>0.000000</td>\n",
       "      <td>0.000000</td>\n",
       "      <td>0.000000</td>\n",
       "      <td>0.000000</td>\n",
       "      <td>0.000000</td>\n",
       "      <td>0.000000</td>\n",
       "      <td>0.000000</td>\n",
       "      <td>2.000000</td>\n",
       "      <td>4.250000</td>\n",
       "      <td>0.000000</td>\n",
       "    </tr>\n",
       "    <tr>\n",
       "      <th>50%</th>\n",
       "      <td>4.000000</td>\n",
       "      <td>1.000000</td>\n",
       "      <td>1.000000</td>\n",
       "      <td>2600.000000</td>\n",
       "      <td>778.000000</td>\n",
       "      <td>1.000000</td>\n",
       "      <td>1.000000</td>\n",
       "      <td>2007.00000</td>\n",
       "      <td>12.00000</td>\n",
       "      <td>270.000000</td>\n",
       "      <td>...</td>\n",
       "      <td>0.000000</td>\n",
       "      <td>0.000000</td>\n",
       "      <td>0.000000</td>\n",
       "      <td>0.000000</td>\n",
       "      <td>0.000000</td>\n",
       "      <td>0.000000</td>\n",
       "      <td>0.000000</td>\n",
       "      <td>7.000000</td>\n",
       "      <td>5.750000</td>\n",
       "      <td>2.000000</td>\n",
       "    </tr>\n",
       "    <tr>\n",
       "      <th>75%</th>\n",
       "      <td>5.000000</td>\n",
       "      <td>2.000000</td>\n",
       "      <td>1.000000</td>\n",
       "      <td>3694.250000</td>\n",
       "      <td>1000.000000</td>\n",
       "      <td>1.000000</td>\n",
       "      <td>1.000000</td>\n",
       "      <td>2007.00000</td>\n",
       "      <td>12.00000</td>\n",
       "      <td>359.000000</td>\n",
       "      <td>...</td>\n",
       "      <td>0.000000</td>\n",
       "      <td>0.000000</td>\n",
       "      <td>0.000000</td>\n",
       "      <td>1.000000</td>\n",
       "      <td>0.000000</td>\n",
       "      <td>0.000000</td>\n",
       "      <td>0.000000</td>\n",
       "      <td>20.000000</td>\n",
       "      <td>7.000000</td>\n",
       "      <td>2.000000</td>\n",
       "    </tr>\n",
       "    <tr>\n",
       "      <th>max</th>\n",
       "      <td>5.000000</td>\n",
       "      <td>6.000000</td>\n",
       "      <td>6.000000</td>\n",
       "      <td>57000.000000</td>\n",
       "      <td>9999.000000</td>\n",
       "      <td>1.000000</td>\n",
       "      <td>1.000000</td>\n",
       "      <td>2019.00000</td>\n",
       "      <td>154.00000</td>\n",
       "      <td>12271.000000</td>\n",
       "      <td>...</td>\n",
       "      <td>1.000000</td>\n",
       "      <td>1.000000</td>\n",
       "      <td>1.000000</td>\n",
       "      <td>1.000000</td>\n",
       "      <td>1.000000</td>\n",
       "      <td>1.000000</td>\n",
       "      <td>1.000000</td>\n",
       "      <td>31.000000</td>\n",
       "      <td>9.400000</td>\n",
       "      <td>11.000000</td>\n",
       "    </tr>\n",
       "  </tbody>\n",
       "</table>\n",
       "<p>8 rows × 81 columns</p>\n",
       "</div>"
      ],
      "text/plain": [
       "            rating     bedrooms    bathrooms          rent         sqft  \\\n",
       "count  5320.000000  5320.000000  5320.000000   5320.000000  5320.000000   \n",
       "mean      4.373872     1.577256     1.210150   3079.002162   839.121776   \n",
       "std       0.625246     1.040833     0.440276   1687.437475   361.107835   \n",
       "min       1.000000     0.000000     1.000000    600.000000   100.000000   \n",
       "25%       4.000000     1.000000     1.000000   1995.000000   650.000000   \n",
       "50%       4.000000     1.000000     1.000000   2600.000000   778.000000   \n",
       "75%       5.000000     2.000000     1.000000   3694.250000  1000.000000   \n",
       "max       5.000000     6.000000     6.000000  57000.000000  9999.000000   \n",
       "\n",
       "           pet_cat      pet_dog  built_year  apartment_age  property_size  \\\n",
       "count  5320.000000  5320.000000  5320.00000     5320.00000    5320.000000   \n",
       "mean      0.606015     0.583271  1999.93703       19.06297     464.747744   \n",
       "std       0.488678     0.493064    23.85322       23.85322    1158.350711   \n",
       "min       0.000000     0.000000  1865.00000        0.00000       4.000000   \n",
       "25%       0.000000     0.000000  2007.00000       12.00000     270.000000   \n",
       "50%       1.000000     1.000000  2007.00000       12.00000     270.000000   \n",
       "75%       1.000000     1.000000  2007.00000       12.00000     359.000000   \n",
       "max       1.000000     1.000000  2019.00000      154.00000   12271.000000   \n",
       "\n",
       "               ...           amenity_tub  amenity_views  \\\n",
       "count          ...           5320.000000    5320.000000   \n",
       "mean           ...              0.092669       0.133083   \n",
       "std            ...              0.289996       0.339696   \n",
       "min            ...              0.000000       0.000000   \n",
       "25%            ...              0.000000       0.000000   \n",
       "50%            ...              0.000000       0.000000   \n",
       "75%            ...              0.000000       0.000000   \n",
       "max            ...              1.000000       1.000000   \n",
       "\n",
       "       amenity_walk-in closets  amenity_washer/dryer  amenity_wheelchair  \\\n",
       "count              5320.000000           5320.000000         5320.000000   \n",
       "mean                  0.115789              0.265414            0.125376   \n",
       "std                   0.320002              0.441595            0.331176   \n",
       "min                   0.000000              0.000000            0.000000   \n",
       "25%                   0.000000              0.000000            0.000000   \n",
       "50%                   0.000000              0.000000            0.000000   \n",
       "75%                   0.000000              1.000000            0.000000   \n",
       "max                   1.000000              1.000000            1.000000   \n",
       "\n",
       "       amenity_wifi  amenity_yoga studio  total_amenties  avg_school_rating  \\\n",
       "count   5320.000000          5320.000000     5320.000000        3159.000000   \n",
       "mean       0.203383             0.008083       11.154699           5.661102   \n",
       "std        0.402553             0.089548       10.011590           1.769189   \n",
       "min        0.000000             0.000000        0.000000           2.000000   \n",
       "25%        0.000000             0.000000        2.000000           4.250000   \n",
       "50%        0.000000             0.000000        7.000000           5.750000   \n",
       "75%        0.000000             0.000000       20.000000           7.000000   \n",
       "max        1.000000             1.000000       31.000000           9.400000   \n",
       "\n",
       "       private_school_count  \n",
       "count           5320.000000  \n",
       "mean               1.361654  \n",
       "std                1.370339  \n",
       "min                0.000000  \n",
       "25%                0.000000  \n",
       "50%                2.000000  \n",
       "75%                2.000000  \n",
       "max               11.000000  \n",
       "\n",
       "[8 rows x 81 columns]"
      ]
     },
     "execution_count": 4,
     "metadata": {},
     "output_type": "execute_result"
    }
   ],
   "source": [
    "df.describe()"
   ]
  },
  {
   "cell_type": "code",
   "execution_count": 5,
   "metadata": {},
   "outputs": [
    {
     "data": {
      "text/html": [
       "<div>\n",
       "<style scoped>\n",
       "    .dataframe tbody tr th:only-of-type {\n",
       "        vertical-align: middle;\n",
       "    }\n",
       "\n",
       "    .dataframe tbody tr th {\n",
       "        vertical-align: top;\n",
       "    }\n",
       "\n",
       "    .dataframe thead th {\n",
       "        text-align: right;\n",
       "    }\n",
       "</style>\n",
       "<table border=\"1\" class=\"dataframe\">\n",
       "  <thead>\n",
       "    <tr style=\"text-align: right;\">\n",
       "      <th></th>\n",
       "      <th>borough</th>\n",
       "      <th>city</th>\n",
       "      <th>rating</th>\n",
       "      <th>bedrooms</th>\n",
       "      <th>bathrooms</th>\n",
       "      <th>rent</th>\n",
       "      <th>sqft</th>\n",
       "      <th>pet_cat</th>\n",
       "      <th>pet_dog</th>\n",
       "      <th>built_year</th>\n",
       "      <th>...</th>\n",
       "      <th>amenity_tub</th>\n",
       "      <th>amenity_views</th>\n",
       "      <th>amenity_walk-in closets</th>\n",
       "      <th>amenity_washer/dryer</th>\n",
       "      <th>amenity_wheelchair</th>\n",
       "      <th>amenity_wifi</th>\n",
       "      <th>amenity_yoga studio</th>\n",
       "      <th>total_amenties</th>\n",
       "      <th>avg_school_rating</th>\n",
       "      <th>private_school_count</th>\n",
       "    </tr>\n",
       "  </thead>\n",
       "  <tbody>\n",
       "    <tr>\n",
       "      <th>336</th>\n",
       "      <td>Manhattan</td>\n",
       "      <td>new york</td>\n",
       "      <td>4</td>\n",
       "      <td>1</td>\n",
       "      <td>1</td>\n",
       "      <td>3677.0</td>\n",
       "      <td>764.0</td>\n",
       "      <td>1</td>\n",
       "      <td>1</td>\n",
       "      <td>1947</td>\n",
       "      <td>...</td>\n",
       "      <td>0</td>\n",
       "      <td>0</td>\n",
       "      <td>0</td>\n",
       "      <td>0</td>\n",
       "      <td>0</td>\n",
       "      <td>0</td>\n",
       "      <td>0</td>\n",
       "      <td>26</td>\n",
       "      <td>7.75</td>\n",
       "      <td>3.0</td>\n",
       "    </tr>\n",
       "    <tr>\n",
       "      <th>7104</th>\n",
       "      <td>Bronx</td>\n",
       "      <td>bronx</td>\n",
       "      <td>3</td>\n",
       "      <td>3</td>\n",
       "      <td>1</td>\n",
       "      <td>2072.5</td>\n",
       "      <td>1020.5</td>\n",
       "      <td>0</td>\n",
       "      <td>0</td>\n",
       "      <td>1940</td>\n",
       "      <td>...</td>\n",
       "      <td>1</td>\n",
       "      <td>0</td>\n",
       "      <td>1</td>\n",
       "      <td>0</td>\n",
       "      <td>1</td>\n",
       "      <td>0</td>\n",
       "      <td>0</td>\n",
       "      <td>22</td>\n",
       "      <td>4.00</td>\n",
       "      <td>2.0</td>\n",
       "    </tr>\n",
       "    <tr>\n",
       "      <th>3102</th>\n",
       "      <td>Queens</td>\n",
       "      <td>douglaston</td>\n",
       "      <td>5</td>\n",
       "      <td>1</td>\n",
       "      <td>1</td>\n",
       "      <td>1950.0</td>\n",
       "      <td>999.0</td>\n",
       "      <td>0</td>\n",
       "      <td>1</td>\n",
       "      <td>1963</td>\n",
       "      <td>...</td>\n",
       "      <td>1</td>\n",
       "      <td>0</td>\n",
       "      <td>0</td>\n",
       "      <td>1</td>\n",
       "      <td>0</td>\n",
       "      <td>0</td>\n",
       "      <td>0</td>\n",
       "      <td>15</td>\n",
       "      <td>7.75</td>\n",
       "      <td>2.0</td>\n",
       "    </tr>\n",
       "    <tr>\n",
       "      <th>379</th>\n",
       "      <td>Manhattan</td>\n",
       "      <td>new york</td>\n",
       "      <td>4</td>\n",
       "      <td>2</td>\n",
       "      <td>1</td>\n",
       "      <td>4077.0</td>\n",
       "      <td>708.0</td>\n",
       "      <td>1</td>\n",
       "      <td>1</td>\n",
       "      <td>1947</td>\n",
       "      <td>...</td>\n",
       "      <td>0</td>\n",
       "      <td>0</td>\n",
       "      <td>0</td>\n",
       "      <td>0</td>\n",
       "      <td>0</td>\n",
       "      <td>0</td>\n",
       "      <td>0</td>\n",
       "      <td>26</td>\n",
       "      <td>7.75</td>\n",
       "      <td>3.0</td>\n",
       "    </tr>\n",
       "    <tr>\n",
       "      <th>7113</th>\n",
       "      <td>Bronx</td>\n",
       "      <td>bronx</td>\n",
       "      <td>3</td>\n",
       "      <td>2</td>\n",
       "      <td>1</td>\n",
       "      <td>2425.0</td>\n",
       "      <td>782.5</td>\n",
       "      <td>1</td>\n",
       "      <td>1</td>\n",
       "      <td>2016</td>\n",
       "      <td>...</td>\n",
       "      <td>1</td>\n",
       "      <td>0</td>\n",
       "      <td>1</td>\n",
       "      <td>0</td>\n",
       "      <td>0</td>\n",
       "      <td>0</td>\n",
       "      <td>0</td>\n",
       "      <td>18</td>\n",
       "      <td>7.12</td>\n",
       "      <td>11.0</td>\n",
       "    </tr>\n",
       "  </tbody>\n",
       "</table>\n",
       "<p>5 rows × 84 columns</p>\n",
       "</div>"
      ],
      "text/plain": [
       "        borough        city  rating  bedrooms  bathrooms    rent    sqft  \\\n",
       "336   Manhattan    new york       4         1          1  3677.0   764.0   \n",
       "7104      Bronx       bronx       3         3          1  2072.5  1020.5   \n",
       "3102     Queens  douglaston       5         1          1  1950.0   999.0   \n",
       "379   Manhattan    new york       4         2          1  4077.0   708.0   \n",
       "7113      Bronx       bronx       3         2          1  2425.0   782.5   \n",
       "\n",
       "      pet_cat  pet_dog  built_year          ...           amenity_tub  \\\n",
       "336         1        1        1947          ...                     0   \n",
       "7104        0        0        1940          ...                     1   \n",
       "3102        0        1        1963          ...                     1   \n",
       "379         1        1        1947          ...                     0   \n",
       "7113        1        1        2016          ...                     1   \n",
       "\n",
       "      amenity_views amenity_walk-in closets  amenity_washer/dryer  \\\n",
       "336               0                       0                     0   \n",
       "7104              0                       1                     0   \n",
       "3102              0                       0                     1   \n",
       "379               0                       0                     0   \n",
       "7113              0                       1                     0   \n",
       "\n",
       "      amenity_wheelchair  amenity_wifi  amenity_yoga studio  total_amenties  \\\n",
       "336                    0             0                    0              26   \n",
       "7104                   1             0                    0              22   \n",
       "3102                   0             0                    0              15   \n",
       "379                    0             0                    0              26   \n",
       "7113                   0             0                    0              18   \n",
       "\n",
       "      avg_school_rating  private_school_count  \n",
       "336                7.75                   3.0  \n",
       "7104               4.00                   2.0  \n",
       "3102               7.75                   2.0  \n",
       "379                7.75                   3.0  \n",
       "7113               7.12                  11.0  \n",
       "\n",
       "[5 rows x 84 columns]"
      ]
     },
     "execution_count": 5,
     "metadata": {},
     "output_type": "execute_result"
    }
   ],
   "source": [
    "df.sample(5)"
   ]
  },
  {
   "cell_type": "code",
   "execution_count": 11,
   "metadata": {},
   "outputs": [
    {
     "data": {
      "text/plain": [
       "borough                              0\n",
       "city                                 0\n",
       "rating                               0\n",
       "bedrooms                             0\n",
       "bathrooms                            0\n",
       "rent                                 0\n",
       "sqft                                 0\n",
       "pet_cat                              0\n",
       "pet_dog                              0\n",
       "built_year                           0\n",
       "apartment_age                        0\n",
       "property_size                        0\n",
       "state                                0\n",
       "amenity_air conditioning             0\n",
       "amenity_alcove                       0\n",
       "amenity_balcony                      0\n",
       "amenity_basketball                   0\n",
       "amenity_bike storage                 0\n",
       "amenity_business                     0\n",
       "amenity_cable                        0\n",
       "amenity_ceiling fans                 0\n",
       "amenity_charging station             0\n",
       "amenity_clubhouse                    0\n",
       "amenity_concierge                    0\n",
       "amenity_controlled                   0\n",
       "amenity_courtyard                    0\n",
       "amenity_dishwasher                   0\n",
       "amenity_disposal                     0\n",
       "amenity_dry cleaning                 0\n",
       "amenity_elevator                     0\n",
       "                                    ..\n",
       "amenity_patio                        0\n",
       "amenity_pet care                     0\n",
       "amenity_pet play area                0\n",
       "amenity_picnic                       0\n",
       "amenity_planned social activities    0\n",
       "amenity_playground                   0\n",
       "amenity_pool                         0\n",
       "amenity_private outdoor space        0\n",
       "amenity_recycling                    0\n",
       "amenity_refrigerator                 0\n",
       "amenity_renovated                    0\n",
       "amenity_retail                       0\n",
       "amenity_rooftop                      0\n",
       "amenity_smoke free                   0\n",
       "amenity_spa                          0\n",
       "amenity_stainless                    0\n",
       "amenity_storage space                0\n",
       "amenity_stove                        0\n",
       "amenity_sundeck                      0\n",
       "amenity_terrace                      0\n",
       "amenity_tub                          0\n",
       "amenity_views                        0\n",
       "amenity_walk-in closets              0\n",
       "amenity_washer/dryer                 0\n",
       "amenity_wheelchair                   0\n",
       "amenity_wifi                         0\n",
       "amenity_yoga studio                  0\n",
       "total_amenties                       0\n",
       "avg_school_rating                    0\n",
       "private_school_count                 0\n",
       "Length: 84, dtype: int64"
      ]
     },
     "execution_count": 11,
     "metadata": {},
     "output_type": "execute_result"
    }
   ],
   "source": [
    "df.isnull().sum()"
   ]
  },
  {
   "cell_type": "code",
   "execution_count": 10,
   "metadata": {},
   "outputs": [],
   "source": [
    "df.avg_school_rating.fillna(df['avg_school_rating'].mean(),inplace = True)"
   ]
  },
  {
   "cell_type": "code",
   "execution_count": 15,
   "metadata": {},
   "outputs": [],
   "source": [
    "df = pd.get_dummies(df)"
   ]
  },
  {
   "cell_type": "code",
   "execution_count": 16,
   "metadata": {},
   "outputs": [
    {
     "data": {
      "text/plain": [
       "(5320, 117)"
      ]
     },
     "execution_count": 16,
     "metadata": {},
     "output_type": "execute_result"
    }
   ],
   "source": [
    "df.shape"
   ]
  },
  {
   "cell_type": "code",
   "execution_count": 12,
   "metadata": {},
   "outputs": [
    {
     "data": {
      "text/plain": [
       "new york               1635\n",
       "brooklyn               1281\n",
       "queens                  714\n",
       "bronx                   576\n",
       "long island city        360\n",
       "staten island           147\n",
       "astoria                  88\n",
       "carteret                 76\n",
       "far rockaway             64\n",
       "douglaston               57\n",
       "perth amboy              53\n",
       "bayonne                  48\n",
       "elizabeth                39\n",
       "flushing                 33\n",
       "corona                   30\n",
       "arverne                  20\n",
       "jamaica                  18\n",
       "forest hills             14\n",
       "yonkers                  13\n",
       "kew gardens hills        10\n",
       "ozone park                8\n",
       "rego park                 8\n",
       "bayside                   6\n",
       "hollis                    6\n",
       "elmhurst                  6\n",
       "new rochelle              3\n",
       "mount vernon              3\n",
       "manhattan                 2\n",
       "woodbridge township       1\n",
       "pelham manor              1\n",
       "Name: city, dtype: int64"
      ]
     },
     "execution_count": 12,
     "metadata": {},
     "output_type": "execute_result"
    }
   ],
   "source": [
    "df.city.value_counts()"
   ]
  },
  {
   "cell_type": "code",
   "execution_count": 28,
   "metadata": {},
   "outputs": [
    {
     "data": {
      "text/plain": [
       "array(['rating', 'bedrooms', 'bathrooms', 'rent', 'sqft', 'pet_cat',\n",
       "       'pet_dog', 'built_year', 'apartment_age', 'property_size',\n",
       "       'amenity_air conditioning', 'amenity_alcove', 'amenity_balcony',\n",
       "       'amenity_basketball', 'amenity_bike storage', 'amenity_business',\n",
       "       'amenity_cable', 'amenity_ceiling fans',\n",
       "       'amenity_charging station', 'amenity_clubhouse',\n",
       "       'amenity_concierge', 'amenity_controlled', 'amenity_courtyard',\n",
       "       'amenity_dishwasher', 'amenity_disposal', 'amenity_dry cleaning',\n",
       "       'amenity_elevator', 'amenity_fitness', 'amenity_furnished',\n",
       "       'amenity_game', 'amenity_gated', 'amenity_granite',\n",
       "       'amenity_grill', 'amenity_hardwood',\n",
       "       'amenity_heat/hot water included', 'amenity_heating',\n",
       "       'amenity_high ceilings', 'amenity_internet',\n",
       "       'amenity_laundary facilities', 'amenity_laundry service',\n",
       "       'amenity_library', 'amenity_lounge', 'amenity_maid',\n",
       "       'amenity_maintenance', 'amenity_microwave', 'amenity_movie',\n",
       "       'amenity_online service', 'amenity_oven', 'amenity_package',\n",
       "       'amenity_parking available', 'amenity_parking garage',\n",
       "       'amenity_patio', 'amenity_pet care', 'amenity_pet play area',\n",
       "       'amenity_picnic', 'amenity_planned social activities',\n",
       "       'amenity_playground', 'amenity_pool',\n",
       "       'amenity_private outdoor space', 'amenity_recycling',\n",
       "       'amenity_refrigerator', 'amenity_renovated', 'amenity_retail',\n",
       "       'amenity_rooftop', 'amenity_smoke free', 'amenity_spa',\n",
       "       'amenity_stainless', 'amenity_storage space', 'amenity_stove',\n",
       "       'amenity_sundeck', 'amenity_terrace', 'amenity_tub',\n",
       "       'amenity_views', 'amenity_walk-in closets', 'amenity_washer/dryer',\n",
       "       'amenity_wheelchair', 'amenity_wifi', 'amenity_yoga studio',\n",
       "       'total_amenties', 'avg_school_rating', 'private_school_count',\n",
       "       'borough_Bronx', 'borough_Brooklyn', 'borough_Manhattan',\n",
       "       'borough_Queens', 'borough_Staten Island', 'city_arverne',\n",
       "       'city_astoria', 'city_bayonne', 'city_bayside', 'city_bronx',\n",
       "       'city_brooklyn', 'city_carteret', 'city_corona', 'city_douglaston',\n",
       "       'city_elizabeth', 'city_elmhurst', 'city_far rockaway',\n",
       "       'city_flushing', 'city_forest hills', 'city_hollis',\n",
       "       'city_jamaica', 'city_kew gardens hills', 'city_long island city',\n",
       "       'city_manhattan', 'city_mount vernon', 'city_new rochelle',\n",
       "       'city_new york', 'city_ozone park', 'city_pelham manor',\n",
       "       'city_perth amboy', 'city_queens', 'city_rego park',\n",
       "       'city_staten island', 'city_woodbridge township', 'city_yonkers',\n",
       "       'state_New York'], dtype=object)"
      ]
     },
     "execution_count": 28,
     "metadata": {},
     "output_type": "execute_result"
    }
   ],
   "source": [
    "df.columns.values"
   ]
  },
  {
   "cell_type": "markdown",
   "metadata": {},
   "source": [
    "## Data Preprocessing\n",
    "Features and target are read from the DataFrame, and the dataset is split into train and test datasets. \n",
    "\n",
    "The features are standardized ($x\\rightarrow \\frac{x - \\bar{x}}{\\sigma}$) using Scikit StandardScaler. It is important to note that when we standardize the features, we need to use the statistics from the train dataset and apply them to both train and test datasets in order prevent information leak from the test dataset to the train dataset. "
   ]
  },
  {
   "cell_type": "code",
   "execution_count": 17,
   "metadata": {},
   "outputs": [],
   "source": [
    "# read features from DataFrame\n",
    "# df_base = df[[\"bathrooms\",\"bedrooms\",\"rating\",\"sqft\",\"pet_cat\",\"pet_dog\",\n",
    "#               \"apartment_age\",\"property_size\", 'total_amenties']] #\"built_year\",\"longitude\",\"latitude\",\"leaseLength\",\n",
    "# df_extra = df.filter(regex=\"amenity\")\n",
    "\n",
    "# define features and target\n",
    "#X = pd.concat([df_base, df_extra], axis=1)\n",
    "X = df[[col for col in df.columns.values if col != 'rent']]\n",
    "#X = pd.concat([df_base, df_extra], axis=1)\n",
    "y = df[\"rent\"]"
   ]
  },
  {
   "cell_type": "code",
   "execution_count": 18,
   "metadata": {},
   "outputs": [],
   "source": [
    "from sklearn.model_selection import train_test_split\n",
    "X_train, X_test, y_train, y_test = train_test_split(X, y, test_size=0.3, random_state=0)"
   ]
  },
  {
   "cell_type": "code",
   "execution_count": 33,
   "metadata": {
    "scrolled": true
   },
   "outputs": [
    {
     "name": "stderr",
     "output_type": "stream",
     "text": [
      "C:\\ProgramData\\Anaconda3\\lib\\site-packages\\sklearn\\preprocessing\\data.py:625: DataConversionWarning: Data with input dtype uint8, int64, float64 were all converted to float64 by StandardScaler.\n",
      "  return self.partial_fit(X, y)\n",
      "C:\\ProgramData\\Anaconda3\\lib\\site-packages\\ipykernel_launcher.py:5: DataConversionWarning: Data with input dtype uint8, int64, float64 were all converted to float64 by StandardScaler.\n",
      "  \"\"\"\n",
      "C:\\ProgramData\\Anaconda3\\lib\\site-packages\\ipykernel_launcher.py:6: DataConversionWarning: Data with input dtype uint8, int64, float64 were all converted to float64 by StandardScaler.\n",
      "  \n"
     ]
    }
   ],
   "source": [
    "from sklearn import preprocessing\n",
    "scaler = preprocessing.StandardScaler().fit(X_train)\n",
    "\n",
    "# standardize features\n",
    "X_train = scaler.transform(X_train)\n",
    "X_test = scaler.transform(X_test)"
   ]
  },
  {
   "cell_type": "markdown",
   "metadata": {},
   "source": [
    "## Grid Search\n",
    "Grid search is performed to find the optimum set of parameters for RandomForest and GradientBoosting regressors. Cross-validation is used to evaluate the performance given a set of parameters, and the parameters that gives the best $R^{2}$ score is chosen.\n",
    "\n",
    "However, often GridSearch results in over-fitting, and the parameters are further adjusted to avoid over-fitting the training samples. For this purpose, two flags are implemented to specify wheather GridSearch is performed for RandomForest and GradientBoosting regressor."
   ]
  },
  {
   "cell_type": "code",
   "execution_count": 20,
   "metadata": {},
   "outputs": [],
   "source": [
    "# flag for grid search. Set True to perform grid search\n",
    "GridSearch_RF = False\n",
    "GridSearch_GB = False\n",
    "\n",
    "# cross-validation fold\n",
    "n_cross_validation = 10"
   ]
  },
  {
   "cell_type": "code",
   "execution_count": 21,
   "metadata": {},
   "outputs": [],
   "source": [
    "# initialize RandomForest and GradientBoosting estimators\n",
    "from sklearn.ensemble import RandomForestRegressor\n",
    "from sklearn.ensemble import GradientBoostingRegressor\n",
    "model_RF = RandomForestRegressor()\n",
    "model_GB = GradientBoostingRegressor()\n",
    "\n",
    "# dictionary to hold parameters for each estimator\n",
    "params_RF = {}\n",
    "params_GB = {}"
   ]
  },
  {
   "cell_type": "code",
   "execution_count": 22,
   "metadata": {},
   "outputs": [],
   "source": [
    "# perform GridSearch for RandomForest\n",
    "if GridSearch_RF:\n",
    "        param_grid =    {\n",
    "                        'n_estimators':[5,100,500,1000], \n",
    "                        'max_features': ['auto'],\n",
    "                        'max_depth': [3,5,7],\n",
    "                        'min_samples_leaf': [1,2],\n",
    "                        'random_state': [0,1,2,3,4,5]\n",
    "                        }\n",
    "\n",
    "        # initiate grid search\n",
    "        from sklearn.model_selection import GridSearchCV\n",
    "        grid_search = GridSearchCV( estimator=model, \n",
    "                                    param_grid=param_grid,\n",
    "                                    cv=n_cross_validation, \n",
    "                                    n_jobs=-1)\n",
    "\n",
    "        # fit grid search\n",
    "        grid_search.fit(X_train, y_train)\n",
    "\n",
    "        # best parameters found by GridSearch\n",
    "        params_RF = grid_search.best_params_\n",
    "        print(grid_search.best_params_)"
   ]
  },
  {
   "cell_type": "code",
   "execution_count": 23,
   "metadata": {},
   "outputs": [],
   "source": [
    "# perform GridSearch for GradientBoosting\n",
    "if GridSearch_GB:\n",
    "        param_grid =    {\n",
    "                        'n_estimators':[100,300],\n",
    "                        'learning_rate':[0.08, 0.1, 0.12],\n",
    "                        'max_depth': [2,5,8],\n",
    "                        'min_samples_leaf': [1,2],\n",
    "                        'subsample': [0.5,0.8,1],\n",
    "                        'random_state': [0,1,2,3]\n",
    "                        }\n",
    "\n",
    "        # initiate grid search\n",
    "        from sklearn.model_selection import GridSearchCV\n",
    "        grid_search = GridSearchCV( estimator=model, \n",
    "                                    param_grid=param_grid,\n",
    "                                    cv=n_cross_validation, \n",
    "                                    n_jobs=-1)\n",
    "\n",
    "        # fit grid search\n",
    "        grid_search.fit(X_train, y_train)\n",
    "\n",
    "        # best parameters found by GridSearch\n",
    "        params_GB = grid_search.best_params_\n",
    "        print(grid_search.best_params_)"
   ]
  },
  {
   "cell_type": "markdown",
   "metadata": {},
   "source": [
    "If GridSearch is not performed, defaults sets of parameters are used for the estimators."
   ]
  },
  {
   "cell_type": "code",
   "execution_count": 24,
   "metadata": {},
   "outputs": [
    {
     "data": {
      "text/plain": [
       "GradientBoostingRegressor(alpha=0.9, criterion='friedman_mse', init=None,\n",
       "             learning_rate=0.015, loss='ls', max_depth=3,\n",
       "             max_features=None, max_leaf_nodes=None,\n",
       "             min_impurity_decrease=0.0, min_impurity_split=None,\n",
       "             min_samples_leaf=4, min_samples_split=2,\n",
       "             min_weight_fraction_leaf=0.0, n_estimators=400,\n",
       "             n_iter_no_change=None, presort='auto', random_state=0,\n",
       "             subsample=0.3, tol=0.0001, validation_fraction=0.1, verbose=0,\n",
       "             warm_start=False)"
      ]
     },
     "execution_count": 24,
     "metadata": {},
     "output_type": "execute_result"
    }
   ],
   "source": [
    "# if not performing GridSearch, use these parameters\n",
    "if(params_RF == {}):\n",
    "    params_RF = {'max_depth': 5, 'max_features': 'auto', 'min_samples_leaf': 3, 'n_estimators': 300, 'random_state': 1}\n",
    "    \n",
    "if(params_GB == {}):\n",
    "    params_GB = {'learning_rate': 0.015, 'max_depth': 3, 'min_samples_leaf': 4, 'n_estimators': 400, 'random_state': 0, \n",
    "                 'subsample': 0.3}\n",
    "\n",
    "# set parameters obtained from GridSearch\n",
    "model_RF.set_params(**params_RF)\n",
    "model_GB.set_params(**params_GB)"
   ]
  },
  {
   "cell_type": "markdown",
   "metadata": {},
   "source": [
    "## Learning Curve\n",
    "In order to evaluate the regression models with the given hyperparemteres, learning curves are produced by plotting training score and test score at varying sample sizes. Cross-validation is used for evaluating training and test scores, and $R^{2}$ score (1 - SSR/SST) is used for evaluation."
   ]
  },
  {
   "cell_type": "code",
   "execution_count": 25,
   "metadata": {
    "scrolled": true
   },
   "outputs": [],
   "source": [
    "from sklearn.model_selection import learning_curve\n",
    "\n",
    "# set learning curve step\n",
    "learning_step = np.linspace(0.1,1.0,20)\n",
    "\n",
    "# get train size and scores from learning_curve\n",
    "train_sizes_RF, train_scores_RF, test_scores_RF = learning_curve(\n",
    "        model_RF, X_train, y_train, cv=n_cross_validation, n_jobs=-1,\n",
    "        train_sizes=learning_step, random_state=0)\n",
    "\n",
    "train_sizes_GB, train_scores_GB, test_scores_GB = learning_curve(\n",
    "        model_GB, X_train, y_train, cv=n_cross_validation, n_jobs=-1,\n",
    "        train_sizes=learning_step, random_state=0)"
   ]
  },
  {
   "cell_type": "code",
   "execution_count": 26,
   "metadata": {},
   "outputs": [],
   "source": [
    "# get mean and standard dividation of scores for RandomForest\n",
    "train_scores_RF_mean = np.mean(train_scores_RF, axis=1)\n",
    "train_scores_RF_std = np.std(train_scores_RF, axis=1)\n",
    "test_scores_RF_mean = np.mean(test_scores_RF, axis=1)\n",
    "test_scores_RF_std = np.std(test_scores_RF, axis=1)\n",
    "\n",
    "# get mean and standard dividation of scores for GradientBoosting\n",
    "train_scores_GB_mean = np.mean(train_scores_GB, axis=1)\n",
    "train_scores_GB_std = np.std(train_scores_GB, axis=1)\n",
    "test_scores_GB_mean = np.mean(test_scores_GB, axis=1)\n",
    "test_scores_GB_std = np.std(test_scores_GB, axis=1)"
   ]
  },
  {
   "cell_type": "code",
   "execution_count": 29,
   "metadata": {},
   "outputs": [
    {
     "data": {
      "image/png": "[encoded data removed]",
      "text/plain": [
       "<Figure size 864x360 with 2 Axes>"
      ]
     },
     "metadata": {},
     "output_type": "display_data"
    }
   ],
   "source": [
    "# create axes\n",
    "fig, (ax1, ax2) = plt.subplots(1,2, figsize=(12,5))\n",
    "\n",
    "# plot learning curve for RandomForest\n",
    "ax1.plot(train_sizes_RF, train_scores_RF_mean, color=\"r\", marker=\"o\", linewidth=3, label=\"Training score\")\n",
    "ax1.plot(train_sizes_RF, test_scores_RF_mean, color=\"g\", marker=\"o\", linewidth=3, label=\"Test score\")\n",
    "\n",
    "# plot learning curve for GrandientBoosting\n",
    "ax2.plot(train_sizes_GB, train_scores_GB_mean, color=\"r\", marker=\"o\", linewidth=3, label=\"Training score\")\n",
    "ax2.plot(train_sizes_GB, test_scores_GB_mean, color=\"g\", marker=\"o\", linewidth=3, label=\"Test score\")\n",
    "\n",
    "# customize plots\n",
    "for ax in (ax1, ax2):\n",
    "    ax.legend()\n",
    "    ax.set_ylim([0.2,1])\n",
    "    ax.set_ylabel(\"$R^{2}$\")\n",
    "    ax.set_xlabel(\"Training examples\")\n",
    "    \n",
    "ax1.set_title(\"RandomForest\")\n",
    "ax2.set_title(\"GradientBoosting\")\n",
    "\n",
    "# save figure\n",
    "plt.tight_layout()"
   ]
  },
  {
   "cell_type": "markdown",
   "metadata": {},
   "source": [
    "In both RandomForest and GradientBoosting, the learning curves shows that training score and testing score become more close as the sample size increases, indicating that both regressors are not over-fitting data. However, relatively low $R^{2}$ scores suggest that the toal variation in data is not fully explained by either of these models.\n",
    "\n",
    "Also, due to the limited statistic, it is difficult to determine if more data would be helpful in building better estimator.\n",
    "- if training and test score improve at larger samples size, we need to collect more data for better regression model.\n",
    "- if training and test score don't improve at larger sample size, we need more complex model. i.e. adding more features."
   ]
  },
  {
   "cell_type": "markdown",
   "metadata": {},
   "source": [
    "## Cross-validated metrics\n",
    "In addition to learning curves, the performance of estimators are evaluated using cross-validated metrics such as 'negative mean squared error' and $R^{2}$ score. The scores are calculated for RandomForest and GradientBoosting regressors using 10-fold cross-validation."
   ]
  },
  {
   "cell_type": "code",
   "execution_count": 73,
   "metadata": {},
   "outputs": [],
   "source": [
    "from sklearn.model_selection import cross_validate\n",
    "\n",
    "# define scoring method\n",
    "scoring = [\"neg_mean_squared_error\", \"r2\"]\n",
    "\n",
    "# obtain cross-validated scores\n",
    "scores_RF = cross_validate(model_RF, X_train, y_train, cv=n_cross_validation, scoring=scoring, return_train_score=True)\n",
    "scores_GB = cross_validate(model_GB, X_train, y_train, cv=n_cross_validation, scoring=scoring, return_train_score=True)"
   ]
  },
  {
   "cell_type": "markdown",
   "metadata": {},
   "source": [
    "#### RandomForest cross-validated scores"
   ]
  },
  {
   "cell_type": "code",
   "execution_count": 74,
   "metadata": {},
   "outputs": [
    {
     "name": "stdout",
     "output_type": "stream",
     "text": [
      "(train) negative mean squared error = -893213.692 (+/- 16654853.326)\n",
      "(validation) negative mean squared error = -1241857.264 (+/- 206430597.871)\n",
      "(train) R2 score = 0.703 (+/- 3.844)\n",
      "(validation) R2 score = 0.700 (+/- 15.738)\n"
     ]
    }
   ],
   "source": [
    "# cross-validated mean squared error\n",
    "print(\"(train) negative mean squared error = %0.3f (+/- %0.3f)\" % (scores_RF[\"train_neg_mean_squared_error\"].mean(), scores_RF[\"train_neg_mean_squared_error\"].std()*100))\n",
    "print(\"(validation) negative mean squared error = %0.3f (+/- %0.3f)\" % (scores_RF[\"test_neg_mean_squared_error\"].mean(), scores_RF[\"test_neg_mean_squared_error\"].std()*100))\n",
    "\n",
    "# cross-validated R2\n",
    "print(\"(train) R2 score = %0.3f (+/- %0.3f)\" % (scores_RF[\"train_r2\"].mean(), scores_RF[\"train_r2\"].std()*100))\n",
    "print(\"(validation) R2 score = %0.3f (+/- %0.3f)\" % (scores_RF[\"test_r2\"].mean(), scores_RF[\"test_r2\"].std()*100))"
   ]
  },
  {
   "cell_type": "markdown",
   "metadata": {},
   "source": [
    "#### GradientBoosting cross-validated scores"
   ]
  },
  {
   "cell_type": "code",
   "execution_count": 75,
   "metadata": {},
   "outputs": [
    {
     "name": "stdout",
     "output_type": "stream",
     "text": [
      "(train) negative mean squared error = -892310.018 (+/- 18835795.272)\n",
      "(validation) negative mean squared error = -1125925.640 (+/- 189887382.597)\n",
      "(train) R2 score = 0.704 (+/- 4.828)\n",
      "(validation) R2 score = 0.732 (+/- 14.713)\n"
     ]
    }
   ],
   "source": [
    "# cross-validated mean squared error\n",
    "print(\"(train) negative mean squared error = %0.3f (+/- %0.3f)\" % (scores_GB[\"train_neg_mean_squared_error\"].mean(), scores_GB[\"train_neg_mean_squared_error\"].std()*100))\n",
    "print(\"(validation) negative mean squared error = %0.3f (+/- %0.3f)\" % (scores_GB[\"test_neg_mean_squared_error\"].mean(), scores_GB[\"test_neg_mean_squared_error\"].std()*100))\n",
    "\n",
    "# cross-validated R2\n",
    "print(\"(train) R2 score = %0.3f (+/- %0.3f)\" % (scores_GB[\"train_r2\"].mean(), scores_GB[\"train_r2\"].std()*100))\n",
    "print(\"(validation) R2 score = %0.3f (+/- %0.3f)\" % (scores_GB[\"test_r2\"].mean(), scores_GB[\"test_r2\"].std()*100))"
   ]
  },
  {
   "cell_type": "markdown",
   "metadata": {},
   "source": [
    "## Fitting models and making prediction\n",
    "In the previous section, the hyperparameters for RandomForest and GradientBoosting are chosen by learning curves and cross-validated scores. Now, the models are trained using the training dataset, and predictions are made on training and test datasets.\n",
    "\n",
    "After making predictions, $R^{2}$ and mean absolute percentage errors are evaluated for both training and test samples."
   ]
  },
  {
   "cell_type": "code",
   "execution_count": 76,
   "metadata": {},
   "outputs": [],
   "source": [
    "# fit train dataset\n",
    "model_RF.fit(X_train,y_train)\n",
    "model_GB.fit(X_train,y_train)\n",
    "\n",
    "# make prediction on train/test dataset using RandomForest\n",
    "y_pred_train_RF = model_RF.predict(X_train)\n",
    "y_pred_test_RF = model_RF.predict(X_test)\n",
    "\n",
    "# make prediction on train/test dataset using GradientBoosting\n",
    "y_pred_train_GB = model_GB.predict(X_train)\n",
    "y_pred_test_GB = model_GB.predict(X_test)"
   ]
  },
  {
   "cell_type": "code",
   "execution_count": 77,
   "metadata": {},
   "outputs": [],
   "source": [
    "from sklearn import metrics\n",
    "\n",
    "# function to calculate mean percentage error\n",
    "def mean_absolute_percentage_error(y_true, y_prediction):\n",
    "    # create np array from list\n",
    "    y_true, y_prediction = np.array(y_true), np.array(y_prediction)\n",
    "\n",
    "    # return mean absolute percentage error\n",
    "    return np.mean(np.abs((y_true - y_prediction) / y_true))"
   ]
  },
  {
   "cell_type": "markdown",
   "metadata": {},
   "source": [
    "#### RandomForest scores"
   ]
  },
  {
   "cell_type": "code",
   "execution_count": 78,
   "metadata": {},
   "outputs": [
    {
     "name": "stdout",
     "output_type": "stream",
     "text": [
      "(train) R2 score = 0.699\n",
      "(train) mean absolute percentage error = 0.155\n",
      "(test) R2 score = 0.787\n",
      "(test) mean absolute percentage error = 0.159\n"
     ]
    }
   ],
   "source": [
    "# train errors using RandomForest\n",
    "print(\"(train) R2 score = %0.3f\" % model_RF.score(X_train, y_train))\n",
    "print(\"(train) mean absolute percentage error = %0.3f\" %mean_absolute_percentage_error(y_train, y_pred_train_RF))\n",
    "\n",
    "# test errors using RandomForest\n",
    "print(\"(test) R2 score = %0.3f\" % model_RF.score(X_test, y_test))\n",
    "print(\"(test) mean absolute percentage error = %0.3f\" %mean_absolute_percentage_error(y_test, y_pred_test_RF))"
   ]
  },
  {
   "cell_type": "markdown",
   "metadata": {},
   "source": [
    "#### GradientBoosting scores"
   ]
  },
  {
   "cell_type": "code",
   "execution_count": 79,
   "metadata": {},
   "outputs": [
    {
     "name": "stdout",
     "output_type": "stream",
     "text": [
      "(train) R2 score = 0.702\n",
      "(train) mean absolute percentage error = 0.137\n",
      "(test) R2 score = 0.813\n",
      "(test) mean absolute percentage error = 0.143\n"
     ]
    }
   ],
   "source": [
    "# train errors using GradientBoosting\n",
    "print(\"(train) R2 score = %0.3f\" % model_GB.score(X_train, y_train))\n",
    "print(\"(train) mean absolute percentage error = %0.3f\" %mean_absolute_percentage_error(y_train, y_pred_train_GB))\n",
    "\n",
    "# test errors using GradientBoosting\n",
    "print(\"(test) R2 score = %0.3f\" % model_GB.score(X_test, y_test))\n",
    "print(\"(test) mean absolute percentage error = %0.3f\" %mean_absolute_percentage_error(y_test, y_pred_test_GB))"
   ]
  },
  {
   "cell_type": "markdown",
   "metadata": {},
   "source": [
    "## Scatter Plot: Prediction vs Observed\n",
    "In order to visualize how well the predictions from the regression models agree with observed value, the predictions are plotted against true values. The scatter plots show good linearity between predicted value and true value. GradientBoosting seems to provide better prediction, especially in the range between \\$5,000 and \\$7,500."
   ]
  },
  {
   "cell_type": "code",
   "execution_count": 80,
   "metadata": {},
   "outputs": [
    {
     "data": {
      "image/png": "[encoded data removed]",
      "text/plain": [
       "<Figure size 864x360 with 2 Axes>"
      ]
     },
     "metadata": {},
     "output_type": "display_data"
    }
   ],
   "source": [
    "# make scatter plot\n",
    "fig, (ax1, ax2) = plt.subplots(1,2,figsize=(12,5))\n",
    "\n",
    "# scatter plot of prediction vs test samples\n",
    "sns.regplot(y_test, y_pred_test_RF, color=\"b\", marker=\"o\", ax=ax1, fit_reg=False,\n",
    "            scatter_kws={'alpha':0.3, 'edgecolors':\"black\", 'linewidths':1})\n",
    "sns.regplot(y_test, y_pred_test_GB, color=\"purple\", marker=\"o\", ax=ax2, fit_reg=False,\n",
    "            scatter_kws={'alpha':0.3, 'edgecolors':\"black\", 'linewidths':1})\n",
    "\n",
    "# customize plots\n",
    "for ax in (ax1, ax2):\n",
    "    ax.set_xlim([0,20000])\n",
    "    ax.set_ylim([0,20000])\n",
    "    ax.set_ylabel(\"Prediction ($)\")\n",
    "    ax.set_xlabel(\"True ($)\")\n",
    "\n",
    "ax1.set_title(\"RandomForest\")\n",
    "ax2.set_title(\"GradientBoosting\")\n",
    "\n",
    "plt.tight_layout()"
   ]
  },
  {
   "cell_type": "markdown",
   "metadata": {},
   "source": [
    "## Histogram: Percentage Residual\n",
    "The percentage residual of the prediction models are plotted with histograms. The percentage residual is defined by\n",
    "\n",
    "Percentage residual = $(\\hat{y_{i}} - y_{i}) / y_{i}$ where $\\hat{y}$ represent predicted value.\n",
    "\n",
    "The distributions of both RandomForest and GradientBoosting have mean of $\\approx$ -0.05, suggesting that the models are slightly over-estimating rent. The standard deviation is slightly larger for the RandomForest method, but further test is needed to determine if two distributions are statistically different."
   ]
  },
  {
   "cell_type": "code",
   "execution_count": 81,
   "metadata": {},
   "outputs": [],
   "source": [
    "# function to calculate percentage error\n",
    "def percentage_error(y_true, y_pred):\n",
    "    y_true, y_pred = np.array(y_true), np.array(y_pred)\n",
    "    return (y_true - y_pred) / y_true"
   ]
  },
  {
   "cell_type": "code",
   "execution_count": 82,
   "metadata": {
    "scrolled": true
   },
   "outputs": [
    {
     "data": {
      "image/png": "[encoded data removed]",
      "text/plain": [
       "<Figure size 864x360 with 2 Axes>"
      ]
     },
     "metadata": {},
     "output_type": "display_data"
    }
   ],
   "source": [
    "from scipy import stats\n",
    "\n",
    "# create figure and axes\n",
    "fig, (ax1, ax2) = plt.subplots(1,2,figsize=(12,5))\n",
    "\n",
    "# distribution of percentage error\n",
    "sns.distplot(   percentage_error(y_test, y_pred_test_RF), kde=False,\n",
    "                bins=100, ax=ax1, hist=True, \n",
    "                hist_kws={\"alpha\":0.5, \"color\":\"black\", \"linewidth\":1,\n",
    "                \"edgecolor\":\"black\", \"range\":(-2.5,2.5), \"histtype\":\"stepfilled\"},\n",
    "                label=\"RandomForest\")\n",
    "sns.distplot(   percentage_error(y_test, y_pred_test_GB), kde=False,\n",
    "                bins=100, ax=ax2, hist=True,\n",
    "                hist_kws={\"alpha\":0.5, \"color\":\"r\", \"linewidth\":1,\n",
    "                \"edgecolor\":\"black\", \"range\":(-2.5,2.5), \"histtype\":\"stepfilled\"},\n",
    "                label=\"GradientBoosting\")\n",
    "\n",
    "# customize plots\n",
    "for ax in (ax1,ax2):\n",
    "    ax.set_ylabel(\"Samples\")\n",
    "    ax.set_xlabel(\"Percentage residual\")\n",
    "    ax.set_xlim([-1.0,1.0])\n",
    "    ax.legend()\n",
    "\n",
    "plt.tight_layout()"
   ]
  },
  {
   "cell_type": "code",
   "execution_count": 83,
   "metadata": {},
   "outputs": [
    {
     "name": "stdout",
     "output_type": "stream",
     "text": [
      "mean percentage residual = -0.044788108267245295\n",
      "mean percentage residual = -0.039410978580059104\n",
      "std percentage residual = 0.21893236362422785\n",
      "std percentage residual = 0.1934323686463148\n"
     ]
    }
   ],
   "source": [
    "print(\"mean percentage residual = \" + str(np.array(percentage_error(y_test, y_pred_test_RF)).mean()))\n",
    "print(\"mean percentage residual = \" + str(np.array(percentage_error(y_test, y_pred_test_GB)).mean()))\n",
    "\n",
    "print(\"std percentage residual = \" + str(np.array(percentage_error(y_test, y_pred_test_RF)).std()))\n",
    "print(\"std percentage residual = \" + str(np.array(percentage_error(y_test, y_pred_test_GB)).std()))"
   ]
  },
  {
   "cell_type": "markdown",
   "metadata": {},
   "source": [
    "## Scatter Plot: Residual vs Observed\n",
    "Residuals, defined by predicted value - true value ($\\hat{y} - y$), are plotted against observed $y$ for both RandomForest and GradientBoosting. Residuals from training sample and test sample are plotted separately.\n",
    "\n",
    "- The residual distribution of RandomForest regression shows non-random, artificial structure, suggesting that the model isn't describing data very well.\n",
    "- The residual distribution of GradientBoosting is slightly skewed, but we don't see artificial structure as in the RandomForest residual distribution. This also makes sense because from the percentage residual plots, we have learned that both models are slightly over-estimating the data (~5%)."
   ]
  },
  {
   "cell_type": "code",
   "execution_count": 84,
   "metadata": {},
   "outputs": [
    {
     "data": {
      "text/plain": [
       "<matplotlib.legend.Legend at 0x2124e85f630>"
      ]
     },
     "execution_count": 84,
     "metadata": {},
     "output_type": "execute_result"
    },
    {
     "data": {
      "image/png": "[encoded data removed]",
      "text/plain": [
       "<Figure size 864x360 with 2 Axes>"
      ]
     },
     "metadata": {},
     "output_type": "display_data"
    }
   ],
   "source": [
    "# create figure and axes\n",
    "fig, (ax1, ax2) = plt.subplots(1,2,figsize=(12,5))\n",
    "\n",
    "# make residual plot for RandomForest\n",
    "sns.regplot(y_train, y_pred_train_RF - y_train,\n",
    "            color=\"orange\", marker=\"o\", ax=ax1, fit_reg=False, label=\"Train residual\",\n",
    "            scatter_kws={'alpha':0.4, 'edgecolors':\"black\", 'linewidths':1})\n",
    "sns.regplot(y_test, y_pred_test_RF - y_test,\n",
    "            color=\"r\", marker=\"o\",  ax=ax1, fit_reg=False, label=\"Test residual\",\n",
    "            scatter_kws={'alpha':0.4, 'edgecolors':\"black\", 'linewidths':1})\n",
    "# make residual plot for GradientBoosting\n",
    "sns.regplot(y_train, y_pred_train_GB - y_train,\n",
    "            color=\"orange\", marker=\"o\", ax=ax2, fit_reg=False, label=\"Train residual\",\n",
    "            scatter_kws={'alpha':0.4, 'edgecolors':\"black\", 'linewidths':1})\n",
    "sns.regplot(y_test, y_pred_test_GB - y_test,\n",
    "            color=\"r\", marker=\"o\",  ax=ax2, fit_reg=False, label=\"Test residual\",\n",
    "            scatter_kws={'alpha':0.4, 'edgecolors':\"black\", 'linewidths':1})\n",
    "\n",
    "# customize plot\n",
    "for ax in (ax1, ax2):\n",
    "    ax.set_ylabel(\"Residual ($)\")\n",
    "    ax.set_xlabel(\"Rent ($)\")\n",
    "    ax.set_ylim([-1e4,1e4])\n",
    "    ax.set_xlim([0,1.5e4])\n",
    "    ax.legend()\n",
    "    \n",
    "ax1.set_title(\"RandomForest\")\n",
    "ax2.set_title(\"GradientBoosting\")\n",
    "\n",
    "plt.tight_layout()\n",
    "plt.legend()"
   ]
  },
  {
   "cell_type": "markdown",
   "metadata": {},
   "source": [
    "## Important Features\n",
    "The features that contributed the most in building the regression models are obtained by feature\\_importances\\_ method. Since there are more than 80 features considered in this analysis, only 10 most important features are plotted.\n",
    "\n",
    "In RandomForest regression model, top five features dominated in building the model. In GradientBoosting regression model, more features contributed to the model, but 'number of bathrooms' made the most significant contribution to the model."
   ]
  },
  {
   "cell_type": "code",
   "execution_count": 85,
   "metadata": {},
   "outputs": [
    {
     "data": {
      "image/png": "[encoded data removed]",
      "text/plain": [
       "<Figure size 864x360 with 2 Axes>"
      ]
     },
     "metadata": {},
     "output_type": "display_data"
    }
   ],
   "source": [
    "# create figure and axes\n",
    "fig, (ax1, ax2) = plt.subplots(1,2,figsize=(12,5))\n",
    "\n",
    "# get feature name and feature importance\n",
    "feature_name = X.columns.values\n",
    "feature_importance_RF = model_RF.feature_importances_\n",
    "feature_importance_GB = model_GB.feature_importances_\n",
    "\n",
    "# pick top features\n",
    "n_features = 10\n",
    "top_features_RF = sorted(   zip(feature_name, feature_importance_RF),\n",
    "                            key=lambda x:x[1], reverse=True)[:n_features]\n",
    "top_features_GB = sorted(   zip(feature_name, feature_importance_GB),\n",
    "                            key=lambda x:x[1], reverse=True)[:n_features]\n",
    "\n",
    "# make horizontal bar plot\n",
    "ax1.barh(np.arange(n_features), [x[1] for x in top_features_RF], color=\"r\", alpha=0.7, edgecolor=\"black\")\n",
    "ax2.barh(np.arange(n_features), [x[1] for x in top_features_GB], color=\"purple\", alpha=0.7, edgecolor=\"black\")\n",
    "\n",
    "# customize plots\n",
    "for ax in (ax1, ax2):\n",
    "    ax.set_yticks(np.arange(n_features))\n",
    "    ax.set_yticklabels([x[0] for x in top_features_RF])\n",
    "    ax.invert_yaxis()\n",
    "    ax.set_xlabel(\"Feature importance\")\n",
    "    \n",
    "ax1.set_title(\"RandomForest\")\n",
    "ax2.set_title(\"GradientBoosting\")\n",
    "\n",
    "plt.tight_layout()\n",
    "plt.tick_params(axis='both', which='major', labelsize=8)"
   ]
  },
  {
   "cell_type": "markdown",
   "metadata": {},
   "source": [
    "## Conclusion\n",
    "In this notebook, two regression models, RandomForest and GradientBoosting, are compared. Although two models provided a similar performance by $R^{2}$ score and percentage residual distribution, GradientBoosting seems to provide more reliable prediction of data because in GradientBoosting,\n",
    "- Prediction vs Observed scatter plot seems to be more linear.\n",
    "- Percentage residual has narrower distribution (smaller $\\sigma$).\n",
    "- Residual vs Observed scatter plot shows more natural, randomness.\n",
    "- Relative to RandomForest, more features contributed to the model.\n",
    "\n",
    "However, the prediction made by the GradientBoosting regression model is still limited for the following reasons.\n",
    "- $R^{2} \\approx $ 60%  suggests that not all variance in data can be explained by these models.\n",
    "- The large standard deviation in percentage residual ($\\sigma \\approx$ 0.22) suggests that the prediction will be off by more than 22% with probability of ~30%."
   ]
  }
 ],
 "metadata": {
  "kernelspec": {
   "display_name": "Python 3",
   "language": "python",
   "name": "python3"
  },
  "language_info": {
   "codemirror_mode": {
    "name": "ipython",
    "version": 3
   },
   "file_extension": ".py",
   "mimetype": "text/x-python",
   "name": "python",
   "nbconvert_exporter": "python",
   "pygments_lexer": "ipython3",
   "version": "3.7.3"
  }
 },
 "nbformat": 4,
 "nbformat_minor": 2
}
