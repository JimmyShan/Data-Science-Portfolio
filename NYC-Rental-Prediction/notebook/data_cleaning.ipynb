{
 "cells": [
  {
   "cell_type": "markdown",
   "metadata": {},
   "source": [
    "# Data cleaning\n",
    "---"
   ]
  },
  {
   "cell_type": "markdown",
   "metadata": {
    "collapsed": true
   },
   "source": [
    "This script takes .cvs as input, and it cleans the data frame by\n",
    "- Removing unwanted feature\n",
    "- Convert long string into multiple dummy variables\n",
    "- Filling missing values\n",
    "- Extract numerical features from string"
   ]
  },
  {
   "cell_type": "markdown",
   "metadata": {},
   "source": [
    "### Import libraries and data"
   ]
  },
  {
   "cell_type": "code",
   "execution_count": 74,
   "metadata": {},
   "outputs": [],
   "source": [
    "import pandas as pd\n",
    "import numpy as np\n",
    "import math, time, os\n",
    "#import googlemaps\n",
    "#import geocoder\n",
    "\n",
    "%matplotlib inline"
   ]
  },
  {
   "cell_type": "code",
   "execution_count": 75,
   "metadata": {},
   "outputs": [],
   "source": [
    "# read data from csv\n",
    "df = pd.read_csv(\"data/ny_rental_data_v2.csv\", index_col = 0)"
   ]
  },
  {
   "cell_type": "code",
   "execution_count": 76,
   "metadata": {},
   "outputs": [
    {
     "data": {
      "text/plain": [
       "(7797, 15)"
      ]
     },
     "execution_count": 76,
     "metadata": {},
     "output_type": "execute_result"
    }
   ],
   "source": [
    "df.shape"
   ]
  },
  {
   "cell_type": "markdown",
   "metadata": {},
   "source": [
    "### Missing value analysis"
   ]
  },
  {
   "cell_type": "code",
   "execution_count": 77,
   "metadata": {},
   "outputs": [
    {
     "name": "stdout",
     "output_type": "stream",
     "text": [
      "(object)  rating, 2649 NA values\n",
      "(object)  property_info, 2559 NA values\n",
      "(object)  bathrooms, 791 NA values\n",
      "(object)  rent, 1073 NA values\n",
      "\n",
      "Out of total 14 columns, there are 4 columns containing NA values\n"
     ]
    }
   ],
   "source": [
    "na_cols, na_counts = [], []\n",
    "for col in df.columns[:-1]:\n",
    "    if(df[col].isnull().any()):\n",
    "        na_cols.append(col)\n",
    "        na_counts.append(len(df[df[col]!=df[col]]))\n",
    "        print('({})  {}, {} NA values'.format(df[col].dtype, col, len(df[df[col]!=df[col]])))\n",
    "print('\\nOut of total {} columns, there are {} columns containing NA values'.format(len(df.columns[:-1]), len(na_cols)))"
   ]
  },
  {
   "cell_type": "code",
   "execution_count": 78,
   "metadata": {},
   "outputs": [],
   "source": [
    "# select digits and return\n",
    "def digit_filter(string):\n",
    "\n",
    "    digit = ''.join(filter(lambda x: x.isdigit(), str(string)))\n",
    "\n",
    "    if digit == '':\n",
    "        return 999\n",
    "    else:\n",
    "        return int(digit)"
   ]
  },
  {
   "cell_type": "markdown",
   "metadata": {},
   "source": [
    "### Rent"
   ]
  },
  {
   "cell_type": "code",
   "execution_count": 79,
   "metadata": {},
   "outputs": [],
   "source": [
    "# find the mean rent of a property\n",
    "def find_mean(string):\n",
    "\n",
    "    # temporary list\n",
    "    list_temp = [digit_filter(x) for x in str(string).split()]\n",
    "\n",
    "    # return mean of the temp\n",
    "    if not list_temp[0] == 0:\n",
    "\n",
    "        # remove 0 from list\n",
    "        list_temp = [x for x in list_temp if not x == 0]\n",
    "\n",
    "        # return mean\n",
    "        return round(sum(list_temp) / len(list_temp),2)\n",
    "\n",
    "    # if list_temp is empty, return 0\n",
    "    else:\n",
    "        return 0"
   ]
  },
  {
   "cell_type": "code",
   "execution_count": 80,
   "metadata": {},
   "outputs": [],
   "source": [
    "# drop rows without rent\n",
    "df.dropna(subset=[\"rent\"], inplace=True)"
   ]
  },
  {
   "cell_type": "code",
   "execution_count": 81,
   "metadata": {},
   "outputs": [],
   "source": [
    "# apply find_mean\n",
    "df[\"rent\"] = df[\"rent\"].apply(find_mean)"
   ]
  },
  {
   "cell_type": "code",
   "execution_count": 82,
   "metadata": {},
   "outputs": [
    {
     "data": {
      "text/plain": [
       "count     6724.000000\n",
       "mean      2538.930973\n",
       "std       1658.584654\n",
       "min        600.000000\n",
       "25%       1475.000000\n",
       "50%       2225.000000\n",
       "75%       3150.000000\n",
       "max      57000.000000\n",
       "Name: rent, dtype: float64"
      ]
     },
     "execution_count": 82,
     "metadata": {},
     "output_type": "execute_result"
    }
   ],
   "source": [
    "df.rent.describe()"
   ]
  },
  {
   "cell_type": "markdown",
   "metadata": {},
   "source": [
    "### Bathrooms"
   ]
  },
  {
   "cell_type": "code",
   "execution_count": 83,
   "metadata": {},
   "outputs": [
    {
     "data": {
      "text/plain": [
       "1 BA      5041\n",
       "2 BAs     1331\n",
       "1½ BAs     170\n",
       "2½ BAs      79\n",
       "3 BAs       69\n",
       "3½ BAs      18\n",
       "4 BAs        2\n",
       "0½ BAs       2\n",
       "5 BAs        1\n",
       "6 BAs        1\n",
       "Name: bathrooms, dtype: int64"
      ]
     },
     "execution_count": 83,
     "metadata": {},
     "output_type": "execute_result"
    }
   ],
   "source": [
    "df[\"bathrooms\"].value_counts()"
   ]
  },
  {
   "cell_type": "code",
   "execution_count": 84,
   "metadata": {},
   "outputs": [
    {
     "data": {
      "text/plain": [
       "10"
      ]
     },
     "execution_count": 84,
     "metadata": {},
     "output_type": "execute_result"
    }
   ],
   "source": [
    "df.bathrooms.isnull().sum()"
   ]
  },
  {
   "cell_type": "code",
   "execution_count": 85,
   "metadata": {},
   "outputs": [],
   "source": [
    "def bathrooms_clean(bathrooms):\n",
    "    # note: at most 6 bathrooms\n",
    "    \n",
    "    baths = bathrooms.split()[0]\n",
    "    \n",
    "    if baths.isdigit():\n",
    "        return int(baths)\n",
    "    else:                # for the case of half bathrooms, e.g. 1½ BAs \n",
    "        return int(baths[:-1]) + 0.5"
   ]
  },
  {
   "cell_type": "code",
   "execution_count": 86,
   "metadata": {},
   "outputs": [],
   "source": [
    "# we are replacing NA with 999 BA's\n",
    "\n",
    "df[\"bathrooms\"] = df[\"bathrooms\"].fillna(\"999 BAs\").apply(bathrooms_clean)"
   ]
  },
  {
   "cell_type": "code",
   "execution_count": 87,
   "metadata": {},
   "outputs": [
    {
     "data": {
      "text/plain": [
       "1.0      5041\n",
       "2.0      1331\n",
       "1.5       170\n",
       "2.5        79\n",
       "3.0        69\n",
       "3.5        18\n",
       "999.0      10\n",
       "4.0         2\n",
       "0.5         2\n",
       "5.0         1\n",
       "6.0         1\n",
       "Name: bathrooms, dtype: int64"
      ]
     },
     "execution_count": 87,
     "metadata": {},
     "output_type": "execute_result"
    }
   ],
   "source": [
    "df[\"bathrooms\"].value_counts()"
   ]
  },
  {
   "cell_type": "markdown",
   "metadata": {},
   "source": [
    "### Bedrooms"
   ]
  },
  {
   "cell_type": "code",
   "execution_count": 88,
   "metadata": {},
   "outputs": [
    {
     "data": {
      "text/plain": [
       "1 BR      2603\n",
       "2 BRs     2024\n",
       "Studio    1007\n",
       "3 BRs      897\n",
       "4 BRs      164\n",
       "5 BRs       20\n",
       "6 BRs        8\n",
       "7 BRs        1\n",
       "Name: bedrooms, dtype: int64"
      ]
     },
     "execution_count": 88,
     "metadata": {},
     "output_type": "execute_result"
    }
   ],
   "source": [
    "df[\"bedrooms\"].value_counts()"
   ]
  },
  {
   "cell_type": "code",
   "execution_count": 89,
   "metadata": {},
   "outputs": [],
   "source": [
    "def bedrooms_clean(bedrooms):\n",
    "    # note: at most 7 bedrooms, including studio\n",
    "    \n",
    "    beds = bedrooms.split()[0]\n",
    "    \n",
    "    if beds.isdigit():\n",
    "        return int(beds)\n",
    "    else:                   # for the case of studio\n",
    "        return 0"
   ]
  },
  {
   "cell_type": "code",
   "execution_count": 90,
   "metadata": {},
   "outputs": [],
   "source": [
    "df[\"bedrooms\"] = df[\"bedrooms\"].fillna(\"999 BRs\").apply(bedrooms_clean)"
   ]
  },
  {
   "cell_type": "code",
   "execution_count": 91,
   "metadata": {},
   "outputs": [
    {
     "data": {
      "text/plain": [
       "1    2603\n",
       "2    2024\n",
       "0    1007\n",
       "3     897\n",
       "4     164\n",
       "5      20\n",
       "6       8\n",
       "7       1\n",
       "Name: bedrooms, dtype: int64"
      ]
     },
     "execution_count": 91,
     "metadata": {},
     "output_type": "execute_result"
    }
   ],
   "source": [
    "df[\"bedrooms\"].value_counts()"
   ]
  },
  {
   "cell_type": "markdown",
   "metadata": {},
   "source": [
    "### Property info:  Extract built year and number of units"
   ]
  },
  {
   "cell_type": "code",
   "execution_count": 92,
   "metadata": {},
   "outputs": [],
   "source": [
    "def built_year(string):\n",
    "    # extract year\n",
    "    year = [digit_filter(x) for x in str(string).split('\\n') if \"built in\" in x.lower()]\n",
    "\n",
    "    # return valid year\n",
    "    if year:\n",
    "        return year[0]\n",
    "    else:\n",
    "        return 999"
   ]
  },
  {
   "cell_type": "code",
   "execution_count": 93,
   "metadata": {},
   "outputs": [],
   "source": [
    "def apartment_age(year):\n",
    "    return pd.datetime.now().year - year"
   ]
  },
  {
   "cell_type": "code",
   "execution_count": 94,
   "metadata": {},
   "outputs": [],
   "source": [
    "def property_size(string):\n",
    "    # extract property size\n",
    "    string = str(string).replace('/','\\n')\n",
    "\n",
    "    # extract units\n",
    "    units = [digit_filter(x) for x in str(string).split('\\n') if \"units\" in x.lower()]\n",
    "\n",
    "    # return valid units\n",
    "    if units:\n",
    "        return units[0]\n",
    "    else:\n",
    "        return 999"
   ]
  },
  {
   "cell_type": "code",
   "execution_count": 95,
   "metadata": {},
   "outputs": [],
   "source": [
    "# create new column containing built year\n",
    "df[\"built_year\"] = df[\"property_info\"].apply(built_year)\n",
    "\n",
    "# apartment age\n",
    "df[\"apartment_age\"] = df[\"built_year\"].apply(apartment_age)\n",
    "\n",
    "# create new column containing property size\n",
    "df[\"property_size\"] = df[\"property_info\"].apply(property_size)\n",
    "\n",
    "# fill null value with the median property_size # mean\n",
    "#df[\"property_size\"].fillna(df[\"property_size\"].median(), inplace=True)\n",
    "\n",
    "# convert float to int\n",
    "#df[\"property_size\"] = df[\"property_size\"].astype(int)"
   ]
  },
  {
   "cell_type": "code",
   "execution_count": 96,
   "metadata": {},
   "outputs": [],
   "source": [
    "# remove property_info after extracting desired info\n",
    "df.drop(\"property_info\", axis=1, inplace=True)"
   ]
  },
  {
   "cell_type": "markdown",
   "metadata": {},
   "source": [
    "### Property rating"
   ]
  },
  {
   "cell_type": "code",
   "execution_count": 97,
   "metadata": {},
   "outputs": [],
   "source": [
    "# extract rating number\n",
    "df[\"rating\"] = df[\"rating\"].apply(digit_filter)\n",
    "\n",
    "# replace no rating with Nan\n",
    "#df[\"rating\"] = df[\"rating\"].apply(lambda x: None if x == 0 else x)\n",
    "\n",
    "# replace Nan with average            (# this is only temporary)\n",
    "#df[\"rating\"].fillna(df[\"rating\"].mean(), inplace=True)\n",
    "\n",
    "# convert to int\n",
    "#df[\"rating\"] = df[\"rating\"].astype(int)"
   ]
  },
  {
   "cell_type": "code",
   "execution_count": 98,
   "metadata": {},
   "outputs": [
    {
     "data": {
      "text/plain": [
       "5      3304\n",
       "999    2636\n",
       "4       565\n",
       "3       151\n",
       "2        38\n",
       "1        30\n",
       "Name: rating, dtype: int64"
      ]
     },
     "execution_count": 98,
     "metadata": {},
     "output_type": "execute_result"
    }
   ],
   "source": [
    "df.rating.value_counts()"
   ]
  },
  {
   "cell_type": "markdown",
   "metadata": {},
   "source": [
    "### Sqft"
   ]
  },
  {
   "cell_type": "code",
   "execution_count": 99,
   "metadata": {},
   "outputs": [],
   "source": [
    "def sqrt_clean(sqrt):\n",
    "    return int(''.join(sqrt.split()[0].split(',')))"
   ]
  },
  {
   "cell_type": "code",
   "execution_count": 100,
   "metadata": {},
   "outputs": [],
   "source": [
    "# apply \"find_mean\" to sqft column\n",
    "df[\"sqft\"] = df[\"sqft\"].fillna('0 Sq Ft').apply(sqrt_clean)"
   ]
  },
  {
   "cell_type": "code",
   "execution_count": 101,
   "metadata": {},
   "outputs": [],
   "source": [
    "# set limits of sqft\n",
    "sqft_factor_min = 0.5\n",
    "sqft_min = 100"
   ]
  },
  {
   "cell_type": "code",
   "execution_count": 102,
   "metadata": {},
   "outputs": [],
   "source": [
    "# replace un-realistic sqft with None\n",
    "df.loc[(df[\"sqft\"] / ((df[\"bedrooms\"] + 1) * df[\"rent\"])) > sqft_factor_min, \"sqft\"] = 0 # sqft too large\n",
    "df.loc[df.sqft < sqft_min, \"sqft\"] = 0 # sqft too small\n",
    "\n",
    "# fill null with average sqft of apartments with the same number of bedrooms\n",
    "#df[\"sqft\"] = df.groupby([\"bedrooms\"])[\"sqft\"].transform(lambda x: x.fillna(x.mean()))"
   ]
  },
  {
   "cell_type": "markdown",
   "metadata": {},
   "source": [
    "### Borough"
   ]
  },
  {
   "cell_type": "code",
   "execution_count": 103,
   "metadata": {},
   "outputs": [],
   "source": [
    "# clean up and capitalize\n",
    "df[\"borough\"] = df.borough.transform(lambda x: x[:-3].replace('-',' ').title())"
   ]
  },
  {
   "cell_type": "markdown",
   "metadata": {},
   "source": [
    "### Pet policy"
   ]
  },
  {
   "cell_type": "code",
   "execution_count": 104,
   "metadata": {},
   "outputs": [],
   "source": [
    "# function to apply to pet_policy column\n",
    "def std_pet_policy(pet):\n",
    "    # list to temporary hold std pet\n",
    "    std_pet_list = []\n",
    "\n",
    "    # remove un-wanted characters\n",
    "    pet = pet.replace('[','')\n",
    "    pet = pet.replace(']','')\n",
    "    pet = pet.replace(\"'\",\"\")\n",
    "\n",
    "    # create list of pet from the string\n",
    "    pet_list = pet.split(\",\")\n",
    "\n",
    "    # for each pet found in the unit, find std pet from the dictionary\n",
    "    for std_pet in dic_pet:\n",
    "        if any(std_pet in pet.lower() for pet in pet_list):\n",
    "            std_pet_list.append(dic_pet[std_pet])\n",
    "\n",
    "    # return std pet\n",
    "    return std_pet_list"
   ]
  },
  {
   "cell_type": "code",
   "execution_count": 105,
   "metadata": {},
   "outputs": [],
   "source": [
    "# define list of pets to check\n",
    "with open('data/pet','r') as dic:\n",
    "    dic_pet = eval(dic.read())\n",
    "\n",
    "# apply \"std_pet_policy\"\n",
    "df[\"pet_policy\"] = df[\"pet_policy\"].apply(std_pet_policy)"
   ]
  },
  {
   "cell_type": "code",
   "execution_count": 106,
   "metadata": {},
   "outputs": [
    {
     "data": {
      "text/plain": [
       "[dog, cat]    4337\n",
       "[]            2034\n",
       "[cat]          239\n",
       "[dog]          114\n",
       "Name: pet_policy, dtype: int64"
      ]
     },
     "execution_count": 106,
     "metadata": {},
     "output_type": "execute_result"
    }
   ],
   "source": [
    "df.pet_policy.value_counts()"
   ]
  },
  {
   "cell_type": "code",
   "execution_count": 107,
   "metadata": {},
   "outputs": [],
   "source": [
    "# concatenate dummy DataFrame\n",
    "df_dummy = df[\"pet_policy\"].str.join(sep='*').str.get_dummies(sep='*')\n",
    "\n",
    "# add prefix to all pet dummy columns\n",
    "df_dummy = df_dummy.add_prefix(\"pet_\")\n",
    "\n",
    "# concatenate dummy to the main DataFrame\n",
    "df = pd.concat([df, df_dummy], axis=1)\n",
    "\n",
    "# remove pet column since we converted it to dummies\n",
    "df.drop(\"pet_policy\", axis=1, inplace=True)"
   ]
  },
  {
   "cell_type": "markdown",
   "metadata": {},
   "source": [
    "### Amenities"
   ]
  },
  {
   "cell_type": "code",
   "execution_count": 108,
   "metadata": {},
   "outputs": [],
   "source": [
    "# function to apply to amenity column\n",
    "def std_amenity(amenity):\n",
    "    # list to temporary hold std amenties\n",
    "    std_amenity_list = []\n",
    "\n",
    "    # remove un-wanted characters\n",
    "    amenity = amenity.replace('[','')\n",
    "    amenity = amenity.replace(']','')\n",
    "    amenity = amenity.replace(\"'\",\"\")\n",
    "\n",
    "    # create list of amenties from the string\n",
    "    amenity_list = amenity.split(\",\")\n",
    "\n",
    "    # for each amenity found in the unit, find std amenity from the dictionary\n",
    "    for sam in dic_amenity:\n",
    "        if any(sam in am.lower() for am in amenity_list):\n",
    "            std_amenity_list.append(dic_amenity[sam])\n",
    "\n",
    "    # return std amenity\n",
    "    return std_amenity_list"
   ]
  },
  {
   "cell_type": "code",
   "execution_count": 109,
   "metadata": {},
   "outputs": [],
   "source": [
    "# define list of amenties to check\n",
    "with open('data/amenities','r') as dic:\n",
    "    dic_amenity = eval(dic.read())\n",
    "\n",
    "# apply \"std_amenity\"\n",
    "df[\"amenity\"] = df[\"amenity\"].apply(std_amenity)\n",
    "\n",
    "# concatenate dummy DataFrame\n",
    "df_dummy = df[\"amenity\"].str.join(sep='*').str.get_dummies(sep='*')\n",
    "\n",
    "# add prefix to all amenity dummy columns\n",
    "df_dummy = df_dummy.add_prefix(\"amenity_\")\n",
    "\n",
    "# concatenate dummy to the main DataFrame\n",
    "df = pd.concat([df, df_dummy], axis=1)"
   ]
  },
  {
   "cell_type": "code",
   "execution_count": 110,
   "metadata": {},
   "outputs": [],
   "source": [
    "# total amenities\n",
    "df['total_amenties'] = df['amenity'].apply(len)"
   ]
  },
  {
   "cell_type": "code",
   "execution_count": 111,
   "metadata": {},
   "outputs": [],
   "source": [
    "# remove amenty column since we converted it to dummies or don't want to count\n",
    "df.drop(\"amenity\", axis=1, inplace=True)"
   ]
  },
  {
   "cell_type": "markdown",
   "metadata": {},
   "source": [
    "### Extract address and title from rental_title"
   ]
  },
  {
   "cell_type": "code",
   "execution_count": 112,
   "metadata": {},
   "outputs": [],
   "source": [
    "def extract_city(string):\n",
    "    city = string.split(\",\")[-2:-1][0].strip().lower()\n",
    "    return city"
   ]
  },
  {
   "cell_type": "code",
   "execution_count": 113,
   "metadata": {},
   "outputs": [],
   "source": [
    "def extract_state(string):\n",
    "    state = string.split(\",\")[-1:][0].strip()\n",
    "    return state"
   ]
  },
  {
   "cell_type": "code",
   "execution_count": 114,
   "metadata": {},
   "outputs": [],
   "source": [
    "def extract_street(string):\n",
    "    street = string.split(\",\")[0].strip()\n",
    "    return street"
   ]
  },
  {
   "cell_type": "code",
   "execution_count": 115,
   "metadata": {},
   "outputs": [],
   "source": [
    "def extract_title(string):\n",
    "    title = string.split(\",\")[0].strip()\n",
    "    return title"
   ]
  },
  {
   "cell_type": "code",
   "execution_count": 116,
   "metadata": {},
   "outputs": [],
   "source": [
    "# change city to lower case\n",
    "df[\"city\"] = df[\"city\"].transform(lambda x: str(x).lower() if type(x) is str else None)\n",
    "\n",
    "# extract city from rental_title and merge with existing \"city\" column\n",
    "df[\"city\"] = df[\"city\"].combine_first(df[\"rental_title\"].apply(extract_city))\n",
    "\n",
    "# extract state from rental_title and merge with existing \"state\" column\n",
    "df[\"state\"] = df[\"state\"].combine_first(df[\"rental_title\"].apply(extract_state))\n",
    "\n",
    "# extract street from rental_title and merge with existing \"street\" column\n",
    "df[\"street_address\"] = df[\"street_address\"].combine_first(df[\"rental_title\"].apply(extract_street))\n",
    "\n",
    "# extract rental title from rental_title and replace the original rental_title\n",
    "df[\"rental_title\"] = df[\"rental_title\"].apply(extract_title)"
   ]
  },
  {
   "cell_type": "code",
   "execution_count": 117,
   "metadata": {},
   "outputs": [],
   "source": [
    "df['state']=df['state'].apply(lambda x: x.strip())"
   ]
  },
  {
   "cell_type": "markdown",
   "metadata": {},
   "source": [
    "### School information"
   ]
  },
  {
   "cell_type": "code",
   "execution_count": 118,
   "metadata": {},
   "outputs": [],
   "source": [
    "def school_rating_count(schools):\n",
    "\n",
    "    public_school_rating = []\n",
    "    private_school_count = 0\n",
    "\n",
    "    school_list = schools.split('}') \n",
    "    for i in range(len(school_list)-1):\n",
    "        rating = school_list[i].split(':')[-1].strip().split('rating')[1].split('gsIcon')[0]\n",
    "        if rating != 'NR':\n",
    "            public_school_rating.append(int(rating))\n",
    "        else:\n",
    "            private_school_count += 1\n",
    "            \n",
    "    if len(public_school_rating) > 0:\n",
    "        avg_school_rating = round(sum(public_school_rating)/len(public_school_rating),2)\n",
    "    else:\n",
    "        avg_school_rating = 999\n",
    "    return (avg_school_rating, private_school_count)"
   ]
  },
  {
   "cell_type": "code",
   "execution_count": 119,
   "metadata": {},
   "outputs": [],
   "source": [
    "for i in df.index:\n",
    "    df.loc[i,'avg_school_rating'],df.loc[i,'private_school_count']  = school_rating_count(df.loc[i,'school'])"
   ]
  },
  {
   "cell_type": "markdown",
   "metadata": {},
   "source": [
    "### Current cleaned up data"
   ]
  },
  {
   "cell_type": "code",
   "execution_count": 121,
   "metadata": {},
   "outputs": [
    {
     "data": {
      "text/html": [
       "<div>\n",
       "<style scoped>\n",
       "    .dataframe tbody tr th:only-of-type {\n",
       "        vertical-align: middle;\n",
       "    }\n",
       "\n",
       "    .dataframe tbody tr th {\n",
       "        vertical-align: top;\n",
       "    }\n",
       "\n",
       "    .dataframe thead th {\n",
       "        text-align: right;\n",
       "    }\n",
       "</style>\n",
       "<table border=\"1\" class=\"dataframe\">\n",
       "  <thead>\n",
       "    <tr style=\"text-align: right;\">\n",
       "      <th></th>\n",
       "      <th>rental_title</th>\n",
       "      <th>borough</th>\n",
       "      <th>street_address</th>\n",
       "      <th>city</th>\n",
       "      <th>state</th>\n",
       "      <th>postal_code</th>\n",
       "      <th>rating</th>\n",
       "      <th>school</th>\n",
       "      <th>bedrooms</th>\n",
       "      <th>bathrooms</th>\n",
       "      <th>...</th>\n",
       "      <th>amenity_tub</th>\n",
       "      <th>amenity_views</th>\n",
       "      <th>amenity_walk-in closets</th>\n",
       "      <th>amenity_washer/dryer</th>\n",
       "      <th>amenity_wheelchair</th>\n",
       "      <th>amenity_wifi</th>\n",
       "      <th>amenity_yoga studio</th>\n",
       "      <th>total_amenties</th>\n",
       "      <th>avg_school_rating</th>\n",
       "      <th>private_school_count</th>\n",
       "    </tr>\n",
       "  </thead>\n",
       "  <tbody>\n",
       "    <tr>\n",
       "      <th>0</th>\n",
       "      <td>Halletts Point</td>\n",
       "      <td>Manhattan</td>\n",
       "      <td>'10 Halletts Pt'</td>\n",
       "      <td>'astoria'</td>\n",
       "      <td>'NY'</td>\n",
       "      <td>'11102'</td>\n",
       "      <td>5</td>\n",
       "      <td>[{'school_name': 'Public Elementary School', '...</td>\n",
       "      <td>0</td>\n",
       "      <td>1.0</td>\n",
       "      <td>...</td>\n",
       "      <td>0</td>\n",
       "      <td>0</td>\n",
       "      <td>0</td>\n",
       "      <td>1</td>\n",
       "      <td>0</td>\n",
       "      <td>1</td>\n",
       "      <td>0</td>\n",
       "      <td>26</td>\n",
       "      <td>4.33</td>\n",
       "      <td>2.0</td>\n",
       "    </tr>\n",
       "    <tr>\n",
       "      <th>1</th>\n",
       "      <td>Halletts Point</td>\n",
       "      <td>Manhattan</td>\n",
       "      <td>'10 Halletts Pt'</td>\n",
       "      <td>'astoria'</td>\n",
       "      <td>'NY'</td>\n",
       "      <td>'11102'</td>\n",
       "      <td>5</td>\n",
       "      <td>[{'school_name': 'Public Elementary School', '...</td>\n",
       "      <td>0</td>\n",
       "      <td>1.0</td>\n",
       "      <td>...</td>\n",
       "      <td>0</td>\n",
       "      <td>0</td>\n",
       "      <td>0</td>\n",
       "      <td>1</td>\n",
       "      <td>0</td>\n",
       "      <td>1</td>\n",
       "      <td>0</td>\n",
       "      <td>26</td>\n",
       "      <td>4.33</td>\n",
       "      <td>2.0</td>\n",
       "    </tr>\n",
       "    <tr>\n",
       "      <th>2</th>\n",
       "      <td>Halletts Point</td>\n",
       "      <td>Manhattan</td>\n",
       "      <td>'10 Halletts Pt'</td>\n",
       "      <td>'astoria'</td>\n",
       "      <td>'NY'</td>\n",
       "      <td>'11102'</td>\n",
       "      <td>5</td>\n",
       "      <td>[{'school_name': 'Public Elementary School', '...</td>\n",
       "      <td>1</td>\n",
       "      <td>1.0</td>\n",
       "      <td>...</td>\n",
       "      <td>0</td>\n",
       "      <td>0</td>\n",
       "      <td>0</td>\n",
       "      <td>1</td>\n",
       "      <td>0</td>\n",
       "      <td>1</td>\n",
       "      <td>0</td>\n",
       "      <td>26</td>\n",
       "      <td>4.33</td>\n",
       "      <td>2.0</td>\n",
       "    </tr>\n",
       "    <tr>\n",
       "      <th>3</th>\n",
       "      <td>Halletts Point</td>\n",
       "      <td>Manhattan</td>\n",
       "      <td>'10 Halletts Pt'</td>\n",
       "      <td>'astoria'</td>\n",
       "      <td>'NY'</td>\n",
       "      <td>'11102'</td>\n",
       "      <td>5</td>\n",
       "      <td>[{'school_name': 'Public Elementary School', '...</td>\n",
       "      <td>1</td>\n",
       "      <td>1.0</td>\n",
       "      <td>...</td>\n",
       "      <td>0</td>\n",
       "      <td>0</td>\n",
       "      <td>0</td>\n",
       "      <td>1</td>\n",
       "      <td>0</td>\n",
       "      <td>1</td>\n",
       "      <td>0</td>\n",
       "      <td>26</td>\n",
       "      <td>4.33</td>\n",
       "      <td>2.0</td>\n",
       "    </tr>\n",
       "    <tr>\n",
       "      <th>4</th>\n",
       "      <td>Halletts Point</td>\n",
       "      <td>Manhattan</td>\n",
       "      <td>'10 Halletts Pt'</td>\n",
       "      <td>'astoria'</td>\n",
       "      <td>'NY'</td>\n",
       "      <td>'11102'</td>\n",
       "      <td>5</td>\n",
       "      <td>[{'school_name': 'Public Elementary School', '...</td>\n",
       "      <td>1</td>\n",
       "      <td>1.0</td>\n",
       "      <td>...</td>\n",
       "      <td>0</td>\n",
       "      <td>0</td>\n",
       "      <td>0</td>\n",
       "      <td>1</td>\n",
       "      <td>0</td>\n",
       "      <td>1</td>\n",
       "      <td>0</td>\n",
       "      <td>26</td>\n",
       "      <td>4.33</td>\n",
       "      <td>2.0</td>\n",
       "    </tr>\n",
       "  </tbody>\n",
       "</table>\n",
       "<p>5 rows × 88 columns</p>\n",
       "</div>"
      ],
      "text/plain": [
       "     rental_title    borough     street_address        city state postal_code  \\\n",
       "0  Halletts Point  Manhattan   '10 Halletts Pt'   'astoria'  'NY'     '11102'   \n",
       "1  Halletts Point  Manhattan   '10 Halletts Pt'   'astoria'  'NY'     '11102'   \n",
       "2  Halletts Point  Manhattan   '10 Halletts Pt'   'astoria'  'NY'     '11102'   \n",
       "3  Halletts Point  Manhattan   '10 Halletts Pt'   'astoria'  'NY'     '11102'   \n",
       "4  Halletts Point  Manhattan   '10 Halletts Pt'   'astoria'  'NY'     '11102'   \n",
       "\n",
       "   rating                                             school  bedrooms  \\\n",
       "0       5  [{'school_name': 'Public Elementary School', '...         0   \n",
       "1       5  [{'school_name': 'Public Elementary School', '...         0   \n",
       "2       5  [{'school_name': 'Public Elementary School', '...         1   \n",
       "3       5  [{'school_name': 'Public Elementary School', '...         1   \n",
       "4       5  [{'school_name': 'Public Elementary School', '...         1   \n",
       "\n",
       "   bathrooms          ...           amenity_tub  amenity_views  \\\n",
       "0        1.0          ...                     0              0   \n",
       "1        1.0          ...                     0              0   \n",
       "2        1.0          ...                     0              0   \n",
       "3        1.0          ...                     0              0   \n",
       "4        1.0          ...                     0              0   \n",
       "\n",
       "   amenity_walk-in closets  amenity_washer/dryer  amenity_wheelchair  \\\n",
       "0                        0                     1                   0   \n",
       "1                        0                     1                   0   \n",
       "2                        0                     1                   0   \n",
       "3                        0                     1                   0   \n",
       "4                        0                     1                   0   \n",
       "\n",
       "   amenity_wifi  amenity_yoga studio  total_amenties  avg_school_rating  \\\n",
       "0             1                    0              26               4.33   \n",
       "1             1                    0              26               4.33   \n",
       "2             1                    0              26               4.33   \n",
       "3             1                    0              26               4.33   \n",
       "4             1                    0              26               4.33   \n",
       "\n",
       "   private_school_count  \n",
       "0                   2.0  \n",
       "1                   2.0  \n",
       "2                   2.0  \n",
       "3                   2.0  \n",
       "4                   2.0  \n",
       "\n",
       "[5 rows x 88 columns]"
      ]
     },
     "execution_count": 121,
     "metadata": {},
     "output_type": "execute_result"
    }
   ],
   "source": [
    "df.head()"
   ]
  },
  {
   "cell_type": "code",
   "execution_count": 122,
   "metadata": {},
   "outputs": [
    {
     "data": {
      "text/html": [
       "<div>\n",
       "<style scoped>\n",
       "    .dataframe tbody tr th:only-of-type {\n",
       "        vertical-align: middle;\n",
       "    }\n",
       "\n",
       "    .dataframe tbody tr th {\n",
       "        vertical-align: top;\n",
       "    }\n",
       "\n",
       "    .dataframe thead th {\n",
       "        text-align: right;\n",
       "    }\n",
       "</style>\n",
       "<table border=\"1\" class=\"dataframe\">\n",
       "  <thead>\n",
       "    <tr style=\"text-align: right;\">\n",
       "      <th></th>\n",
       "      <th>rating</th>\n",
       "      <th>bedrooms</th>\n",
       "      <th>bathrooms</th>\n",
       "      <th>rent</th>\n",
       "      <th>sqft</th>\n",
       "      <th>built_year</th>\n",
       "      <th>apartment_age</th>\n",
       "      <th>property_size</th>\n",
       "      <th>pet_cat</th>\n",
       "      <th>pet_dog</th>\n",
       "      <th>...</th>\n",
       "      <th>amenity_tub</th>\n",
       "      <th>amenity_views</th>\n",
       "      <th>amenity_walk-in closets</th>\n",
       "      <th>amenity_washer/dryer</th>\n",
       "      <th>amenity_wheelchair</th>\n",
       "      <th>amenity_wifi</th>\n",
       "      <th>amenity_yoga studio</th>\n",
       "      <th>total_amenties</th>\n",
       "      <th>avg_school_rating</th>\n",
       "      <th>private_school_count</th>\n",
       "    </tr>\n",
       "  </thead>\n",
       "  <tbody>\n",
       "    <tr>\n",
       "      <th>count</th>\n",
       "      <td>6724.000000</td>\n",
       "      <td>6724.000000</td>\n",
       "      <td>6724.000000</td>\n",
       "      <td>6724.000000</td>\n",
       "      <td>6724.000000</td>\n",
       "      <td>6724.000000</td>\n",
       "      <td>6724.000000</td>\n",
       "      <td>6724.000000</td>\n",
       "      <td>6724.000000</td>\n",
       "      <td>6724.000000</td>\n",
       "      <td>...</td>\n",
       "      <td>6724.000000</td>\n",
       "      <td>6724.000000</td>\n",
       "      <td>6724.000000</td>\n",
       "      <td>6724.000000</td>\n",
       "      <td>6724.000000</td>\n",
       "      <td>6724.000000</td>\n",
       "      <td>6724.000000</td>\n",
       "      <td>6724.000000</td>\n",
       "      <td>6724.000000</td>\n",
       "      <td>6724.000000</td>\n",
       "    </tr>\n",
       "    <tr>\n",
       "      <th>mean</th>\n",
       "      <td>394.512641</td>\n",
       "      <td>1.509964</td>\n",
       "      <td>2.741746</td>\n",
       "      <td>2538.930973</td>\n",
       "      <td>671.400506</td>\n",
       "      <td>1604.690958</td>\n",
       "      <td>414.309042</td>\n",
       "      <td>733.225312</td>\n",
       "      <td>0.680547</td>\n",
       "      <td>0.661957</td>\n",
       "      <td>...</td>\n",
       "      <td>0.086109</td>\n",
       "      <td>0.192594</td>\n",
       "      <td>0.134741</td>\n",
       "      <td>0.311273</td>\n",
       "      <td>0.175640</td>\n",
       "      <td>0.283462</td>\n",
       "      <td>0.006395</td>\n",
       "      <td>13.549078</td>\n",
       "      <td>326.835233</td>\n",
       "      <td>1.564396</td>\n",
       "    </tr>\n",
       "    <tr>\n",
       "      <th>std</th>\n",
       "      <td>485.441623</td>\n",
       "      <td>1.013249</td>\n",
       "      <td>38.454527</td>\n",
       "      <td>1658.584654</td>\n",
       "      <td>440.572943</td>\n",
       "      <td>488.421971</td>\n",
       "      <td>488.421971</td>\n",
       "      <td>1077.343464</td>\n",
       "      <td>0.466299</td>\n",
       "      <td>0.473078</td>\n",
       "      <td>...</td>\n",
       "      <td>0.280546</td>\n",
       "      <td>0.394366</td>\n",
       "      <td>0.341472</td>\n",
       "      <td>0.463049</td>\n",
       "      <td>0.380541</td>\n",
       "      <td>0.450712</td>\n",
       "      <td>0.079719</td>\n",
       "      <td>10.547068</td>\n",
       "      <td>464.658617</td>\n",
       "      <td>1.401489</td>\n",
       "    </tr>\n",
       "    <tr>\n",
       "      <th>min</th>\n",
       "      <td>1.000000</td>\n",
       "      <td>0.000000</td>\n",
       "      <td>0.500000</td>\n",
       "      <td>600.000000</td>\n",
       "      <td>0.000000</td>\n",
       "      <td>999.000000</td>\n",
       "      <td>0.000000</td>\n",
       "      <td>4.000000</td>\n",
       "      <td>0.000000</td>\n",
       "      <td>0.000000</td>\n",
       "      <td>...</td>\n",
       "      <td>0.000000</td>\n",
       "      <td>0.000000</td>\n",
       "      <td>0.000000</td>\n",
       "      <td>0.000000</td>\n",
       "      <td>0.000000</td>\n",
       "      <td>0.000000</td>\n",
       "      <td>0.000000</td>\n",
       "      <td>0.000000</td>\n",
       "      <td>2.000000</td>\n",
       "      <td>0.000000</td>\n",
       "    </tr>\n",
       "    <tr>\n",
       "      <th>25%</th>\n",
       "      <td>5.000000</td>\n",
       "      <td>1.000000</td>\n",
       "      <td>1.000000</td>\n",
       "      <td>1475.000000</td>\n",
       "      <td>475.750000</td>\n",
       "      <td>999.000000</td>\n",
       "      <td>9.000000</td>\n",
       "      <td>295.000000</td>\n",
       "      <td>0.000000</td>\n",
       "      <td>0.000000</td>\n",
       "      <td>...</td>\n",
       "      <td>0.000000</td>\n",
       "      <td>0.000000</td>\n",
       "      <td>0.000000</td>\n",
       "      <td>0.000000</td>\n",
       "      <td>0.000000</td>\n",
       "      <td>0.000000</td>\n",
       "      <td>0.000000</td>\n",
       "      <td>3.000000</td>\n",
       "      <td>5.000000</td>\n",
       "      <td>0.000000</td>\n",
       "    </tr>\n",
       "    <tr>\n",
       "      <th>50%</th>\n",
       "      <td>5.000000</td>\n",
       "      <td>1.000000</td>\n",
       "      <td>1.000000</td>\n",
       "      <td>2225.000000</td>\n",
       "      <td>700.000000</td>\n",
       "      <td>1971.000000</td>\n",
       "      <td>48.000000</td>\n",
       "      <td>571.000000</td>\n",
       "      <td>1.000000</td>\n",
       "      <td>1.000000</td>\n",
       "      <td>...</td>\n",
       "      <td>0.000000</td>\n",
       "      <td>0.000000</td>\n",
       "      <td>0.000000</td>\n",
       "      <td>0.000000</td>\n",
       "      <td>0.000000</td>\n",
       "      <td>0.000000</td>\n",
       "      <td>0.000000</td>\n",
       "      <td>14.000000</td>\n",
       "      <td>7.000000</td>\n",
       "      <td>2.000000</td>\n",
       "    </tr>\n",
       "    <tr>\n",
       "      <th>75%</th>\n",
       "      <td>999.000000</td>\n",
       "      <td>2.000000</td>\n",
       "      <td>1.125000</td>\n",
       "      <td>3150.000000</td>\n",
       "      <td>932.000000</td>\n",
       "      <td>2010.000000</td>\n",
       "      <td>1020.000000</td>\n",
       "      <td>999.000000</td>\n",
       "      <td>1.000000</td>\n",
       "      <td>1.000000</td>\n",
       "      <td>...</td>\n",
       "      <td>0.000000</td>\n",
       "      <td>0.000000</td>\n",
       "      <td>0.000000</td>\n",
       "      <td>1.000000</td>\n",
       "      <td>0.000000</td>\n",
       "      <td>1.000000</td>\n",
       "      <td>0.000000</td>\n",
       "      <td>24.000000</td>\n",
       "      <td>999.000000</td>\n",
       "      <td>2.000000</td>\n",
       "    </tr>\n",
       "    <tr>\n",
       "      <th>max</th>\n",
       "      <td>999.000000</td>\n",
       "      <td>7.000000</td>\n",
       "      <td>999.000000</td>\n",
       "      <td>57000.000000</td>\n",
       "      <td>7250.000000</td>\n",
       "      <td>2019.000000</td>\n",
       "      <td>1020.000000</td>\n",
       "      <td>12271.000000</td>\n",
       "      <td>1.000000</td>\n",
       "      <td>1.000000</td>\n",
       "      <td>...</td>\n",
       "      <td>1.000000</td>\n",
       "      <td>1.000000</td>\n",
       "      <td>1.000000</td>\n",
       "      <td>1.000000</td>\n",
       "      <td>1.000000</td>\n",
       "      <td>1.000000</td>\n",
       "      <td>1.000000</td>\n",
       "      <td>31.000000</td>\n",
       "      <td>999.000000</td>\n",
       "      <td>11.000000</td>\n",
       "    </tr>\n",
       "  </tbody>\n",
       "</table>\n",
       "<p>8 rows × 81 columns</p>\n",
       "</div>"
      ],
      "text/plain": [
       "            rating     bedrooms    bathrooms          rent         sqft  \\\n",
       "count  6724.000000  6724.000000  6724.000000   6724.000000  6724.000000   \n",
       "mean    394.512641     1.509964     2.741746   2538.930973   671.400506   \n",
       "std     485.441623     1.013249    38.454527   1658.584654   440.572943   \n",
       "min       1.000000     0.000000     0.500000    600.000000     0.000000   \n",
       "25%       5.000000     1.000000     1.000000   1475.000000   475.750000   \n",
       "50%       5.000000     1.000000     1.000000   2225.000000   700.000000   \n",
       "75%     999.000000     2.000000     1.125000   3150.000000   932.000000   \n",
       "max     999.000000     7.000000   999.000000  57000.000000  7250.000000   \n",
       "\n",
       "        built_year  apartment_age  property_size      pet_cat      pet_dog  \\\n",
       "count  6724.000000    6724.000000    6724.000000  6724.000000  6724.000000   \n",
       "mean   1604.690958     414.309042     733.225312     0.680547     0.661957   \n",
       "std     488.421971     488.421971    1077.343464     0.466299     0.473078   \n",
       "min     999.000000       0.000000       4.000000     0.000000     0.000000   \n",
       "25%     999.000000       9.000000     295.000000     0.000000     0.000000   \n",
       "50%    1971.000000      48.000000     571.000000     1.000000     1.000000   \n",
       "75%    2010.000000    1020.000000     999.000000     1.000000     1.000000   \n",
       "max    2019.000000    1020.000000   12271.000000     1.000000     1.000000   \n",
       "\n",
       "               ...           amenity_tub  amenity_views  \\\n",
       "count          ...           6724.000000    6724.000000   \n",
       "mean           ...              0.086109       0.192594   \n",
       "std            ...              0.280546       0.394366   \n",
       "min            ...              0.000000       0.000000   \n",
       "25%            ...              0.000000       0.000000   \n",
       "50%            ...              0.000000       0.000000   \n",
       "75%            ...              0.000000       0.000000   \n",
       "max            ...              1.000000       1.000000   \n",
       "\n",
       "       amenity_walk-in closets  amenity_washer/dryer  amenity_wheelchair  \\\n",
       "count              6724.000000           6724.000000         6724.000000   \n",
       "mean                  0.134741              0.311273            0.175640   \n",
       "std                   0.341472              0.463049            0.380541   \n",
       "min                   0.000000              0.000000            0.000000   \n",
       "25%                   0.000000              0.000000            0.000000   \n",
       "50%                   0.000000              0.000000            0.000000   \n",
       "75%                   0.000000              1.000000            0.000000   \n",
       "max                   1.000000              1.000000            1.000000   \n",
       "\n",
       "       amenity_wifi  amenity_yoga studio  total_amenties  avg_school_rating  \\\n",
       "count   6724.000000          6724.000000     6724.000000        6724.000000   \n",
       "mean       0.283462             0.006395       13.549078         326.835233   \n",
       "std        0.450712             0.079719       10.547068         464.658617   \n",
       "min        0.000000             0.000000        0.000000           2.000000   \n",
       "25%        0.000000             0.000000        3.000000           5.000000   \n",
       "50%        0.000000             0.000000       14.000000           7.000000   \n",
       "75%        1.000000             0.000000       24.000000         999.000000   \n",
       "max        1.000000             1.000000       31.000000         999.000000   \n",
       "\n",
       "       private_school_count  \n",
       "count           6724.000000  \n",
       "mean               1.564396  \n",
       "std                1.401489  \n",
       "min                0.000000  \n",
       "25%                0.000000  \n",
       "50%                2.000000  \n",
       "75%                2.000000  \n",
       "max               11.000000  \n",
       "\n",
       "[8 rows x 81 columns]"
      ]
     },
     "execution_count": 122,
     "metadata": {},
     "output_type": "execute_result"
    }
   ],
   "source": [
    "df.describe()"
   ]
  },
  {
   "cell_type": "code",
   "execution_count": 123,
   "metadata": {},
   "outputs": [],
   "source": [
    "df_NY = df.loc[df['state'] == \"'NY'\"]\n",
    "df_NJ = df.loc[df['state'] == \"'NJ'\"]"
   ]
  },
  {
   "cell_type": "code",
   "execution_count": 124,
   "metadata": {},
   "outputs": [
    {
     "data": {
      "text/plain": [
       "(214, 88)"
      ]
     },
     "execution_count": 124,
     "metadata": {},
     "output_type": "execute_result"
    }
   ],
   "source": [
    "df_NJ.shape"
   ]
  },
  {
   "cell_type": "code",
   "execution_count": 125,
   "metadata": {},
   "outputs": [
    {
     "data": {
      "text/plain": [
       "borough        postal_code\n",
       "Bronx           '10463'       108\n",
       "                '10468'        52\n",
       "                '10032'        44\n",
       "                '10458'        37\n",
       "                '10462'        37\n",
       "                '10033'        35\n",
       "                '10034'        35\n",
       "                '10031'        34\n",
       "                '10461'        33\n",
       "                '10471'        30\n",
       "                '10453'        29\n",
       "                '10457'        24\n",
       "                '10035'        23\n",
       "                '10467'        23\n",
       "                '10452'        22\n",
       "                '10040'        21\n",
       "                '10456'        19\n",
       "                '10454'        18\n",
       "                '10029'        17\n",
       "                '10455'        16\n",
       "                '10451'        14\n",
       "                '10465'        14\n",
       "                '10459'        12\n",
       "                '10039'        11\n",
       "                '10030'        10\n",
       "                '10466'        10\n",
       "                '10460'         9\n",
       "                '10473'         9\n",
       "                '10037'         7\n",
       "                '10705'         7\n",
       "                             ... \n",
       "Queens          '11428'         5\n",
       "                '11412'         4\n",
       "                '11419'         4\n",
       "                '11429'         4\n",
       "                '11433'         4\n",
       "                '11694'         4\n",
       "                '11004'         3\n",
       "                '11207'         3\n",
       "                '11221'         3\n",
       "                '11366'         3\n",
       "                '11370'         3\n",
       "                '11208'         2\n",
       "                '11421'         2\n",
       "                '11040'         1\n",
       "                '11427'         1\n",
       "                '11436'         1\n",
       "Staten Island   '10304'        86\n",
       "                '10301'        26\n",
       "                '11691'        25\n",
       "                '10314'        17\n",
       "                '10306'        14\n",
       "                '10305'        12\n",
       "                '10308'         8\n",
       "                '10312'         8\n",
       "                '10307'         4\n",
       "                '10309'         3\n",
       "                '10302'         2\n",
       "                '10310'         2\n",
       "                '10303'         1\n",
       "                '11423'         1\n",
       "Name: postal_code, Length: 219, dtype: int64"
      ]
     },
     "execution_count": 125,
     "metadata": {},
     "output_type": "execute_result"
    }
   ],
   "source": [
    "df_NY.groupby('borough')['postal_code'].value_counts()"
   ]
  },
  {
   "cell_type": "markdown",
   "metadata": {},
   "source": [
    "## Save DataFrame as csv"
   ]
  },
  {
   "cell_type": "code",
   "execution_count": 126,
   "metadata": {},
   "outputs": [],
   "source": [
    "df.drop([\"rental_title\",'street_address','school'], axis=1, inplace=True)"
   ]
  },
  {
   "cell_type": "code",
   "execution_count": 127,
   "metadata": {},
   "outputs": [
    {
     "name": "stdout",
     "output_type": "stream",
     "text": [
      "<class 'pandas.core.frame.DataFrame'>\n",
      "Int64Index: 6724 entries, 0 to 7796\n",
      "Data columns (total 85 columns):\n",
      "borough                              6724 non-null object\n",
      "city                                 6724 non-null object\n",
      "state                                6724 non-null object\n",
      "postal_code                          6724 non-null object\n",
      "rating                               6724 non-null int64\n",
      "bedrooms                             6724 non-null int64\n",
      "bathrooms                            6724 non-null float64\n",
      "rent                                 6724 non-null float64\n",
      "sqft                                 6724 non-null int64\n",
      "built_year                           6724 non-null int64\n",
      "apartment_age                        6724 non-null int64\n",
      "property_size                        6724 non-null int64\n",
      "pet_cat                              6724 non-null int64\n",
      "pet_dog                              6724 non-null int64\n",
      "amenity_air conditioning             6724 non-null int64\n",
      "amenity_alcove                       6724 non-null int64\n",
      "amenity_balcony                      6724 non-null int64\n",
      "amenity_basketball                   6724 non-null int64\n",
      "amenity_bike storage                 6724 non-null int64\n",
      "amenity_business                     6724 non-null int64\n",
      "amenity_cable                        6724 non-null int64\n",
      "amenity_ceiling fans                 6724 non-null int64\n",
      "amenity_charging station             6724 non-null int64\n",
      "amenity_clubhouse                    6724 non-null int64\n",
      "amenity_concierge                    6724 non-null int64\n",
      "amenity_controlled                   6724 non-null int64\n",
      "amenity_courtyard                    6724 non-null int64\n",
      "amenity_dishwasher                   6724 non-null int64\n",
      "amenity_disposal                     6724 non-null int64\n",
      "amenity_dry cleaning                 6724 non-null int64\n",
      "amenity_elevator                     6724 non-null int64\n",
      "amenity_fitness                      6724 non-null int64\n",
      "amenity_furnished                    6724 non-null int64\n",
      "amenity_game                         6724 non-null int64\n",
      "amenity_gated                        6724 non-null int64\n",
      "amenity_granite                      6724 non-null int64\n",
      "amenity_grill                        6724 non-null int64\n",
      "amenity_hardwood                     6724 non-null int64\n",
      "amenity_heat/hot water included      6724 non-null int64\n",
      "amenity_heating                      6724 non-null int64\n",
      "amenity_high ceilings                6724 non-null int64\n",
      "amenity_internet                     6724 non-null int64\n",
      "amenity_laundary facilities          6724 non-null int64\n",
      "amenity_laundry service              6724 non-null int64\n",
      "amenity_library                      6724 non-null int64\n",
      "amenity_lounge                       6724 non-null int64\n",
      "amenity_maid                         6724 non-null int64\n",
      "amenity_maintenance                  6724 non-null int64\n",
      "amenity_microwave                    6724 non-null int64\n",
      "amenity_movie                        6724 non-null int64\n",
      "amenity_online service               6724 non-null int64\n",
      "amenity_oven                         6724 non-null int64\n",
      "amenity_package                      6724 non-null int64\n",
      "amenity_parking available            6724 non-null int64\n",
      "amenity_parking garage               6724 non-null int64\n",
      "amenity_patio                        6724 non-null int64\n",
      "amenity_pet care                     6724 non-null int64\n",
      "amenity_pet play area                6724 non-null int64\n",
      "amenity_picnic                       6724 non-null int64\n",
      "amenity_planned social activities    6724 non-null int64\n",
      "amenity_playground                   6724 non-null int64\n",
      "amenity_pool                         6724 non-null int64\n",
      "amenity_private outdoor space        6724 non-null int64\n",
      "amenity_recycling                    6724 non-null int64\n",
      "amenity_refrigerator                 6724 non-null int64\n",
      "amenity_renovated                    6724 non-null int64\n",
      "amenity_retail                       6724 non-null int64\n",
      "amenity_rooftop                      6724 non-null int64\n",
      "amenity_smoke free                   6724 non-null int64\n",
      "amenity_spa                          6724 non-null int64\n",
      "amenity_stainless                    6724 non-null int64\n",
      "amenity_storage space                6724 non-null int64\n",
      "amenity_stove                        6724 non-null int64\n",
      "amenity_sundeck                      6724 non-null int64\n",
      "amenity_terrace                      6724 non-null int64\n",
      "amenity_tub                          6724 non-null int64\n",
      "amenity_views                        6724 non-null int64\n",
      "amenity_walk-in closets              6724 non-null int64\n",
      "amenity_washer/dryer                 6724 non-null int64\n",
      "amenity_wheelchair                   6724 non-null int64\n",
      "amenity_wifi                         6724 non-null int64\n",
      "amenity_yoga studio                  6724 non-null int64\n",
      "total_amenties                       6724 non-null int64\n",
      "avg_school_rating                    6724 non-null float64\n",
      "private_school_count                 6724 non-null float64\n",
      "dtypes: float64(4), int64(77), object(4)\n",
      "memory usage: 4.7+ MB\n",
      "None\n"
     ]
    }
   ],
   "source": [
    "# check before save to csv\n",
    "print(df.info())"
   ]
  },
  {
   "cell_type": "code",
   "execution_count": 128,
   "metadata": {},
   "outputs": [],
   "source": [
    "# save as csv\n",
    "df.to_csv(\"data/ny_rental_data_cleaned_v2.csv\")"
   ]
  },
  {
   "cell_type": "code",
   "execution_count": null,
   "metadata": {},
   "outputs": [],
   "source": [
    "### list of features we have: \n",
    "# clean up zip code; \n",
    "# property_info -> unit/size\n",
    "# school: \n",
    "# communication (for next version)\n",
    "# so basically, we have: postal_code, borough, bedrooms, bathrooms, sqft, rating, amenity, pet_policy, unit/size, school_rating, private_school, \n",
    "# df.drop(columns = ['rental_title','neighbor',])"
   ]
  },
  {
   "cell_type": "markdown",
   "metadata": {},
   "source": [
    "## Full address"
   ]
  },
  {
   "cell_type": "code",
   "execution_count": 42,
   "metadata": {},
   "outputs": [],
   "source": [
    "# # remove unit from addresses\n",
    "# df[\"street_address\"] = df[\"street_address\"].apply(lambda x: x.split(\"Unit\")[0].strip())\n",
    "\n",
    "# # Create full address column\n",
    "# df[\"full_address\"] = df[['street_address', 'city', 'state']].apply(lambda x: ', '.join(x), axis=1)"
   ]
  },
  {
   "cell_type": "markdown",
   "metadata": {},
   "source": [
    "## Longitude and latitude"
   ]
  },
  {
   "cell_type": "code",
   "execution_count": 49,
   "metadata": {},
   "outputs": [],
   "source": [
    "# def geocoder_request(address):\n",
    "#     return geocoder.google(address,sensor=False)"
   ]
  },
  {
   "cell_type": "code",
   "execution_count": 203,
   "metadata": {
    "scrolled": true
   },
   "outputs": [],
   "source": [
    "# longitude = []\n",
    "# latitude = []\n",
    "\n",
    "# # loop over all addresses, get longitude, latitude\n",
    "# for address in df[\"full_address\"]:\n",
    "   \n",
    "#     # set maximum retry\n",
    "#     max_retry = 5\n",
    "  \n",
    "#     # attempt to retrieve address by request geocode\n",
    "#     retry = 0\n",
    "#     while retry < max_retry:\n",
    "    \n",
    "#         # request geocode\n",
    "#         geocode = geocoder_request(address)\n",
    "    \n",
    "#         # pause for a few seconds\n",
    "#         time.sleep(1)\n",
    "        \n",
    "#         # append good longitude and latitude\n",
    "#         if geocode.status == \"OK\":\n",
    "#             longitude.append(geocode.lng)\n",
    "#             latitude.append(geocode.lat)\n",
    "           \n",
    "#             # break out of while loop\n",
    "#             break\n",
    "            \n",
    "#         # count retry\n",
    "#         retry = retry+1\n",
    "   \n",
    "#     # if status code is not okay, print address\n",
    "#     if not geocode.status == \"OK\":\n",
    "#         print(\"%s status from %s\" % (geocode.status, address))\n",
    "        \n",
    "#         # place holder\n",
    "#         longitude.append(\"\")\n",
    "#         latitude.append(\"\")\n",
    "\n",
    "# print(\"Completed collecting geocodes.\")\n",
    "        \n",
    "# df[\"longitude\"] = longitude\n",
    "# df[\"latitude\"] = latitude"
   ]
  }
 ],
 "metadata": {
  "anaconda-cloud": {},
  "kernelspec": {
   "display_name": "Python 3",
   "language": "python",
   "name": "python3"
  },
  "language_info": {
   "codemirror_mode": {
    "name": "ipython",
    "version": 3
   },
   "file_extension": ".py",
   "mimetype": "text/x-python",
   "name": "python",
   "nbconvert_exporter": "python",
   "pygments_lexer": "ipython3",
   "version": "3.7.3"
  }
 },
 "nbformat": 4,
 "nbformat_minor": 1
}
