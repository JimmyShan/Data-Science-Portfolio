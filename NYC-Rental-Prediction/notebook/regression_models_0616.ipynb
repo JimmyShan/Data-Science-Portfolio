{
 "cells": [
  {
   "cell_type": "markdown",
   "metadata": {},
   "source": [
    "# RandomForest, GradientBoosting and KNN Regression\n",
    "---"
   ]
  },
  {
   "cell_type": "markdown",
   "metadata": {},
   "source": [
    "In this notebook, regression models are built for predicting apartment rent in NYC.\n",
    "\n",
    "First, DataFrame containing features such as location, number of bedrooms and bathrooms, and amenities are read from a file. The samples are split into train and test dataset, and regression models are optimized using cross-validation.\n",
    "\n",
    "Then the performance of two regression models, RandomForest and GradientBoosting, are compared."
   ]
  },
  {
   "cell_type": "markdown",
   "metadata": {},
   "source": [
    "## Import libraries and data"
   ]
  },
  {
   "cell_type": "code",
   "execution_count": 6,
   "metadata": {},
   "outputs": [],
   "source": [
    "import pandas as pd\n",
    "import numpy as np\n",
    "import matplotlib.pyplot as plt\n",
    "import seaborn as sns\n",
    "\n",
    "%matplotlib inline"
   ]
  },
  {
   "cell_type": "code",
   "execution_count": 7,
   "metadata": {},
   "outputs": [],
   "source": [
    "# set style sheet\n",
    "plt.style.use(\"ggplot\")\n",
    "sns.set_style(\"whitegrid\")\n",
    "#sns.set_style(\"white\")"
   ]
  },
  {
   "cell_type": "code",
   "execution_count": 8,
   "metadata": {},
   "outputs": [],
   "source": [
    "# import cleaned dataset\n",
    "df = pd.read_csv(\"data/ny_rental_data_cleaned_v3.csv\", index_col=0)"
   ]
  },
  {
   "cell_type": "code",
   "execution_count": 9,
   "metadata": {
    "scrolled": true
   },
   "outputs": [
    {
     "data": {
      "text/html": [
       "<div>\n",
       "<style scoped>\n",
       "    .dataframe tbody tr th:only-of-type {\n",
       "        vertical-align: middle;\n",
       "    }\n",
       "\n",
       "    .dataframe tbody tr th {\n",
       "        vertical-align: top;\n",
       "    }\n",
       "\n",
       "    .dataframe thead th {\n",
       "        text-align: right;\n",
       "    }\n",
       "</style>\n",
       "<table border=\"1\" class=\"dataframe\">\n",
       "  <thead>\n",
       "    <tr style=\"text-align: right;\">\n",
       "      <th></th>\n",
       "      <th>rating</th>\n",
       "      <th>bedrooms</th>\n",
       "      <th>bathrooms</th>\n",
       "      <th>rent</th>\n",
       "      <th>sqft</th>\n",
       "      <th>built_year</th>\n",
       "      <th>apartment_age</th>\n",
       "      <th>property_size</th>\n",
       "      <th>pet_cat</th>\n",
       "      <th>pet_dog</th>\n",
       "      <th>...</th>\n",
       "      <th>amenity_tub</th>\n",
       "      <th>amenity_views</th>\n",
       "      <th>amenity_walk-in closets</th>\n",
       "      <th>amenity_washer/dryer</th>\n",
       "      <th>amenity_wheelchair</th>\n",
       "      <th>amenity_wifi</th>\n",
       "      <th>amenity_yoga studio</th>\n",
       "      <th>total_amenties</th>\n",
       "      <th>avg_school_rating</th>\n",
       "      <th>private_school_count</th>\n",
       "    </tr>\n",
       "  </thead>\n",
       "  <tbody>\n",
       "    <tr>\n",
       "      <th>count</th>\n",
       "      <td>6724.000000</td>\n",
       "      <td>6724.000000</td>\n",
       "      <td>6724.000000</td>\n",
       "      <td>6724.000000</td>\n",
       "      <td>6724.000000</td>\n",
       "      <td>6724.000000</td>\n",
       "      <td>6724.000000</td>\n",
       "      <td>6724.000000</td>\n",
       "      <td>6724.000000</td>\n",
       "      <td>6724.000000</td>\n",
       "      <td>...</td>\n",
       "      <td>6724.000000</td>\n",
       "      <td>6724.000000</td>\n",
       "      <td>6724.000000</td>\n",
       "      <td>6724.000000</td>\n",
       "      <td>6724.000000</td>\n",
       "      <td>6724.000000</td>\n",
       "      <td>6724.000000</td>\n",
       "      <td>6724.000000</td>\n",
       "      <td>6724.000000</td>\n",
       "      <td>6724.000000</td>\n",
       "    </tr>\n",
       "    <tr>\n",
       "      <th>mean</th>\n",
       "      <td>4.645807</td>\n",
       "      <td>1.509964</td>\n",
       "      <td>1.257896</td>\n",
       "      <td>2538.930973</td>\n",
       "      <td>830.367719</td>\n",
       "      <td>1995.194960</td>\n",
       "      <td>23.805040</td>\n",
       "      <td>733.225312</td>\n",
       "      <td>0.680547</td>\n",
       "      <td>0.661957</td>\n",
       "      <td>...</td>\n",
       "      <td>0.086109</td>\n",
       "      <td>0.192594</td>\n",
       "      <td>0.134741</td>\n",
       "      <td>0.311273</td>\n",
       "      <td>0.175640</td>\n",
       "      <td>0.283462</td>\n",
       "      <td>0.006395</td>\n",
       "      <td>13.549078</td>\n",
       "      <td>5.595295</td>\n",
       "      <td>1.564396</td>\n",
       "    </tr>\n",
       "    <tr>\n",
       "      <th>std</th>\n",
       "      <td>0.586498</td>\n",
       "      <td>1.013249</td>\n",
       "      <td>0.480577</td>\n",
       "      <td>1658.584654</td>\n",
       "      <td>297.464677</td>\n",
       "      <td>24.011865</td>\n",
       "      <td>24.011865</td>\n",
       "      <td>1077.343464</td>\n",
       "      <td>0.466299</td>\n",
       "      <td>0.473078</td>\n",
       "      <td>...</td>\n",
       "      <td>0.280546</td>\n",
       "      <td>0.394366</td>\n",
       "      <td>0.341472</td>\n",
       "      <td>0.463049</td>\n",
       "      <td>0.380541</td>\n",
       "      <td>0.450712</td>\n",
       "      <td>0.079719</td>\n",
       "      <td>10.547068</td>\n",
       "      <td>1.448924</td>\n",
       "      <td>1.401489</td>\n",
       "    </tr>\n",
       "    <tr>\n",
       "      <th>min</th>\n",
       "      <td>1.000000</td>\n",
       "      <td>0.000000</td>\n",
       "      <td>0.500000</td>\n",
       "      <td>600.000000</td>\n",
       "      <td>100.000000</td>\n",
       "      <td>1865.000000</td>\n",
       "      <td>0.000000</td>\n",
       "      <td>4.000000</td>\n",
       "      <td>0.000000</td>\n",
       "      <td>0.000000</td>\n",
       "      <td>...</td>\n",
       "      <td>0.000000</td>\n",
       "      <td>0.000000</td>\n",
       "      <td>0.000000</td>\n",
       "      <td>0.000000</td>\n",
       "      <td>0.000000</td>\n",
       "      <td>0.000000</td>\n",
       "      <td>0.000000</td>\n",
       "      <td>0.000000</td>\n",
       "      <td>2.000000</td>\n",
       "      <td>0.000000</td>\n",
       "    </tr>\n",
       "    <tr>\n",
       "      <th>25%</th>\n",
       "      <td>4.760300</td>\n",
       "      <td>1.000000</td>\n",
       "      <td>1.000000</td>\n",
       "      <td>1475.000000</td>\n",
       "      <td>674.000000</td>\n",
       "      <td>1996.893082</td>\n",
       "      <td>9.000000</td>\n",
       "      <td>295.000000</td>\n",
       "      <td>0.000000</td>\n",
       "      <td>0.000000</td>\n",
       "      <td>...</td>\n",
       "      <td>0.000000</td>\n",
       "      <td>0.000000</td>\n",
       "      <td>0.000000</td>\n",
       "      <td>0.000000</td>\n",
       "      <td>0.000000</td>\n",
       "      <td>0.000000</td>\n",
       "      <td>0.000000</td>\n",
       "      <td>3.000000</td>\n",
       "      <td>4.544948</td>\n",
       "      <td>0.000000</td>\n",
       "    </tr>\n",
       "    <tr>\n",
       "      <th>50%</th>\n",
       "      <td>4.882230</td>\n",
       "      <td>1.000000</td>\n",
       "      <td>1.000000</td>\n",
       "      <td>2225.000000</td>\n",
       "      <td>801.815566</td>\n",
       "      <td>2002.220044</td>\n",
       "      <td>16.779956</td>\n",
       "      <td>571.000000</td>\n",
       "      <td>1.000000</td>\n",
       "      <td>1.000000</td>\n",
       "      <td>...</td>\n",
       "      <td>0.000000</td>\n",
       "      <td>0.000000</td>\n",
       "      <td>0.000000</td>\n",
       "      <td>0.000000</td>\n",
       "      <td>0.000000</td>\n",
       "      <td>0.000000</td>\n",
       "      <td>0.000000</td>\n",
       "      <td>14.000000</td>\n",
       "      <td>5.712184</td>\n",
       "      <td>2.000000</td>\n",
       "    </tr>\n",
       "    <tr>\n",
       "      <th>75%</th>\n",
       "      <td>5.000000</td>\n",
       "      <td>2.000000</td>\n",
       "      <td>1.059755</td>\n",
       "      <td>3150.000000</td>\n",
       "      <td>950.000000</td>\n",
       "      <td>2010.000000</td>\n",
       "      <td>22.106918</td>\n",
       "      <td>999.000000</td>\n",
       "      <td>1.000000</td>\n",
       "      <td>1.000000</td>\n",
       "      <td>...</td>\n",
       "      <td>0.000000</td>\n",
       "      <td>0.000000</td>\n",
       "      <td>0.000000</td>\n",
       "      <td>1.000000</td>\n",
       "      <td>0.000000</td>\n",
       "      <td>1.000000</td>\n",
       "      <td>0.000000</td>\n",
       "      <td>24.000000</td>\n",
       "      <td>6.576453</td>\n",
       "      <td>2.000000</td>\n",
       "    </tr>\n",
       "    <tr>\n",
       "      <th>max</th>\n",
       "      <td>5.000000</td>\n",
       "      <td>7.000000</td>\n",
       "      <td>6.000000</td>\n",
       "      <td>57000.000000</td>\n",
       "      <td>7250.000000</td>\n",
       "      <td>2019.000000</td>\n",
       "      <td>154.000000</td>\n",
       "      <td>12271.000000</td>\n",
       "      <td>1.000000</td>\n",
       "      <td>1.000000</td>\n",
       "      <td>...</td>\n",
       "      <td>1.000000</td>\n",
       "      <td>1.000000</td>\n",
       "      <td>1.000000</td>\n",
       "      <td>1.000000</td>\n",
       "      <td>1.000000</td>\n",
       "      <td>1.000000</td>\n",
       "      <td>1.000000</td>\n",
       "      <td>31.000000</td>\n",
       "      <td>9.400000</td>\n",
       "      <td>11.000000</td>\n",
       "    </tr>\n",
       "  </tbody>\n",
       "</table>\n",
       "<p>8 rows × 81 columns</p>\n",
       "</div>"
      ],
      "text/plain": [
       "            rating     bedrooms    bathrooms          rent         sqft  \\\n",
       "count  6724.000000  6724.000000  6724.000000   6724.000000  6724.000000   \n",
       "mean      4.645807     1.509964     1.257896   2538.930973   830.367719   \n",
       "std       0.586498     1.013249     0.480577   1658.584654   297.464677   \n",
       "min       1.000000     0.000000     0.500000    600.000000   100.000000   \n",
       "25%       4.760300     1.000000     1.000000   1475.000000   674.000000   \n",
       "50%       4.882230     1.000000     1.000000   2225.000000   801.815566   \n",
       "75%       5.000000     2.000000     1.059755   3150.000000   950.000000   \n",
       "max       5.000000     7.000000     6.000000  57000.000000  7250.000000   \n",
       "\n",
       "        built_year  apartment_age  property_size      pet_cat      pet_dog  \\\n",
       "count  6724.000000    6724.000000    6724.000000  6724.000000  6724.000000   \n",
       "mean   1995.194960      23.805040     733.225312     0.680547     0.661957   \n",
       "std      24.011865      24.011865    1077.343464     0.466299     0.473078   \n",
       "min    1865.000000       0.000000       4.000000     0.000000     0.000000   \n",
       "25%    1996.893082       9.000000     295.000000     0.000000     0.000000   \n",
       "50%    2002.220044      16.779956     571.000000     1.000000     1.000000   \n",
       "75%    2010.000000      22.106918     999.000000     1.000000     1.000000   \n",
       "max    2019.000000     154.000000   12271.000000     1.000000     1.000000   \n",
       "\n",
       "               ...           amenity_tub  amenity_views  \\\n",
       "count          ...           6724.000000    6724.000000   \n",
       "mean           ...              0.086109       0.192594   \n",
       "std            ...              0.280546       0.394366   \n",
       "min            ...              0.000000       0.000000   \n",
       "25%            ...              0.000000       0.000000   \n",
       "50%            ...              0.000000       0.000000   \n",
       "75%            ...              0.000000       0.000000   \n",
       "max            ...              1.000000       1.000000   \n",
       "\n",
       "       amenity_walk-in closets  amenity_washer/dryer  amenity_wheelchair  \\\n",
       "count              6724.000000           6724.000000         6724.000000   \n",
       "mean                  0.134741              0.311273            0.175640   \n",
       "std                   0.341472              0.463049            0.380541   \n",
       "min                   0.000000              0.000000            0.000000   \n",
       "25%                   0.000000              0.000000            0.000000   \n",
       "50%                   0.000000              0.000000            0.000000   \n",
       "75%                   0.000000              1.000000            0.000000   \n",
       "max                   1.000000              1.000000            1.000000   \n",
       "\n",
       "       amenity_wifi  amenity_yoga studio  total_amenties  avg_school_rating  \\\n",
       "count   6724.000000          6724.000000     6724.000000        6724.000000   \n",
       "mean       0.283462             0.006395       13.549078           5.595295   \n",
       "std        0.450712             0.079719       10.547068           1.448924   \n",
       "min        0.000000             0.000000        0.000000           2.000000   \n",
       "25%        0.000000             0.000000        3.000000           4.544948   \n",
       "50%        0.000000             0.000000       14.000000           5.712184   \n",
       "75%        1.000000             0.000000       24.000000           6.576453   \n",
       "max        1.000000             1.000000       31.000000           9.400000   \n",
       "\n",
       "       private_school_count  \n",
       "count           6724.000000  \n",
       "mean               1.564396  \n",
       "std                1.401489  \n",
       "min                0.000000  \n",
       "25%                0.000000  \n",
       "50%                2.000000  \n",
       "75%                2.000000  \n",
       "max               11.000000  \n",
       "\n",
       "[8 rows x 81 columns]"
      ]
     },
     "execution_count": 9,
     "metadata": {},
     "output_type": "execute_result"
    }
   ],
   "source": [
    "df.describe()"
   ]
  },
  {
   "cell_type": "code",
   "execution_count": 10,
   "metadata": {},
   "outputs": [
    {
     "data": {
      "text/html": [
       "<div>\n",
       "<style scoped>\n",
       "    .dataframe tbody tr th:only-of-type {\n",
       "        vertical-align: middle;\n",
       "    }\n",
       "\n",
       "    .dataframe tbody tr th {\n",
       "        vertical-align: top;\n",
       "    }\n",
       "\n",
       "    .dataframe thead th {\n",
       "        text-align: right;\n",
       "    }\n",
       "</style>\n",
       "<table border=\"1\" class=\"dataframe\">\n",
       "  <thead>\n",
       "    <tr style=\"text-align: right;\">\n",
       "      <th></th>\n",
       "      <th>borough</th>\n",
       "      <th>city</th>\n",
       "      <th>state</th>\n",
       "      <th>postal_code</th>\n",
       "      <th>rating</th>\n",
       "      <th>bedrooms</th>\n",
       "      <th>bathrooms</th>\n",
       "      <th>rent</th>\n",
       "      <th>sqft</th>\n",
       "      <th>built_year</th>\n",
       "      <th>...</th>\n",
       "      <th>amenity_tub</th>\n",
       "      <th>amenity_views</th>\n",
       "      <th>amenity_walk-in closets</th>\n",
       "      <th>amenity_washer/dryer</th>\n",
       "      <th>amenity_wheelchair</th>\n",
       "      <th>amenity_wifi</th>\n",
       "      <th>amenity_yoga studio</th>\n",
       "      <th>total_amenties</th>\n",
       "      <th>avg_school_rating</th>\n",
       "      <th>private_school_count</th>\n",
       "    </tr>\n",
       "  </thead>\n",
       "  <tbody>\n",
       "    <tr>\n",
       "      <th>3595</th>\n",
       "      <td>Queens</td>\n",
       "      <td>'queens'</td>\n",
       "      <td>'NY'</td>\n",
       "      <td>'11106'</td>\n",
       "      <td>4.76030</td>\n",
       "      <td>1</td>\n",
       "      <td>1.0</td>\n",
       "      <td>1975.00</td>\n",
       "      <td>650.000000</td>\n",
       "      <td>1996.893082</td>\n",
       "      <td>...</td>\n",
       "      <td>0</td>\n",
       "      <td>0</td>\n",
       "      <td>0</td>\n",
       "      <td>0</td>\n",
       "      <td>0</td>\n",
       "      <td>0</td>\n",
       "      <td>0</td>\n",
       "      <td>0</td>\n",
       "      <td>5.712184</td>\n",
       "      <td>0.0</td>\n",
       "    </tr>\n",
       "    <tr>\n",
       "      <th>2219</th>\n",
       "      <td>Manhattan</td>\n",
       "      <td>'new york'</td>\n",
       "      <td>'NY'</td>\n",
       "      <td>'10025'</td>\n",
       "      <td>4.88223</td>\n",
       "      <td>1</td>\n",
       "      <td>1.0</td>\n",
       "      <td>2895.00</td>\n",
       "      <td>550.000000</td>\n",
       "      <td>1998.620187</td>\n",
       "      <td>...</td>\n",
       "      <td>0</td>\n",
       "      <td>0</td>\n",
       "      <td>0</td>\n",
       "      <td>0</td>\n",
       "      <td>0</td>\n",
       "      <td>0</td>\n",
       "      <td>0</td>\n",
       "      <td>3</td>\n",
       "      <td>6.576453</td>\n",
       "      <td>0.0</td>\n",
       "    </tr>\n",
       "    <tr>\n",
       "      <th>450</th>\n",
       "      <td>Manhattan</td>\n",
       "      <td>'new york'</td>\n",
       "      <td>'NY'</td>\n",
       "      <td>'10019'</td>\n",
       "      <td>5.00000</td>\n",
       "      <td>1</td>\n",
       "      <td>1.0</td>\n",
       "      <td>999.00</td>\n",
       "      <td>795.000000</td>\n",
       "      <td>2007.000000</td>\n",
       "      <td>...</td>\n",
       "      <td>0</td>\n",
       "      <td>1</td>\n",
       "      <td>0</td>\n",
       "      <td>1</td>\n",
       "      <td>1</td>\n",
       "      <td>1</td>\n",
       "      <td>0</td>\n",
       "      <td>30</td>\n",
       "      <td>7.500000</td>\n",
       "      <td>3.0</td>\n",
       "    </tr>\n",
       "    <tr>\n",
       "      <th>3967</th>\n",
       "      <td>Brooklyn</td>\n",
       "      <td>'brooklyn'</td>\n",
       "      <td>'NY'</td>\n",
       "      <td>'11201'</td>\n",
       "      <td>5.00000</td>\n",
       "      <td>2</td>\n",
       "      <td>2.0</td>\n",
       "      <td>3265.33</td>\n",
       "      <td>976.000000</td>\n",
       "      <td>2010.000000</td>\n",
       "      <td>...</td>\n",
       "      <td>0</td>\n",
       "      <td>1</td>\n",
       "      <td>1</td>\n",
       "      <td>1</td>\n",
       "      <td>0</td>\n",
       "      <td>0</td>\n",
       "      <td>0</td>\n",
       "      <td>10</td>\n",
       "      <td>3.000000</td>\n",
       "      <td>2.0</td>\n",
       "    </tr>\n",
       "    <tr>\n",
       "      <th>597</th>\n",
       "      <td>Manhattan</td>\n",
       "      <td>'new york'</td>\n",
       "      <td>'NY'</td>\n",
       "      <td>'10023'</td>\n",
       "      <td>5.00000</td>\n",
       "      <td>2</td>\n",
       "      <td>2.0</td>\n",
       "      <td>7269.00</td>\n",
       "      <td>801.815566</td>\n",
       "      <td>2016.000000</td>\n",
       "      <td>...</td>\n",
       "      <td>0</td>\n",
       "      <td>0</td>\n",
       "      <td>0</td>\n",
       "      <td>1</td>\n",
       "      <td>0</td>\n",
       "      <td>0</td>\n",
       "      <td>0</td>\n",
       "      <td>13</td>\n",
       "      <td>6.330000</td>\n",
       "      <td>3.0</td>\n",
       "    </tr>\n",
       "  </tbody>\n",
       "</table>\n",
       "<p>5 rows × 85 columns</p>\n",
       "</div>"
      ],
      "text/plain": [
       "        borough         city state postal_code   rating  bedrooms  bathrooms  \\\n",
       "3595     Queens     'queens'  'NY'     '11106'  4.76030         1        1.0   \n",
       "2219  Manhattan   'new york'  'NY'     '10025'  4.88223         1        1.0   \n",
       "450   Manhattan   'new york'  'NY'     '10019'  5.00000         1        1.0   \n",
       "3967   Brooklyn   'brooklyn'  'NY'     '11201'  5.00000         2        2.0   \n",
       "597   Manhattan   'new york'  'NY'     '10023'  5.00000         2        2.0   \n",
       "\n",
       "         rent        sqft   built_year          ...           amenity_tub  \\\n",
       "3595  1975.00  650.000000  1996.893082          ...                     0   \n",
       "2219  2895.00  550.000000  1998.620187          ...                     0   \n",
       "450    999.00  795.000000  2007.000000          ...                     0   \n",
       "3967  3265.33  976.000000  2010.000000          ...                     0   \n",
       "597   7269.00  801.815566  2016.000000          ...                     0   \n",
       "\n",
       "      amenity_views  amenity_walk-in closets  amenity_washer/dryer  \\\n",
       "3595              0                        0                     0   \n",
       "2219              0                        0                     0   \n",
       "450               1                        0                     1   \n",
       "3967              1                        1                     1   \n",
       "597               0                        0                     1   \n",
       "\n",
       "      amenity_wheelchair  amenity_wifi  amenity_yoga studio  total_amenties  \\\n",
       "3595                   0             0                    0               0   \n",
       "2219                   0             0                    0               3   \n",
       "450                    1             1                    0              30   \n",
       "3967                   0             0                    0              10   \n",
       "597                    0             0                    0              13   \n",
       "\n",
       "      avg_school_rating  private_school_count  \n",
       "3595           5.712184                   0.0  \n",
       "2219           6.576453                   0.0  \n",
       "450            7.500000                   3.0  \n",
       "3967           3.000000                   2.0  \n",
       "597            6.330000                   3.0  \n",
       "\n",
       "[5 rows x 85 columns]"
      ]
     },
     "execution_count": 10,
     "metadata": {},
     "output_type": "execute_result"
    }
   ],
   "source": [
    "df.sample(5)"
   ]
  },
  {
   "cell_type": "code",
   "execution_count": 11,
   "metadata": {},
   "outputs": [],
   "source": [
    "df_model = df.drop(columns = ['state','postal_code','built_year']) #'city',"
   ]
  },
  {
   "cell_type": "code",
   "execution_count": 12,
   "metadata": {},
   "outputs": [
    {
     "data": {
      "text/plain": [
       "(6724, 82)"
      ]
     },
     "execution_count": 12,
     "metadata": {},
     "output_type": "execute_result"
    }
   ],
   "source": [
    "df_model.shape"
   ]
  },
  {
   "cell_type": "code",
   "execution_count": 13,
   "metadata": {},
   "outputs": [],
   "source": [
    "df['city'] = df['city'].apply(lambda x: x.strip())"
   ]
  },
  {
   "cell_type": "code",
   "execution_count": 15,
   "metadata": {},
   "outputs": [],
   "source": [
    "df_model = pd.get_dummies(df_model)"
   ]
  },
  {
   "cell_type": "code",
   "execution_count": 16,
   "metadata": {
    "scrolled": true
   },
   "outputs": [
    {
     "data": {
      "text/html": [
       "<div>\n",
       "<style scoped>\n",
       "    .dataframe tbody tr th:only-of-type {\n",
       "        vertical-align: middle;\n",
       "    }\n",
       "\n",
       "    .dataframe tbody tr th {\n",
       "        vertical-align: top;\n",
       "    }\n",
       "\n",
       "    .dataframe thead th {\n",
       "        text-align: right;\n",
       "    }\n",
       "</style>\n",
       "<table border=\"1\" class=\"dataframe\">\n",
       "  <thead>\n",
       "    <tr style=\"text-align: right;\">\n",
       "      <th></th>\n",
       "      <th>rating</th>\n",
       "      <th>bedrooms</th>\n",
       "      <th>bathrooms</th>\n",
       "      <th>rent</th>\n",
       "      <th>sqft</th>\n",
       "      <th>apartment_age</th>\n",
       "      <th>property_size</th>\n",
       "      <th>pet_cat</th>\n",
       "      <th>pet_dog</th>\n",
       "      <th>amenity_air conditioning</th>\n",
       "      <th>...</th>\n",
       "      <th>city_ 'new rochelle'</th>\n",
       "      <th>city_ 'new york'</th>\n",
       "      <th>city_ 'ozone park'</th>\n",
       "      <th>city_ 'pelham manor'</th>\n",
       "      <th>city_ 'perth amboy'</th>\n",
       "      <th>city_ 'queens'</th>\n",
       "      <th>city_ 'rego park'</th>\n",
       "      <th>city_ 'sewaren'</th>\n",
       "      <th>city_ 'staten island'</th>\n",
       "      <th>city_ 'yonkers'</th>\n",
       "    </tr>\n",
       "  </thead>\n",
       "  <tbody>\n",
       "    <tr>\n",
       "      <th>2377</th>\n",
       "      <td>4.88223</td>\n",
       "      <td>2</td>\n",
       "      <td>1.0</td>\n",
       "      <td>2295.0</td>\n",
       "      <td>700.000000</td>\n",
       "      <td>20.379813</td>\n",
       "      <td>999</td>\n",
       "      <td>1</td>\n",
       "      <td>1</td>\n",
       "      <td>0</td>\n",
       "      <td>...</td>\n",
       "      <td>0</td>\n",
       "      <td>1</td>\n",
       "      <td>0</td>\n",
       "      <td>0</td>\n",
       "      <td>0</td>\n",
       "      <td>0</td>\n",
       "      <td>0</td>\n",
       "      <td>0</td>\n",
       "      <td>0</td>\n",
       "      <td>0</td>\n",
       "    </tr>\n",
       "    <tr>\n",
       "      <th>3759</th>\n",
       "      <td>4.76030</td>\n",
       "      <td>0</td>\n",
       "      <td>1.0</td>\n",
       "      <td>1875.0</td>\n",
       "      <td>835.311535</td>\n",
       "      <td>22.106918</td>\n",
       "      <td>999</td>\n",
       "      <td>0</td>\n",
       "      <td>0</td>\n",
       "      <td>1</td>\n",
       "      <td>...</td>\n",
       "      <td>0</td>\n",
       "      <td>0</td>\n",
       "      <td>0</td>\n",
       "      <td>0</td>\n",
       "      <td>0</td>\n",
       "      <td>1</td>\n",
       "      <td>0</td>\n",
       "      <td>0</td>\n",
       "      <td>0</td>\n",
       "      <td>0</td>\n",
       "    </tr>\n",
       "    <tr>\n",
       "      <th>4504</th>\n",
       "      <td>5.00000</td>\n",
       "      <td>1</td>\n",
       "      <td>1.0</td>\n",
       "      <td>999.0</td>\n",
       "      <td>822.000000</td>\n",
       "      <td>10.000000</td>\n",
       "      <td>274</td>\n",
       "      <td>1</td>\n",
       "      <td>1</td>\n",
       "      <td>0</td>\n",
       "      <td>...</td>\n",
       "      <td>0</td>\n",
       "      <td>0</td>\n",
       "      <td>0</td>\n",
       "      <td>0</td>\n",
       "      <td>0</td>\n",
       "      <td>0</td>\n",
       "      <td>0</td>\n",
       "      <td>0</td>\n",
       "      <td>0</td>\n",
       "      <td>0</td>\n",
       "    </tr>\n",
       "  </tbody>\n",
       "</table>\n",
       "<p>3 rows × 117 columns</p>\n",
       "</div>"
      ],
      "text/plain": [
       "       rating  bedrooms  bathrooms    rent        sqft  apartment_age  \\\n",
       "2377  4.88223         2        1.0  2295.0  700.000000      20.379813   \n",
       "3759  4.76030         0        1.0  1875.0  835.311535      22.106918   \n",
       "4504  5.00000         1        1.0   999.0  822.000000      10.000000   \n",
       "\n",
       "      property_size  pet_cat  pet_dog  amenity_air conditioning  \\\n",
       "2377            999        1        1                         0   \n",
       "3759            999        0        0                         1   \n",
       "4504            274        1        1                         0   \n",
       "\n",
       "           ...         city_ 'new rochelle'  city_ 'new york'  \\\n",
       "2377       ...                            0                 1   \n",
       "3759       ...                            0                 0   \n",
       "4504       ...                            0                 0   \n",
       "\n",
       "      city_ 'ozone park'  city_ 'pelham manor'  city_ 'perth amboy'  \\\n",
       "2377                   0                     0                    0   \n",
       "3759                   0                     0                    0   \n",
       "4504                   0                     0                    0   \n",
       "\n",
       "      city_ 'queens'  city_ 'rego park'  city_ 'sewaren'  \\\n",
       "2377               0                  0                0   \n",
       "3759               1                  0                0   \n",
       "4504               0                  0                0   \n",
       "\n",
       "      city_ 'staten island'  city_ 'yonkers'  \n",
       "2377                      0                0  \n",
       "3759                      0                0  \n",
       "4504                      0                0  \n",
       "\n",
       "[3 rows x 117 columns]"
      ]
     },
     "execution_count": 16,
     "metadata": {},
     "output_type": "execute_result"
    }
   ],
   "source": [
    "df_model.sample(3)"
   ]
  },
  {
   "cell_type": "code",
   "execution_count": 17,
   "metadata": {},
   "outputs": [
    {
     "data": {
      "text/plain": [
       "array(['rating', 'bedrooms', 'bathrooms', 'rent', 'sqft', 'apartment_age',\n",
       "       'property_size', 'pet_cat', 'pet_dog', 'amenity_air conditioning',\n",
       "       'amenity_alcove', 'amenity_balcony', 'amenity_basketball',\n",
       "       'amenity_bike storage', 'amenity_business', 'amenity_cable',\n",
       "       'amenity_ceiling fans', 'amenity_charging station',\n",
       "       'amenity_clubhouse', 'amenity_concierge', 'amenity_controlled',\n",
       "       'amenity_courtyard', 'amenity_dishwasher', 'amenity_disposal',\n",
       "       'amenity_dry cleaning', 'amenity_elevator', 'amenity_fitness',\n",
       "       'amenity_furnished', 'amenity_game', 'amenity_gated',\n",
       "       'amenity_granite', 'amenity_grill', 'amenity_hardwood',\n",
       "       'amenity_heat/hot water included', 'amenity_heating',\n",
       "       'amenity_high ceilings', 'amenity_internet',\n",
       "       'amenity_laundary facilities', 'amenity_laundry service',\n",
       "       'amenity_library', 'amenity_lounge', 'amenity_maid',\n",
       "       'amenity_maintenance', 'amenity_microwave', 'amenity_movie',\n",
       "       'amenity_online service', 'amenity_oven', 'amenity_package',\n",
       "       'amenity_parking available', 'amenity_parking garage',\n",
       "       'amenity_patio', 'amenity_pet care', 'amenity_pet play area',\n",
       "       'amenity_picnic', 'amenity_planned social activities',\n",
       "       'amenity_playground', 'amenity_pool',\n",
       "       'amenity_private outdoor space', 'amenity_recycling',\n",
       "       'amenity_refrigerator', 'amenity_renovated', 'amenity_retail',\n",
       "       'amenity_rooftop', 'amenity_smoke free', 'amenity_spa',\n",
       "       'amenity_stainless', 'amenity_storage space', 'amenity_stove',\n",
       "       'amenity_sundeck', 'amenity_terrace', 'amenity_tub',\n",
       "       'amenity_views', 'amenity_walk-in closets', 'amenity_washer/dryer',\n",
       "       'amenity_wheelchair', 'amenity_wifi', 'amenity_yoga studio',\n",
       "       'total_amenties', 'avg_school_rating', 'private_school_count',\n",
       "       'borough_Bronx', 'borough_Brooklyn', 'borough_Manhattan',\n",
       "       'borough_Queens', 'borough_Staten Island', \"city_ 'arverne'\",\n",
       "       \"city_ 'astoria'\", \"city_ 'bayonne'\", \"city_ 'bayside'\",\n",
       "       \"city_ 'bronx'\", \"city_ 'brooklyn'\", \"city_ 'carteret'\",\n",
       "       \"city_ 'corona'\", \"city_ 'douglaston'\", \"city_ 'east elmhurst'\",\n",
       "       \"city_ 'elizabeth'\", \"city_ 'elmhurst'\", \"city_ 'far rockaway'\",\n",
       "       \"city_ 'flushing'\", \"city_ 'forest hills'\", \"city_ 'hollis'\",\n",
       "       \"city_ 'jamaica'\", \"city_ 'kew gardens hills'\",\n",
       "       \"city_ 'long island city'\", \"city_ 'manhattan'\", \"city_ 'maspeth'\",\n",
       "       \"city_ 'mount vernon'\", \"city_ 'new rochelle'\", \"city_ 'new york'\",\n",
       "       \"city_ 'ozone park'\", \"city_ 'pelham manor'\",\n",
       "       \"city_ 'perth amboy'\", \"city_ 'queens'\", \"city_ 'rego park'\",\n",
       "       \"city_ 'sewaren'\", \"city_ 'staten island'\", \"city_ 'yonkers'\"],\n",
       "      dtype=object)"
      ]
     },
     "execution_count": 17,
     "metadata": {},
     "output_type": "execute_result"
    }
   ],
   "source": [
    "df_model.columns.values"
   ]
  },
  {
   "cell_type": "markdown",
   "metadata": {},
   "source": [
    "## Data Preprocessing\n",
    "Features and target are read from the DataFrame, and the dataset is split into train and test datasets. \n",
    "\n",
    "The features are standardized ($x\\rightarrow \\frac{x - \\bar{x}}{\\sigma}$) using Scikit StandardScaler. It is important to note that when we standardize the features, we need to use the statistics from the train dataset and apply them to both train and test datasets in order prevent information leak from the test dataset to the train dataset. "
   ]
  },
  {
   "cell_type": "code",
   "execution_count": 18,
   "metadata": {},
   "outputs": [],
   "source": [
    "# read features from DataFrame\n",
    "# df_base = df[[\"bathrooms\",\"bedrooms\",\"rating\",\"sqft\",\"pet_cat\",\"pet_dog\",\n",
    "#               \"apartment_age\",\"property_size\", 'total_amenties']] #\"built_year\",\"longitude\",\"latitude\",\"leaseLength\",\n",
    "# df_extra = df.filter(regex=\"amenity\")\n",
    "\n",
    "# define features and target\n",
    "#X = pd.concat([df_base, df_extra], axis=1)\n",
    "X = df_model[[col for col in df_model.columns.values if col != 'rent']]\n",
    "#X = pd.concat([df_base, df_extra], axis=1)\n",
    "y = df_model[\"rent\"]"
   ]
  },
  {
   "cell_type": "code",
   "execution_count": 19,
   "metadata": {},
   "outputs": [],
   "source": [
    "from sklearn.model_selection import train_test_split\n",
    "X_train, X_test, y_train, y_test = train_test_split(X, y, test_size=0.3, random_state=0)"
   ]
  },
  {
   "cell_type": "code",
   "execution_count": 20,
   "metadata": {
    "scrolled": true
   },
   "outputs": [
    {
     "name": "stderr",
     "output_type": "stream",
     "text": [
      "C:\\ProgramData\\Anaconda3\\lib\\site-packages\\sklearn\\preprocessing\\data.py:625: DataConversionWarning: Data with input dtype uint8, int64, float64 were all converted to float64 by StandardScaler.\n",
      "  return self.partial_fit(X, y)\n",
      "C:\\ProgramData\\Anaconda3\\lib\\site-packages\\ipykernel_launcher.py:5: DataConversionWarning: Data with input dtype uint8, int64, float64 were all converted to float64 by StandardScaler.\n",
      "  \"\"\"\n",
      "C:\\ProgramData\\Anaconda3\\lib\\site-packages\\ipykernel_launcher.py:6: DataConversionWarning: Data with input dtype uint8, int64, float64 were all converted to float64 by StandardScaler.\n",
      "  \n"
     ]
    }
   ],
   "source": [
    "from sklearn import preprocessing\n",
    "scaler = preprocessing.StandardScaler().fit(X_train)\n",
    "\n",
    "# standardize features\n",
    "X_train = scaler.transform(X_train)\n",
    "X_test = scaler.transform(X_test)"
   ]
  },
  {
   "cell_type": "markdown",
   "metadata": {},
   "source": [
    "## Grid Search\n",
    "Grid search is performed to find the optimum set of parameters for RandomForest and GradientBoosting regressors. Cross-validation is used to evaluate the performance given a set of parameters, and the parameters that gives the best $R^{2}$ score is chosen.\n",
    "\n",
    "However, often GridSearch results in over-fitting, and the parameters are further adjusted to avoid over-fitting the training samples. For this purpose, two flags are implemented to specify wheather GridSearch is performed for RandomForest and GradientBoosting regressor."
   ]
  },
  {
   "cell_type": "code",
   "execution_count": 21,
   "metadata": {},
   "outputs": [],
   "source": [
    "# flag for grid search. Set True to perform grid search\n",
    "GridSearch_RF = False\n",
    "GridSearch_GB = False\n",
    "\n",
    "# cross-validation fold\n",
    "n_cross_validation = 10"
   ]
  },
  {
   "cell_type": "code",
   "execution_count": 22,
   "metadata": {},
   "outputs": [],
   "source": [
    "# initialize RandomForest and GradientBoosting estimators\n",
    "from sklearn.ensemble import RandomForestRegressor\n",
    "from sklearn.ensemble import GradientBoostingRegressor\n",
    "model_RF = RandomForestRegressor()\n",
    "model_GB = GradientBoostingRegressor()\n",
    "\n",
    "# dictionary to hold parameters for each estimator\n",
    "params_RF = {}\n",
    "params_GB = {}"
   ]
  },
  {
   "cell_type": "code",
   "execution_count": 23,
   "metadata": {},
   "outputs": [],
   "source": [
    "# perform GridSearch for RandomForest\n",
    "if GridSearch_RF:\n",
    "        param_grid =    {\n",
    "                        'n_estimators':[5,100,500,1000], \n",
    "                        'max_features': ['auto'],\n",
    "                        'max_depth': [3,5,7],\n",
    "                        'min_samples_leaf': [1,2],\n",
    "                        'random_state': [0,1,2,3,4,5]\n",
    "                        }\n",
    "\n",
    "        # initiate grid search\n",
    "        from sklearn.model_selection import GridSearchCV\n",
    "        grid_search = GridSearchCV( estimator=model, \n",
    "                                    param_grid=param_grid,\n",
    "                                    cv=n_cross_validation, \n",
    "                                    n_jobs=-1)\n",
    "\n",
    "        # fit grid search\n",
    "        grid_search.fit(X_train, y_train)\n",
    "\n",
    "        # best parameters found by GridSearch\n",
    "        params_RF = grid_search.best_params_\n",
    "        print(grid_search.best_params_)"
   ]
  },
  {
   "cell_type": "code",
   "execution_count": 24,
   "metadata": {},
   "outputs": [],
   "source": [
    "# perform GridSearch for GradientBoosting\n",
    "if GridSearch_GB:\n",
    "        param_grid =    {\n",
    "                        'n_estimators':[100,300],\n",
    "                        'learning_rate':[0.08, 0.1, 0.12],\n",
    "                        'max_depth': [2,5,8],\n",
    "                        'min_samples_leaf': [1,2],\n",
    "                        'subsample': [0.5,0.8,1],\n",
    "                        'random_state': [0,1,2,3]\n",
    "                        }\n",
    "\n",
    "        # initiate grid search\n",
    "        from sklearn.model_selection import GridSearchCV\n",
    "        grid_search = GridSearchCV( estimator=model, \n",
    "                                    param_grid=param_grid,\n",
    "                                    cv=n_cross_validation, \n",
    "                                    n_jobs=-1)\n",
    "\n",
    "        # fit grid search\n",
    "        grid_search.fit(X_train, y_train)\n",
    "\n",
    "        # best parameters found by GridSearch\n",
    "        params_GB = grid_search.best_params_\n",
    "        print(grid_search.best_params_)"
   ]
  },
  {
   "cell_type": "markdown",
   "metadata": {},
   "source": [
    "If GridSearch is not performed, defaults sets of parameters are used for the estimators."
   ]
  },
  {
   "cell_type": "code",
   "execution_count": 25,
   "metadata": {},
   "outputs": [
    {
     "data": {
      "text/plain": [
       "GradientBoostingRegressor(alpha=0.9, criterion='friedman_mse', init=None,\n",
       "             learning_rate=0.015, loss='ls', max_depth=3,\n",
       "             max_features=None, max_leaf_nodes=None,\n",
       "             min_impurity_decrease=0.0, min_impurity_split=None,\n",
       "             min_samples_leaf=4, min_samples_split=2,\n",
       "             min_weight_fraction_leaf=0.0, n_estimators=400,\n",
       "             n_iter_no_change=None, presort='auto', random_state=0,\n",
       "             subsample=0.3, tol=0.0001, validation_fraction=0.1, verbose=0,\n",
       "             warm_start=False)"
      ]
     },
     "execution_count": 25,
     "metadata": {},
     "output_type": "execute_result"
    }
   ],
   "source": [
    "# if not performing GridSearch, use these parameters\n",
    "if(params_RF == {}):\n",
    "    params_RF = {'max_depth': 5, 'max_features': 'auto', 'min_samples_leaf': 3, 'n_estimators': 300, 'random_state': 1}\n",
    "    \n",
    "if(params_GB == {}):\n",
    "    params_GB = {'learning_rate': 0.015, 'max_depth': 3, 'min_samples_leaf': 4, 'n_estimators': 400, 'random_state': 0, \n",
    "                 'subsample': 0.3}\n",
    "\n",
    "# set parameters obtained from GridSearch\n",
    "model_RF.set_params(**params_RF)\n",
    "model_GB.set_params(**params_GB)"
   ]
  },
  {
   "cell_type": "markdown",
   "metadata": {},
   "source": [
    "## Learning Curve\n",
    "In order to evaluate the regression models with the given hyperparemteres, learning curves are produced by plotting training score and test score at varying sample sizes. Cross-validation is used for evaluating training and test scores, and $R^{2}$ score (1 - SSR/SST) is used for evaluation."
   ]
  },
  {
   "cell_type": "code",
   "execution_count": 56,
   "metadata": {
    "scrolled": true
   },
   "outputs": [],
   "source": [
    "from sklearn.model_selection import learning_curve\n",
    "\n",
    "# set learning curve step\n",
    "learning_step = np.linspace(0.1,1.0,20)\n",
    "\n",
    "# get train size and scores from learning_curve\n",
    "train_sizes_RF, train_scores_RF, test_scores_RF = learning_curve(\n",
    "        model_RF, X_train, y_train, cv=n_cross_validation, n_jobs=-1,\n",
    "        train_sizes=learning_step, random_state=0)\n",
    "\n",
    "train_sizes_GB, train_scores_GB, test_scores_GB = learning_curve(\n",
    "        model_GB, X_train, y_train, cv=n_cross_validation, n_jobs=-1,\n",
    "        train_sizes=learning_step, random_state=0)"
   ]
  },
  {
   "cell_type": "code",
   "execution_count": 57,
   "metadata": {},
   "outputs": [],
   "source": [
    "# get mean and standard dividation of scores for RandomForest\n",
    "train_scores_RF_mean = np.mean(train_scores_RF, axis=1)\n",
    "train_scores_RF_std = np.std(train_scores_RF, axis=1)\n",
    "test_scores_RF_mean = np.mean(test_scores_RF, axis=1)\n",
    "test_scores_RF_std = np.std(test_scores_RF, axis=1)\n",
    "\n",
    "# get mean and standard dividation of scores for GradientBoosting\n",
    "train_scores_GB_mean = np.mean(train_scores_GB, axis=1)\n",
    "train_scores_GB_std = np.std(train_scores_GB, axis=1)\n",
    "test_scores_GB_mean = np.mean(test_scores_GB, axis=1)\n",
    "test_scores_GB_std = np.std(test_scores_GB, axis=1)"
   ]
  },
  {
   "cell_type": "code",
   "execution_count": 60,
   "metadata": {},
   "outputs": [
    {
     "data": {
      "image/png": "[encoded data removed]",
      "text/plain": [
       "<Figure size 864x360 with 2 Axes>"
      ]
     },
     "metadata": {},
     "output_type": "display_data"
    }
   ],
   "source": [
    "# create axes\n",
    "fig, (ax1, ax2) = plt.subplots(1,2, figsize=(12,5))\n",
    "\n",
    "# plot learning curve for RandomForest\n",
    "ax1.plot(train_sizes_RF, train_scores_RF_mean, color=\"r\", marker=\"o\", linewidth=3, label=\"Training score\")\n",
    "ax1.plot(train_sizes_RF, test_scores_RF_mean, color=\"g\", marker=\"o\", linewidth=3, label=\"Test score\")\n",
    "\n",
    "# plot learning curve for GrandientBoosting\n",
    "ax2.plot(train_sizes_GB, train_scores_GB_mean, color=\"r\", marker=\"o\", linewidth=3, label=\"Training score\")\n",
    "ax2.plot(train_sizes_GB, test_scores_GB_mean, color=\"g\", marker=\"o\", linewidth=3, label=\"Test score\")\n",
    "\n",
    "# customize plots\n",
    "for ax in (ax1, ax2):\n",
    "    ax.legend()\n",
    "    ax.set_ylim([0.2,1])\n",
    "    ax.set_ylabel(\"$R^{2}$\")\n",
    "    ax.set_xlabel(\"Training examples\")\n",
    "    \n",
    "ax1.set_title(\"RandomForest\")\n",
    "ax2.set_title(\"GradientBoosting\")\n",
    "\n",
    "# save figure\n",
    "plt.tight_layout()"
   ]
  },
  {
   "cell_type": "markdown",
   "metadata": {},
   "source": [
    "In both RandomForest and GradientBoosting, the learning curves shows that training score and testing score become more close as the sample size increases, indicating that both regressors are not over-fitting data. However, relatively low $R^{2}$ scores suggest that the toal variation in data is not fully explained by either of these models.\n",
    "\n",
    "Also, due to the limited statistic, it is difficult to determine if more data would be helpful in building better estimator.\n",
    "- if training and test score improve at larger samples size, we need to collect more data for better regression model.\n",
    "- if training and test score don't improve at larger sample size, we need more complex model. i.e. adding more features."
   ]
  },
  {
   "cell_type": "markdown",
   "metadata": {},
   "source": [
    "### A different model : KNeighborsRegressor "
   ]
  },
  {
   "cell_type": "code",
   "execution_count": 26,
   "metadata": {},
   "outputs": [],
   "source": [
    "from sklearn import neighbors\n",
    "from sklearn.metrics import mean_squared_error \n",
    "from math import sqrt"
   ]
  },
  {
   "cell_type": "code",
   "execution_count": 68,
   "metadata": {},
   "outputs": [
    {
     "name": "stdout",
     "output_type": "stream",
     "text": [
      "RMSE value for k=  1 is: 865.9383313345585\n",
      "RMSE value for k=  2 is: 862.3390817425272\n",
      "RMSE value for k=  3 is: 1014.2633313674058\n",
      "RMSE value for k=  4 is: 1006.8428496267057\n",
      "RMSE value for k=  5 is: 997.9892435615988\n",
      "RMSE value for k=  6 is: 994.269988463809\n",
      "RMSE value for k=  7 is: 996.0639701891309\n",
      "RMSE value for k=  8 is: 996.6555685077352\n",
      "RMSE value for k=  9 is: 1004.9503432208796\n",
      "RMSE value for k=  10 is: 1013.0256074728537\n",
      "RMSE value for k=  11 is: 1017.1341932771101\n",
      "RMSE value for k=  12 is: 1029.1939601201098\n",
      "RMSE value for k=  13 is: 1039.3160776632094\n",
      "RMSE value for k=  14 is: 1046.4158498793975\n",
      "RMSE value for k=  15 is: 1051.4887781164548\n",
      "RMSE value for k=  16 is: 1055.69924343655\n",
      "RMSE value for k=  17 is: 1059.020710319356\n",
      "RMSE value for k=  18 is: 1057.6656914414818\n",
      "RMSE value for k=  19 is: 1059.7134038400384\n",
      "RMSE value for k=  20 is: 1057.789653288402\n"
     ]
    }
   ],
   "source": [
    "rmse_val = [] #to store rmse values for different k\n",
    "for K in range(20):\n",
    "    K = K+1\n",
    "    model = neighbors.KNeighborsRegressor(n_neighbors = K)\n",
    "\n",
    "    model.fit(X_train, y_train)  #fit the model\n",
    "    pred=model.predict(X_test) #make prediction on test set\n",
    "    error = sqrt(mean_squared_error(y_test,pred)) #calculate rmse\n",
    "    rmse_val.append(error) #store rmse values\n",
    "    print('RMSE value for k= ' , K , 'is:', error)"
   ]
  },
  {
   "cell_type": "code",
   "execution_count": 69,
   "metadata": {},
   "outputs": [
    {
     "data": {
      "text/plain": [
       "<matplotlib.axes._subplots.AxesSubplot at 0x24dbf706a58>"
      ]
     },
     "execution_count": 69,
     "metadata": {},
     "output_type": "execute_result"
    },
    {
     "data": {
      "image/png": "[encoded data removed]",
      "text/plain": [
       "<Figure size 432x288 with 1 Axes>"
      ]
     },
     "metadata": {},
     "output_type": "display_data"
    }
   ],
   "source": [
    "#plotting the rmse values against k values\n",
    "curve = pd.DataFrame(rmse_val) #elbow curve \n",
    "curve.plot()"
   ]
  },
  {
   "cell_type": "code",
   "execution_count": 72,
   "metadata": {},
   "outputs": [
    {
     "data": {
      "text/plain": [
       "{'n_neighbors': 2}"
      ]
     },
     "execution_count": 72,
     "metadata": {},
     "output_type": "execute_result"
    }
   ],
   "source": [
    "from sklearn.model_selection import GridSearchCV\n",
    "params = {'n_neighbors':list(range(2,21))} \n",
    "\n",
    "knn = neighbors.KNeighborsRegressor()\n",
    "\n",
    "model = GridSearchCV(knn, params, cv=5)\n",
    "model.fit(X_train,y_train)\n",
    "model.best_params_"
   ]
  },
  {
   "cell_type": "code",
   "execution_count": 27,
   "metadata": {},
   "outputs": [],
   "source": [
    "model_knn = neighbors.KNeighborsRegressor(n_neighbors = 2)"
   ]
  },
  {
   "cell_type": "markdown",
   "metadata": {},
   "source": [
    "## Cross-validated metrics\n",
    "In addition to learning curves, the performance of estimators are evaluated using cross-validated metrics such as 'negative mean squared error' and $R^{2}$ score. The scores are calculated for RandomForest and GradientBoosting regressors using 10-fold cross-validation."
   ]
  },
  {
   "cell_type": "code",
   "execution_count": 28,
   "metadata": {},
   "outputs": [],
   "source": [
    "from sklearn.model_selection import cross_validate\n",
    "\n",
    "# define scoring method\n",
    "scoring = [\"neg_mean_squared_error\", \"r2\"]\n",
    "\n",
    "# obtain cross-validated scores\n",
    "scores_RF = cross_validate(model_RF, X_train, y_train, cv=n_cross_validation, scoring=scoring, return_train_score=True)\n",
    "scores_GB = cross_validate(model_GB, X_train, y_train, cv=n_cross_validation, scoring=scoring, return_train_score=True)\n",
    "\n",
    "# add knn\n",
    "scores_knn = cross_validate(model_knn, X_train, y_train, cv=n_cross_validation, scoring=scoring, return_train_score=True)"
   ]
  },
  {
   "cell_type": "markdown",
   "metadata": {},
   "source": [
    "#### RandomForest cross-validated scores"
   ]
  },
  {
   "cell_type": "code",
   "execution_count": 29,
   "metadata": {},
   "outputs": [
    {
     "name": "stdout",
     "output_type": "stream",
     "text": [
      "(train) negative mean squared error = -1535843.800 (+/- 13229909.022)\n",
      "(validation) negative mean squared error = -1850619.356 (+/- 146340988.820)\n",
      "(train) R2 score = 0.501 (+/- 1.441)\n",
      "(validation) R2 score = 0.421 (+/- 9.601)\n"
     ]
    }
   ],
   "source": [
    "# cross-validated mean squared error\n",
    "print(\"(train) negative mean squared error = %0.3f (+/- %0.3f)\" % (scores_RF[\"train_neg_mean_squared_error\"].mean(), scores_RF[\"train_neg_mean_squared_error\"].std()*100))\n",
    "print(\"(validation) negative mean squared error = %0.3f (+/- %0.3f)\" % (scores_RF[\"test_neg_mean_squared_error\"].mean(), scores_RF[\"test_neg_mean_squared_error\"].std()*100))\n",
    "\n",
    "# cross-validated R2\n",
    "print(\"(train) R2 score = %0.3f (+/- %0.3f)\" % (scores_RF[\"train_r2\"].mean(), scores_RF[\"train_r2\"].std()*100))\n",
    "print(\"(validation) R2 score = %0.3f (+/- %0.3f)\" % (scores_RF[\"test_r2\"].mean(), scores_RF[\"test_r2\"].std()*100))"
   ]
  },
  {
   "cell_type": "markdown",
   "metadata": {},
   "source": [
    "#### GradientBoosting cross-validated scores"
   ]
  },
  {
   "cell_type": "code",
   "execution_count": 30,
   "metadata": {},
   "outputs": [
    {
     "name": "stdout",
     "output_type": "stream",
     "text": [
      "(train) negative mean squared error = -1507187.380 (+/- 15784855.994)\n",
      "(validation) negative mean squared error = -1774698.458 (+/- 136241008.259)\n",
      "(train) R2 score = 0.511 (+/- 2.545)\n",
      "(validation) R2 score = 0.443 (+/- 8.667)\n"
     ]
    }
   ],
   "source": [
    "# cross-validated mean squared error\n",
    "print(\"(train) negative mean squared error = %0.3f (+/- %0.3f)\" % (scores_GB[\"train_neg_mean_squared_error\"].mean(), scores_GB[\"train_neg_mean_squared_error\"].std()*100))\n",
    "print(\"(validation) negative mean squared error = %0.3f (+/- %0.3f)\" % (scores_GB[\"test_neg_mean_squared_error\"].mean(), scores_GB[\"test_neg_mean_squared_error\"].std()*100))\n",
    "\n",
    "# cross-validated R2\n",
    "print(\"(train) R2 score = %0.3f (+/- %0.3f)\" % (scores_GB[\"train_r2\"].mean(), scores_GB[\"train_r2\"].std()*100))\n",
    "print(\"(validation) R2 score = %0.3f (+/- %0.3f)\" % (scores_GB[\"test_r2\"].mean(), scores_GB[\"test_r2\"].std()*100))"
   ]
  },
  {
   "cell_type": "markdown",
   "metadata": {},
   "source": [
    "#### KNN cross-validated scores"
   ]
  },
  {
   "cell_type": "code",
   "execution_count": 31,
   "metadata": {},
   "outputs": [
    {
     "name": "stdout",
     "output_type": "stream",
     "text": [
      "(train) negative mean squared error = -454847.094 (+/- 4656559.708)\n",
      "(validation) negative mean squared error = -1536387.011 (+/- 151779860.942)\n",
      "(train) R2 score = 0.852 (+/- 0.764)\n",
      "(validation) R2 score = 0.552 (+/- 10.563)\n"
     ]
    }
   ],
   "source": [
    "# cross-validated mean squared error\n",
    "print(\"(train) negative mean squared error = %0.3f (+/- %0.3f)\" % (scores_knn[\"train_neg_mean_squared_error\"].mean(), scores_knn[\"train_neg_mean_squared_error\"].std()*100))\n",
    "print(\"(validation) negative mean squared error = %0.3f (+/- %0.3f)\" % (scores_knn[\"test_neg_mean_squared_error\"].mean(), scores_knn[\"test_neg_mean_squared_error\"].std()*100))\n",
    "\n",
    "# cross-validated R2\n",
    "print(\"(train) R2 score = %0.3f (+/- %0.3f)\" % (scores_knn[\"train_r2\"].mean(), scores_knn[\"train_r2\"].std()*100))\n",
    "print(\"(validation) R2 score = %0.3f (+/- %0.3f)\" % (scores_knn[\"test_r2\"].mean(), scores_knn[\"test_r2\"].std()*100))"
   ]
  },
  {
   "cell_type": "markdown",
   "metadata": {},
   "source": [
    "## Fitting models and making prediction\n",
    "In the previous section, the hyperparameters for RandomForest and GradientBoosting are chosen by learning curves and cross-validated scores. Now, the models are trained using the training dataset, and predictions are made on training and test datasets.\n",
    "\n",
    "After making predictions, $R^{2}$ and mean absolute percentage errors are evaluated for both training and test samples."
   ]
  },
  {
   "cell_type": "code",
   "execution_count": 32,
   "metadata": {},
   "outputs": [],
   "source": [
    "# fit train dataset\n",
    "model_RF.fit(X_train,y_train)\n",
    "model_GB.fit(X_train,y_train)\n",
    "model_knn.fit(X_train,y_train)\n",
    "\n",
    "# make prediction on train/test dataset using RandomForest\n",
    "y_pred_train_RF = model_RF.predict(X_train)\n",
    "y_pred_test_RF = model_RF.predict(X_test)\n",
    "\n",
    "# make prediction on train/test dataset using GradientBoosting\n",
    "y_pred_train_GB = model_GB.predict(X_train)\n",
    "y_pred_test_GB = model_GB.predict(X_test)\n",
    "\n",
    "# make prediction on train/test dataset using knn\n",
    "y_pred_train_knn = model_knn.predict(X_train)\n",
    "y_pred_test_knn = model_knn.predict(X_test)"
   ]
  },
  {
   "cell_type": "code",
   "execution_count": 33,
   "metadata": {},
   "outputs": [],
   "source": [
    "from sklearn import metrics\n",
    "\n",
    "# function to calculate mean percentage error\n",
    "def mean_absolute_percentage_error(y_true, y_prediction):\n",
    "    # create np array from list\n",
    "    y_true, y_prediction = np.array(y_true), np.array(y_prediction)\n",
    "\n",
    "    # return mean absolute percentage error\n",
    "    return np.mean(np.abs((y_true - y_prediction) / y_true))"
   ]
  },
  {
   "cell_type": "markdown",
   "metadata": {},
   "source": [
    "#### RandomForest scores"
   ]
  },
  {
   "cell_type": "code",
   "execution_count": 34,
   "metadata": {},
   "outputs": [
    {
     "name": "stdout",
     "output_type": "stream",
     "text": [
      "(train) R2 score = 0.497\n",
      "(train) mean absolute percentage error = 0.435\n",
      "(test) R2 score = 0.407\n",
      "(test) mean absolute percentage error = 0.447\n"
     ]
    }
   ],
   "source": [
    "# train errors using RandomForest\n",
    "print(\"(train) R2 score = %0.3f\" % model_RF.score(X_train, y_train))\n",
    "print(\"(train) mean absolute percentage error = %0.3f\" %mean_absolute_percentage_error(y_train, y_pred_train_RF))\n",
    "\n",
    "# test errors using RandomForest\n",
    "print(\"(test) R2 score = %0.3f\" % model_RF.score(X_test, y_test))\n",
    "print(\"(test) mean absolute percentage error = %0.3f\" %mean_absolute_percentage_error(y_test, y_pred_test_RF))"
   ]
  },
  {
   "cell_type": "markdown",
   "metadata": {},
   "source": [
    "#### GradientBoosting scores"
   ]
  },
  {
   "cell_type": "code",
   "execution_count": 35,
   "metadata": {},
   "outputs": [
    {
     "name": "stdout",
     "output_type": "stream",
     "text": [
      "(train) R2 score = 0.512\n",
      "(train) mean absolute percentage error = 0.413\n",
      "(test) R2 score = 0.424\n",
      "(test) mean absolute percentage error = 0.437\n"
     ]
    }
   ],
   "source": [
    "# train errors using GradientBoosting\n",
    "print(\"(train) R2 score = %0.3f\" % model_GB.score(X_train, y_train))\n",
    "print(\"(train) mean absolute percentage error = %0.3f\" %mean_absolute_percentage_error(y_train, y_pred_train_GB))\n",
    "\n",
    "# test errors using GradientBoosting\n",
    "print(\"(test) R2 score = %0.3f\" % model_GB.score(X_test, y_test))\n",
    "print(\"(test) mean absolute percentage error = %0.3f\" %mean_absolute_percentage_error(y_test, y_pred_test_GB))"
   ]
  },
  {
   "cell_type": "markdown",
   "metadata": {},
   "source": [
    "#### knn scores"
   ]
  },
  {
   "cell_type": "code",
   "execution_count": 36,
   "metadata": {},
   "outputs": [
    {
     "name": "stdout",
     "output_type": "stream",
     "text": [
      "(train) R2 score = 0.856\n",
      "(train) mean absolute percentage error = 0.115\n",
      "(test) R2 score = 0.626\n",
      "(test) mean absolute percentage error = 0.241\n"
     ]
    }
   ],
   "source": [
    "# train errors using GradientBoosting\n",
    "print(\"(train) R2 score = %0.3f\" % model_knn.score(X_train, y_train))\n",
    "print(\"(train) mean absolute percentage error = %0.3f\" %mean_absolute_percentage_error(y_train, y_pred_train_knn))\n",
    "\n",
    "# test errors using GradientBoosting\n",
    "print(\"(test) R2 score = %0.3f\" % model_knn.score(X_test, y_test))\n",
    "print(\"(test) mean absolute percentage error = %0.3f\" %mean_absolute_percentage_error(y_test, y_pred_test_knn))"
   ]
  },
  {
   "cell_type": "markdown",
   "metadata": {},
   "source": [
    "## Scatter Plot: Prediction vs Observed\n",
    "In order to visualize how well the predictions from the regression models agree with observed value, the predictions are plotted against true values. The scatter plots show good linearity between predicted value and true value. GradientBoosting seems to provide better prediction, especially in the range between \\$5,000 and \\$7,500."
   ]
  },
  {
   "cell_type": "code",
   "execution_count": 38,
   "metadata": {},
   "outputs": [
    {
     "data": {
      "image/png": "[encoded data removed]",
      "text/plain": [
       "<Figure size 864x360 with 3 Axes>"
      ]
     },
     "metadata": {},
     "output_type": "display_data"
    }
   ],
   "source": [
    "# make scatter plot\n",
    "fig, (ax1, ax2, ax3) = plt.subplots(1,3,figsize=(12,5))\n",
    "\n",
    "# scatter plot of prediction vs test samples\n",
    "sns.regplot(y_test, y_pred_test_RF, color=\"b\", marker=\"o\", ax=ax1, fit_reg=False,\n",
    "            scatter_kws={'alpha':0.3, 'edgecolors':\"black\", 'linewidths':1})\n",
    "sns.regplot(y_test, y_pred_test_GB, color=\"purple\", marker=\"o\", ax=ax2, fit_reg=False,\n",
    "            scatter_kws={'alpha':0.3, 'edgecolors':\"black\", 'linewidths':1})\n",
    "sns.regplot(y_test, y_pred_test_knn, color=\"purple\", marker=\"o\", ax=ax3, fit_reg=False,\n",
    "            scatter_kws={'alpha':0.3, 'edgecolors':\"black\", 'linewidths':1})\n",
    "\n",
    "# customize plots\n",
    "for ax in (ax1, ax2, ax3):\n",
    "    ax.set_xlim([0,20000])\n",
    "    ax.set_ylim([0,20000])\n",
    "    ax.set_ylabel(\"Prediction ($)\")\n",
    "    ax.set_xlabel(\"True ($)\")\n",
    "\n",
    "ax1.set_title(\"RandomForest\")\n",
    "ax2.set_title(\"GradientBoosting\")\n",
    "ax3.set_title(\"knn\")\n",
    "\n",
    "plt.tight_layout()"
   ]
  },
  {
   "cell_type": "markdown",
   "metadata": {},
   "source": [
    "## Histogram: Percentage Residual\n",
    "The percentage residual of the prediction models are plotted with histograms. The percentage residual is defined by\n",
    "\n",
    "Percentage residual = $(\\hat{y_{i}} - y_{i}) / y_{i}$ where $\\hat{y}$ represent predicted value.\n",
    "\n",
    "The distributions of both RandomForest and GradientBoosting have mean of $\\approx$ -0.05, suggesting that the models are slightly over-estimating rent. The standard deviation is slightly larger for the RandomForest method, but further test is needed to determine if two distributions are statistically different."
   ]
  },
  {
   "cell_type": "code",
   "execution_count": 39,
   "metadata": {},
   "outputs": [],
   "source": [
    "# function to calculate percentage error\n",
    "def percentage_error(y_true, y_pred):\n",
    "    y_true, y_pred = np.array(y_true), np.array(y_pred)\n",
    "    return (y_true - y_pred) / y_true"
   ]
  },
  {
   "cell_type": "code",
   "execution_count": 40,
   "metadata": {
    "scrolled": true
   },
   "outputs": [
    {
     "data": {
      "image/png": "[encoded data removed]",
      "text/plain": [
       "<Figure size 864x360 with 3 Axes>"
      ]
     },
     "metadata": {},
     "output_type": "display_data"
    }
   ],
   "source": [
    "from scipy import stats\n",
    "\n",
    "# create figure and axes\n",
    "fig, (ax1, ax2, ax3) = plt.subplots(1,3,figsize=(12,5))\n",
    "\n",
    "# distribution of percentage error\n",
    "sns.distplot(   percentage_error(y_test, y_pred_test_RF), kde=False,\n",
    "                bins=100, ax=ax1, hist=True, \n",
    "                hist_kws={\"alpha\":0.5, \"color\":\"black\", \"linewidth\":1,\n",
    "                \"edgecolor\":\"black\", \"range\":(-2.5,2.5), \"histtype\":\"stepfilled\"},\n",
    "                label=\"RandomForest\")\n",
    "sns.distplot(   percentage_error(y_test, y_pred_test_GB), kde=False,\n",
    "                bins=100, ax=ax2, hist=True,\n",
    "                hist_kws={\"alpha\":0.5, \"color\":\"r\", \"linewidth\":1,\n",
    "                \"edgecolor\":\"black\", \"range\":(-2.5,2.5), \"histtype\":\"stepfilled\"},\n",
    "                label=\"GradientBoosting\")\n",
    "sns.distplot(   percentage_error(y_test, y_pred_test_knn), kde=False,\n",
    "                bins=100, ax=ax3, hist=True,\n",
    "                hist_kws={\"alpha\":0.5, \"color\":\"r\", \"linewidth\":1,\n",
    "                \"edgecolor\":\"black\", \"range\":(-2.5,2.5), \"histtype\":\"stepfilled\"},\n",
    "                label=\"knn\")\n",
    "\n",
    "# customize plots\n",
    "for ax in (ax1,ax2,ax3):\n",
    "    ax.set_ylabel(\"Samples\")\n",
    "    ax.set_xlabel(\"Percentage residual\")\n",
    "    ax.set_xlim([-1.0,1.0])\n",
    "    ax.legend()\n",
    "\n",
    "plt.tight_layout()"
   ]
  },
  {
   "cell_type": "code",
   "execution_count": 41,
   "metadata": {},
   "outputs": [
    {
     "name": "stdout",
     "output_type": "stream",
     "text": [
      "mean percentage residual = -0.27176319664686355\n",
      "mean percentage residual = -0.2731978809879779\n",
      "mean percentage residual = -0.12000644426721255\n",
      "std percentage residual = 0.6313962539042977\n",
      "std percentage residual = 0.661789290711476\n",
      "std percentage residual = 0.57010810536708\n"
     ]
    }
   ],
   "source": [
    "print(\"mean percentage residual = \" + str(np.array(percentage_error(y_test, y_pred_test_RF)).mean()))\n",
    "print(\"mean percentage residual = \" + str(np.array(percentage_error(y_test, y_pred_test_GB)).mean()))\n",
    "print(\"mean percentage residual = \" + str(np.array(percentage_error(y_test, y_pred_test_knn)).mean()))\n",
    "\n",
    "print(\"std percentage residual = \" + str(np.array(percentage_error(y_test, y_pred_test_RF)).std()))\n",
    "print(\"std percentage residual = \" + str(np.array(percentage_error(y_test, y_pred_test_GB)).std()))\n",
    "print(\"std percentage residual = \" + str(np.array(percentage_error(y_test, y_pred_test_knn)).std()))\n"
   ]
  },
  {
   "cell_type": "markdown",
   "metadata": {},
   "source": [
    "## Scatter Plot: Residual vs Observed\n",
    "Residuals, defined by predicted value - true value ($\\hat{y} - y$), are plotted against observed $y$ for both RandomForest and GradientBoosting. Residuals from training sample and test sample are plotted separately.\n",
    "\n",
    "- The residual distribution of RandomForest regression shows non-random, artificial structure, suggesting that the model isn't describing data very well.\n",
    "- The residual distribution of GradientBoosting is slightly skewed, but we don't see artificial structure as in the RandomForest residual distribution. This also makes sense because from the percentage residual plots, we have learned that both models are slightly over-estimating the data (~5%)."
   ]
  },
  {
   "cell_type": "code",
   "execution_count": 42,
   "metadata": {},
   "outputs": [
    {
     "data": {
      "text/plain": [
       "<matplotlib.legend.Legend at 0x2188c0015c0>"
      ]
     },
     "execution_count": 42,
     "metadata": {},
     "output_type": "execute_result"
    },
    {
     "data": {
      "image/png": "[encoded data removed]",
      "text/plain": [
       "<Figure size 864x360 with 3 Axes>"
      ]
     },
     "metadata": {},
     "output_type": "display_data"
    }
   ],
   "source": [
    "# create figure and axes\n",
    "fig, (ax1, ax2, ax3) = plt.subplots(1,3,figsize=(12,5))\n",
    "\n",
    "# make residual plot for RandomForest\n",
    "sns.regplot(y_train, y_pred_train_RF - y_train,\n",
    "            color=\"orange\", marker=\"o\", ax=ax1, fit_reg=False, label=\"Train residual\",\n",
    "            scatter_kws={'alpha':0.4, 'edgecolors':\"black\", 'linewidths':1})\n",
    "sns.regplot(y_test, y_pred_test_RF - y_test,\n",
    "            color=\"r\", marker=\"o\",  ax=ax1, fit_reg=False, label=\"Test residual\",\n",
    "            scatter_kws={'alpha':0.4, 'edgecolors':\"black\", 'linewidths':1})\n",
    "\n",
    "# make residual plot for GradientBoosting\n",
    "sns.regplot(y_train, y_pred_train_GB - y_train,\n",
    "            color=\"orange\", marker=\"o\", ax=ax2, fit_reg=False, label=\"Train residual\",\n",
    "            scatter_kws={'alpha':0.4, 'edgecolors':\"black\", 'linewidths':1})\n",
    "sns.regplot(y_test, y_pred_test_GB - y_test,\n",
    "            color=\"r\", marker=\"o\",  ax=ax2, fit_reg=False, label=\"Test residual\",\n",
    "            scatter_kws={'alpha':0.4, 'edgecolors':\"black\", 'linewidths':1})\n",
    "\n",
    "# make residual plot for knn\n",
    "sns.regplot(y_train, y_pred_train_knn - y_train,\n",
    "            color=\"orange\", marker=\"o\", ax=ax3, fit_reg=False, label=\"Train residual\",\n",
    "            scatter_kws={'alpha':0.4, 'edgecolors':\"black\", 'linewidths':1})\n",
    "sns.regplot(y_test, y_pred_test_knn - y_test,\n",
    "            color=\"r\", marker=\"o\",  ax=ax3, fit_reg=False, label=\"Test residual\",\n",
    "            scatter_kws={'alpha':0.4, 'edgecolors':\"black\", 'linewidths':1})\n",
    "\n",
    "\n",
    "# customize plot\n",
    "for ax in (ax1, ax2, ax3):\n",
    "    ax.set_ylabel(\"Residual ($)\")\n",
    "    ax.set_xlabel(\"Rent ($)\")\n",
    "    ax.set_ylim([-1e4,1e4])\n",
    "    ax.set_xlim([0,1.5e4])\n",
    "    ax.legend()\n",
    "    \n",
    "ax1.set_title(\"RandomForest\")\n",
    "ax2.set_title(\"GradientBoosting\")\n",
    "ax3.set_title(\"knn\")\n",
    "\n",
    "plt.tight_layout()\n",
    "plt.legend()"
   ]
  },
  {
   "cell_type": "markdown",
   "metadata": {},
   "source": [
    "## Important Features\n",
    "The features that contributed the most in building the regression models are obtained by feature\\_importances\\_ method. Since there are more than 80 features considered in this analysis, only 10 most important features are plotted.\n",
    "\n",
    "In RandomForest regression model, top five features dominated in building the model. In GradientBoosting regression model, more features contributed to the model, but 'number of bathrooms' made the most significant contribution to the model."
   ]
  },
  {
   "cell_type": "code",
   "execution_count": 37,
   "metadata": {},
   "outputs": [
    {
     "data": {
      "image/png": "[encoded data removed]",
      "text/plain": [
       "<Figure size 864x360 with 2 Axes>"
      ]
     },
     "metadata": {},
     "output_type": "display_data"
    }
   ],
   "source": [
    "# create figure and axes\n",
    "fig, (ax1, ax2) = plt.subplots(1,2,figsize=(12,5))\n",
    "\n",
    "# get feature name and feature importance\n",
    "feature_name = X.columns.values\n",
    "feature_importance_RF = model_RF.feature_importances_\n",
    "feature_importance_GB = model_GB.feature_importances_\n",
    "\n",
    "# pick top features\n",
    "n_features = 10\n",
    "top_features_RF = sorted(   zip(feature_name, feature_importance_RF),\n",
    "                            key=lambda x:x[1], reverse=True)[:n_features]\n",
    "top_features_GB = sorted(   zip(feature_name, feature_importance_GB),\n",
    "                            key=lambda x:x[1], reverse=True)[:n_features]\n",
    "\n",
    "# make horizontal bar plot\n",
    "ax1.barh(np.arange(n_features), [x[1] for x in top_features_RF], color=\"r\", alpha=0.7, edgecolor=\"black\")\n",
    "ax2.barh(np.arange(n_features), [x[1] for x in top_features_GB], color=\"purple\", alpha=0.7, edgecolor=\"black\")\n",
    "\n",
    "# customize plots\n",
    "for ax in (ax1, ax2):\n",
    "    ax.set_yticks(np.arange(n_features))\n",
    "    ax.set_yticklabels([x[0] for x in top_features_RF])\n",
    "    ax.invert_yaxis()\n",
    "    ax.set_xlabel(\"Feature importance\")\n",
    "    \n",
    "ax1.set_title(\"RandomForest\")\n",
    "ax2.set_title(\"GradientBoosting\")\n",
    "\n",
    "plt.tight_layout()\n",
    "plt.tick_params(axis='both', which='major', labelsize=8)"
   ]
  },
  {
   "cell_type": "markdown",
   "metadata": {},
   "source": [
    "## Conclusion\n",
    "In this notebook, two regression models, RandomForest and GradientBoosting, are compared. Although two models provided a similar performance by $R^{2}$ score and percentage residual distribution, GradientBoosting seems to provide more reliable prediction of data because in GradientBoosting,\n",
    "- Prediction vs Observed scatter plot seems to be more linear.\n",
    "- Percentage residual has narrower distribution (smaller $\\sigma$).\n",
    "- Residual vs Observed scatter plot shows more natural, randomness.\n",
    "- Relative to RandomForest, more features contributed to the model.\n",
    "\n",
    "However, the prediction made by the GradientBoosting regression model is still limited for the following reasons.\n",
    "- $R^{2} \\approx $ 60%  suggests that not all variance in data can be explained by these models.\n",
    "- The large standard deviation in percentage residual ($\\sigma \\approx$ 0.22) suggests that the prediction will be off by more than 22% with probability of ~30%."
   ]
  }
 ],
 "metadata": {
  "kernelspec": {
   "display_name": "Python 3",
   "language": "python",
   "name": "python3"
  },
  "language_info": {
   "codemirror_mode": {
    "name": "ipython",
    "version": 3
   },
   "file_extension": ".py",
   "mimetype": "text/x-python",
   "name": "python",
   "nbconvert_exporter": "python",
   "pygments_lexer": "ipython3",
   "version": "3.7.3"
  }
 },
 "nbformat": 4,
 "nbformat_minor": 2
}
